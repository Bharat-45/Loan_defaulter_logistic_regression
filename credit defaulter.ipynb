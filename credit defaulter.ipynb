{
 "cells": [
  {
   "cell_type": "markdown",
   "metadata": {},
   "source": [
    "# Bharat Ramchire"
   ]
  },
  {
   "cell_type": "code",
   "execution_count": 2,
   "metadata": {},
   "outputs": [],
   "source": [
    "#importing libraries\n",
    "import numpy as np\n",
    "import pandas as pd\n",
    "import matplotlib.pyplot as plt\n",
    "import seaborn as sns\n",
    "%matplotlib inline"
   ]
  },
  {
   "cell_type": "code",
   "execution_count": 3,
   "metadata": {},
   "outputs": [],
   "source": [
    "##data loading"
   ]
  },
  {
   "cell_type": "code",
   "execution_count": 4,
   "metadata": {},
   "outputs": [],
   "source": [
    "cd=pd.read_csv(\"BankCreditCard.csv\")"
   ]
  },
  {
   "cell_type": "code",
   "execution_count": 5,
   "metadata": {},
   "outputs": [
    {
     "data": {
      "text/html": [
       "<div>\n",
       "<style scoped>\n",
       "    .dataframe tbody tr th:only-of-type {\n",
       "        vertical-align: middle;\n",
       "    }\n",
       "\n",
       "    .dataframe tbody tr th {\n",
       "        vertical-align: top;\n",
       "    }\n",
       "\n",
       "    .dataframe thead th {\n",
       "        text-align: right;\n",
       "    }\n",
       "</style>\n",
       "<table border=\"1\" class=\"dataframe\">\n",
       "  <thead>\n",
       "    <tr style=\"text-align: right;\">\n",
       "      <th></th>\n",
       "      <th>Customer ID</th>\n",
       "      <th>Credit_Amount</th>\n",
       "      <th>Gender</th>\n",
       "      <th>Academic_Qualification</th>\n",
       "      <th>Marital</th>\n",
       "      <th>Age_Years</th>\n",
       "      <th>Repayment_Status_Jan</th>\n",
       "      <th>Repayment_Status_Feb</th>\n",
       "      <th>Repayment_Status_March</th>\n",
       "      <th>Repayment_Status_April</th>\n",
       "      <th>...</th>\n",
       "      <th>April_Bill_Amount</th>\n",
       "      <th>May_Bill_Amount</th>\n",
       "      <th>June_Bill_Amount</th>\n",
       "      <th>Previous_Payment_Jan</th>\n",
       "      <th>Previous_Payment_Feb</th>\n",
       "      <th>Previous_Payment_March</th>\n",
       "      <th>Previous_Payment_April</th>\n",
       "      <th>Previous_Payment_May</th>\n",
       "      <th>Previous_Payment_June</th>\n",
       "      <th>Default_Payment</th>\n",
       "    </tr>\n",
       "  </thead>\n",
       "  <tbody>\n",
       "    <tr>\n",
       "      <th>0</th>\n",
       "      <td>1</td>\n",
       "      <td>20000.0</td>\n",
       "      <td>2</td>\n",
       "      <td>2</td>\n",
       "      <td>1</td>\n",
       "      <td>24</td>\n",
       "      <td>2</td>\n",
       "      <td>2</td>\n",
       "      <td>0</td>\n",
       "      <td>0</td>\n",
       "      <td>...</td>\n",
       "      <td>0.0</td>\n",
       "      <td>0.0</td>\n",
       "      <td>0.0</td>\n",
       "      <td>0.0</td>\n",
       "      <td>679.0</td>\n",
       "      <td>0.0</td>\n",
       "      <td>0.0</td>\n",
       "      <td>0.0</td>\n",
       "      <td>0.0</td>\n",
       "      <td>1</td>\n",
       "    </tr>\n",
       "    <tr>\n",
       "      <th>1</th>\n",
       "      <td>2</td>\n",
       "      <td>220000.0</td>\n",
       "      <td>2</td>\n",
       "      <td>2</td>\n",
       "      <td>2</td>\n",
       "      <td>26</td>\n",
       "      <td>0</td>\n",
       "      <td>2</td>\n",
       "      <td>0</td>\n",
       "      <td>0</td>\n",
       "      <td>...</td>\n",
       "      <td>3272.0</td>\n",
       "      <td>3455.0</td>\n",
       "      <td>3261.0</td>\n",
       "      <td>0.0</td>\n",
       "      <td>2000.0</td>\n",
       "      <td>1000.0</td>\n",
       "      <td>1000.0</td>\n",
       "      <td>0.0</td>\n",
       "      <td>2000.0</td>\n",
       "      <td>1</td>\n",
       "    </tr>\n",
       "    <tr>\n",
       "      <th>2</th>\n",
       "      <td>3</td>\n",
       "      <td>90000.0</td>\n",
       "      <td>2</td>\n",
       "      <td>2</td>\n",
       "      <td>2</td>\n",
       "      <td>34</td>\n",
       "      <td>0</td>\n",
       "      <td>0</td>\n",
       "      <td>0</td>\n",
       "      <td>0</td>\n",
       "      <td>...</td>\n",
       "      <td>24332.0</td>\n",
       "      <td>14848.0</td>\n",
       "      <td>15548.0</td>\n",
       "      <td>1619.0</td>\n",
       "      <td>2500.0</td>\n",
       "      <td>1000.0</td>\n",
       "      <td>1000.0</td>\n",
       "      <td>1000.0</td>\n",
       "      <td>5000.0</td>\n",
       "      <td>0</td>\n",
       "    </tr>\n",
       "    <tr>\n",
       "      <th>3</th>\n",
       "      <td>4</td>\n",
       "      <td>50000.0</td>\n",
       "      <td>2</td>\n",
       "      <td>2</td>\n",
       "      <td>1</td>\n",
       "      <td>37</td>\n",
       "      <td>0</td>\n",
       "      <td>0</td>\n",
       "      <td>0</td>\n",
       "      <td>0</td>\n",
       "      <td>...</td>\n",
       "      <td>29324.0</td>\n",
       "      <td>28858.0</td>\n",
       "      <td>28547.0</td>\n",
       "      <td>3000.0</td>\n",
       "      <td>2029.0</td>\n",
       "      <td>1200.0</td>\n",
       "      <td>1100.0</td>\n",
       "      <td>1069.0</td>\n",
       "      <td>1000.0</td>\n",
       "      <td>0</td>\n",
       "    </tr>\n",
       "    <tr>\n",
       "      <th>4</th>\n",
       "      <td>5</td>\n",
       "      <td>50000.0</td>\n",
       "      <td>1</td>\n",
       "      <td>2</td>\n",
       "      <td>1</td>\n",
       "      <td>57</td>\n",
       "      <td>0</td>\n",
       "      <td>0</td>\n",
       "      <td>0</td>\n",
       "      <td>0</td>\n",
       "      <td>...</td>\n",
       "      <td>20940.0</td>\n",
       "      <td>18146.0</td>\n",
       "      <td>18131.0</td>\n",
       "      <td>3000.0</td>\n",
       "      <td>36672.0</td>\n",
       "      <td>10000.0</td>\n",
       "      <td>9000.0</td>\n",
       "      <td>689.0</td>\n",
       "      <td>679.0</td>\n",
       "      <td>0</td>\n",
       "    </tr>\n",
       "  </tbody>\n",
       "</table>\n",
       "<p>5 rows × 25 columns</p>\n",
       "</div>"
      ],
      "text/plain": [
       "   Customer ID  Credit_Amount  Gender  Academic_Qualification  Marital  \\\n",
       "0            1        20000.0       2                       2        1   \n",
       "1            2       220000.0       2                       2        2   \n",
       "2            3        90000.0       2                       2        2   \n",
       "3            4        50000.0       2                       2        1   \n",
       "4            5        50000.0       1                       2        1   \n",
       "\n",
       "   Age_Years  Repayment_Status_Jan  Repayment_Status_Feb  \\\n",
       "0         24                     2                     2   \n",
       "1         26                     0                     2   \n",
       "2         34                     0                     0   \n",
       "3         37                     0                     0   \n",
       "4         57                     0                     0   \n",
       "\n",
       "   Repayment_Status_March  Repayment_Status_April  ...  April_Bill_Amount  \\\n",
       "0                       0                       0  ...                0.0   \n",
       "1                       0                       0  ...             3272.0   \n",
       "2                       0                       0  ...            24332.0   \n",
       "3                       0                       0  ...            29324.0   \n",
       "4                       0                       0  ...            20940.0   \n",
       "\n",
       "   May_Bill_Amount  June_Bill_Amount  Previous_Payment_Jan  \\\n",
       "0              0.0               0.0                   0.0   \n",
       "1           3455.0            3261.0                   0.0   \n",
       "2          14848.0           15548.0                1619.0   \n",
       "3          28858.0           28547.0                3000.0   \n",
       "4          18146.0           18131.0                3000.0   \n",
       "\n",
       "   Previous_Payment_Feb  Previous_Payment_March  Previous_Payment_April  \\\n",
       "0                 679.0                     0.0                     0.0   \n",
       "1                2000.0                  1000.0                  1000.0   \n",
       "2                2500.0                  1000.0                  1000.0   \n",
       "3                2029.0                  1200.0                  1100.0   \n",
       "4               36672.0                 10000.0                  9000.0   \n",
       "\n",
       "   Previous_Payment_May  Previous_Payment_June  Default_Payment  \n",
       "0                   0.0                    0.0                1  \n",
       "1                   0.0                 2000.0                1  \n",
       "2                1000.0                 5000.0                0  \n",
       "3                1069.0                 1000.0                0  \n",
       "4                 689.0                  679.0                0  \n",
       "\n",
       "[5 rows x 25 columns]"
      ]
     },
     "execution_count": 5,
     "metadata": {},
     "output_type": "execute_result"
    }
   ],
   "source": [
    "cd.head()"
   ]
  },
  {
   "cell_type": "code",
   "execution_count": 6,
   "metadata": {},
   "outputs": [
    {
     "data": {
      "text/html": [
       "<div>\n",
       "<style scoped>\n",
       "    .dataframe tbody tr th:only-of-type {\n",
       "        vertical-align: middle;\n",
       "    }\n",
       "\n",
       "    .dataframe tbody tr th {\n",
       "        vertical-align: top;\n",
       "    }\n",
       "\n",
       "    .dataframe thead th {\n",
       "        text-align: right;\n",
       "    }\n",
       "</style>\n",
       "<table border=\"1\" class=\"dataframe\">\n",
       "  <thead>\n",
       "    <tr style=\"text-align: right;\">\n",
       "      <th></th>\n",
       "      <th>Customer ID</th>\n",
       "      <th>Credit_Amount</th>\n",
       "      <th>Gender</th>\n",
       "      <th>Academic_Qualification</th>\n",
       "      <th>Marital</th>\n",
       "      <th>Age_Years</th>\n",
       "      <th>Repayment_Status_Jan</th>\n",
       "      <th>Repayment_Status_Feb</th>\n",
       "      <th>Repayment_Status_March</th>\n",
       "      <th>Repayment_Status_April</th>\n",
       "      <th>...</th>\n",
       "      <th>April_Bill_Amount</th>\n",
       "      <th>May_Bill_Amount</th>\n",
       "      <th>June_Bill_Amount</th>\n",
       "      <th>Previous_Payment_Jan</th>\n",
       "      <th>Previous_Payment_Feb</th>\n",
       "      <th>Previous_Payment_March</th>\n",
       "      <th>Previous_Payment_April</th>\n",
       "      <th>Previous_Payment_May</th>\n",
       "      <th>Previous_Payment_June</th>\n",
       "      <th>Default_Payment</th>\n",
       "    </tr>\n",
       "  </thead>\n",
       "  <tbody>\n",
       "    <tr>\n",
       "      <th>count</th>\n",
       "      <td>30000.000000</td>\n",
       "      <td>3.000000e+04</td>\n",
       "      <td>30000.000000</td>\n",
       "      <td>30000.000000</td>\n",
       "      <td>30000.000000</td>\n",
       "      <td>30000.000000</td>\n",
       "      <td>30000.000000</td>\n",
       "      <td>30000.000000</td>\n",
       "      <td>30000.000000</td>\n",
       "      <td>30000.00000</td>\n",
       "      <td>...</td>\n",
       "      <td>30000.000000</td>\n",
       "      <td>30000.000000</td>\n",
       "      <td>30000.000000</td>\n",
       "      <td>30000.000000</td>\n",
       "      <td>3.000000e+04</td>\n",
       "      <td>30000.000000</td>\n",
       "      <td>30000.000000</td>\n",
       "      <td>30000.00000</td>\n",
       "      <td>30000.000000</td>\n",
       "      <td>30000.000000</td>\n",
       "    </tr>\n",
       "    <tr>\n",
       "      <th>mean</th>\n",
       "      <td>15000.500000</td>\n",
       "      <td>1.929173e+05</td>\n",
       "      <td>1.603733</td>\n",
       "      <td>1.855933</td>\n",
       "      <td>1.551867</td>\n",
       "      <td>35.485500</td>\n",
       "      <td>0.355200</td>\n",
       "      <td>0.319300</td>\n",
       "      <td>0.302967</td>\n",
       "      <td>0.25670</td>\n",
       "      <td>...</td>\n",
       "      <td>55122.263933</td>\n",
       "      <td>39939.618800</td>\n",
       "      <td>38506.051533</td>\n",
       "      <td>6285.653867</td>\n",
       "      <td>7.466544e+03</td>\n",
       "      <td>5836.140567</td>\n",
       "      <td>5127.687433</td>\n",
       "      <td>5261.19120</td>\n",
       "      <td>5215.502567</td>\n",
       "      <td>0.221200</td>\n",
       "    </tr>\n",
       "    <tr>\n",
       "      <th>std</th>\n",
       "      <td>8660.398374</td>\n",
       "      <td>1.322888e+05</td>\n",
       "      <td>0.489129</td>\n",
       "      <td>0.794397</td>\n",
       "      <td>0.521970</td>\n",
       "      <td>9.217904</td>\n",
       "      <td>0.746984</td>\n",
       "      <td>0.796012</td>\n",
       "      <td>0.781792</td>\n",
       "      <td>0.74388</td>\n",
       "      <td>...</td>\n",
       "      <td>83577.329356</td>\n",
       "      <td>60373.934792</td>\n",
       "      <td>59104.280171</td>\n",
       "      <td>18944.920299</td>\n",
       "      <td>3.467950e+04</td>\n",
       "      <td>20696.306703</td>\n",
       "      <td>17103.762740</td>\n",
       "      <td>16989.50685</td>\n",
       "      <td>17777.465775</td>\n",
       "      <td>0.415062</td>\n",
       "    </tr>\n",
       "    <tr>\n",
       "      <th>min</th>\n",
       "      <td>1.000000</td>\n",
       "      <td>2.000000e+04</td>\n",
       "      <td>1.000000</td>\n",
       "      <td>1.000000</td>\n",
       "      <td>0.000000</td>\n",
       "      <td>21.000000</td>\n",
       "      <td>0.000000</td>\n",
       "      <td>0.000000</td>\n",
       "      <td>0.000000</td>\n",
       "      <td>0.00000</td>\n",
       "      <td>...</td>\n",
       "      <td>-270000.000000</td>\n",
       "      <td>-81334.000000</td>\n",
       "      <td>-338603.000000</td>\n",
       "      <td>0.000000</td>\n",
       "      <td>0.000000e+00</td>\n",
       "      <td>0.000000</td>\n",
       "      <td>0.000000</td>\n",
       "      <td>0.00000</td>\n",
       "      <td>0.000000</td>\n",
       "      <td>0.000000</td>\n",
       "    </tr>\n",
       "    <tr>\n",
       "      <th>25%</th>\n",
       "      <td>7500.750000</td>\n",
       "      <td>5.000000e+04</td>\n",
       "      <td>1.000000</td>\n",
       "      <td>1.000000</td>\n",
       "      <td>1.000000</td>\n",
       "      <td>28.000000</td>\n",
       "      <td>0.000000</td>\n",
       "      <td>0.000000</td>\n",
       "      <td>0.000000</td>\n",
       "      <td>0.00000</td>\n",
       "      <td>...</td>\n",
       "      <td>2671.500000</td>\n",
       "      <td>1763.000000</td>\n",
       "      <td>1256.000000</td>\n",
       "      <td>1000.000000</td>\n",
       "      <td>7.700000e+02</td>\n",
       "      <td>550.000000</td>\n",
       "      <td>333.000000</td>\n",
       "      <td>310.00000</td>\n",
       "      <td>117.750000</td>\n",
       "      <td>0.000000</td>\n",
       "    </tr>\n",
       "    <tr>\n",
       "      <th>50%</th>\n",
       "      <td>15000.500000</td>\n",
       "      <td>2.200000e+05</td>\n",
       "      <td>2.000000</td>\n",
       "      <td>2.000000</td>\n",
       "      <td>2.000000</td>\n",
       "      <td>34.000000</td>\n",
       "      <td>0.000000</td>\n",
       "      <td>0.000000</td>\n",
       "      <td>0.000000</td>\n",
       "      <td>0.00000</td>\n",
       "      <td>...</td>\n",
       "      <td>25629.000000</td>\n",
       "      <td>18043.000000</td>\n",
       "      <td>17071.000000</td>\n",
       "      <td>3000.000000</td>\n",
       "      <td>2.542000e+03</td>\n",
       "      <td>1900.000000</td>\n",
       "      <td>1500.000000</td>\n",
       "      <td>1539.00000</td>\n",
       "      <td>1500.000000</td>\n",
       "      <td>0.000000</td>\n",
       "    </tr>\n",
       "    <tr>\n",
       "      <th>75%</th>\n",
       "      <td>22500.250000</td>\n",
       "      <td>2.700000e+05</td>\n",
       "      <td>2.000000</td>\n",
       "      <td>2.000000</td>\n",
       "      <td>2.000000</td>\n",
       "      <td>41.000000</td>\n",
       "      <td>0.000000</td>\n",
       "      <td>0.000000</td>\n",
       "      <td>0.000000</td>\n",
       "      <td>0.00000</td>\n",
       "      <td>...</td>\n",
       "      <td>54508.500000</td>\n",
       "      <td>50190.500000</td>\n",
       "      <td>48655.250000</td>\n",
       "      <td>6000.000000</td>\n",
       "      <td>5.000000e+03</td>\n",
       "      <td>5500.000000</td>\n",
       "      <td>4013.250000</td>\n",
       "      <td>5000.00000</td>\n",
       "      <td>4000.000000</td>\n",
       "      <td>0.000000</td>\n",
       "    </tr>\n",
       "    <tr>\n",
       "      <th>max</th>\n",
       "      <td>30000.000000</td>\n",
       "      <td>2.000000e+06</td>\n",
       "      <td>2.000000</td>\n",
       "      <td>6.000000</td>\n",
       "      <td>3.000000</td>\n",
       "      <td>79.000000</td>\n",
       "      <td>6.000000</td>\n",
       "      <td>6.000000</td>\n",
       "      <td>6.000000</td>\n",
       "      <td>6.00000</td>\n",
       "      <td>...</td>\n",
       "      <td>992596.000000</td>\n",
       "      <td>827171.000000</td>\n",
       "      <td>861664.000000</td>\n",
       "      <td>973663.000000</td>\n",
       "      <td>2.674259e+06</td>\n",
       "      <td>999055.000000</td>\n",
       "      <td>538897.000000</td>\n",
       "      <td>536539.00000</td>\n",
       "      <td>528666.000000</td>\n",
       "      <td>1.000000</td>\n",
       "    </tr>\n",
       "  </tbody>\n",
       "</table>\n",
       "<p>8 rows × 25 columns</p>\n",
       "</div>"
      ],
      "text/plain": [
       "        Customer ID  Credit_Amount        Gender  Academic_Qualification  \\\n",
       "count  30000.000000   3.000000e+04  30000.000000            30000.000000   \n",
       "mean   15000.500000   1.929173e+05      1.603733                1.855933   \n",
       "std     8660.398374   1.322888e+05      0.489129                0.794397   \n",
       "min        1.000000   2.000000e+04      1.000000                1.000000   \n",
       "25%     7500.750000   5.000000e+04      1.000000                1.000000   \n",
       "50%    15000.500000   2.200000e+05      2.000000                2.000000   \n",
       "75%    22500.250000   2.700000e+05      2.000000                2.000000   \n",
       "max    30000.000000   2.000000e+06      2.000000                6.000000   \n",
       "\n",
       "            Marital     Age_Years  Repayment_Status_Jan  Repayment_Status_Feb  \\\n",
       "count  30000.000000  30000.000000          30000.000000          30000.000000   \n",
       "mean       1.551867     35.485500              0.355200              0.319300   \n",
       "std        0.521970      9.217904              0.746984              0.796012   \n",
       "min        0.000000     21.000000              0.000000              0.000000   \n",
       "25%        1.000000     28.000000              0.000000              0.000000   \n",
       "50%        2.000000     34.000000              0.000000              0.000000   \n",
       "75%        2.000000     41.000000              0.000000              0.000000   \n",
       "max        3.000000     79.000000              6.000000              6.000000   \n",
       "\n",
       "       Repayment_Status_March  Repayment_Status_April  ...  April_Bill_Amount  \\\n",
       "count            30000.000000             30000.00000  ...       30000.000000   \n",
       "mean                 0.302967                 0.25670  ...       55122.263933   \n",
       "std                  0.781792                 0.74388  ...       83577.329356   \n",
       "min                  0.000000                 0.00000  ...     -270000.000000   \n",
       "25%                  0.000000                 0.00000  ...        2671.500000   \n",
       "50%                  0.000000                 0.00000  ...       25629.000000   \n",
       "75%                  0.000000                 0.00000  ...       54508.500000   \n",
       "max                  6.000000                 6.00000  ...      992596.000000   \n",
       "\n",
       "       May_Bill_Amount  June_Bill_Amount  Previous_Payment_Jan  \\\n",
       "count     30000.000000      30000.000000          30000.000000   \n",
       "mean      39939.618800      38506.051533           6285.653867   \n",
       "std       60373.934792      59104.280171          18944.920299   \n",
       "min      -81334.000000    -338603.000000              0.000000   \n",
       "25%        1763.000000       1256.000000           1000.000000   \n",
       "50%       18043.000000      17071.000000           3000.000000   \n",
       "75%       50190.500000      48655.250000           6000.000000   \n",
       "max      827171.000000     861664.000000         973663.000000   \n",
       "\n",
       "       Previous_Payment_Feb  Previous_Payment_March  Previous_Payment_April  \\\n",
       "count          3.000000e+04            30000.000000            30000.000000   \n",
       "mean           7.466544e+03             5836.140567             5127.687433   \n",
       "std            3.467950e+04            20696.306703            17103.762740   \n",
       "min            0.000000e+00                0.000000                0.000000   \n",
       "25%            7.700000e+02              550.000000              333.000000   \n",
       "50%            2.542000e+03             1900.000000             1500.000000   \n",
       "75%            5.000000e+03             5500.000000             4013.250000   \n",
       "max            2.674259e+06           999055.000000           538897.000000   \n",
       "\n",
       "       Previous_Payment_May  Previous_Payment_June  Default_Payment  \n",
       "count           30000.00000           30000.000000     30000.000000  \n",
       "mean             5261.19120            5215.502567         0.221200  \n",
       "std             16989.50685           17777.465775         0.415062  \n",
       "min                 0.00000               0.000000         0.000000  \n",
       "25%               310.00000             117.750000         0.000000  \n",
       "50%              1539.00000            1500.000000         0.000000  \n",
       "75%              5000.00000            4000.000000         0.000000  \n",
       "max            536539.00000          528666.000000         1.000000  \n",
       "\n",
       "[8 rows x 25 columns]"
      ]
     },
     "execution_count": 6,
     "metadata": {},
     "output_type": "execute_result"
    }
   ],
   "source": [
    "cd.describe()"
   ]
  },
  {
   "cell_type": "code",
   "execution_count": 7,
   "metadata": {},
   "outputs": [
    {
     "data": {
      "text/plain": [
       "(30000, 25)"
      ]
     },
     "execution_count": 7,
     "metadata": {},
     "output_type": "execute_result"
    }
   ],
   "source": [
    "cd.shape"
   ]
  },
  {
   "cell_type": "code",
   "execution_count": 8,
   "metadata": {},
   "outputs": [
    {
     "data": {
      "text/plain": [
       "Customer ID               0\n",
       "Credit_Amount             0\n",
       "Gender                    0\n",
       "Academic_Qualification    0\n",
       "Marital                   0\n",
       "Age_Years                 0\n",
       "Repayment_Status_Jan      0\n",
       "Repayment_Status_Feb      0\n",
       "Repayment_Status_March    0\n",
       "Repayment_Status_April    0\n",
       "Repayment_Status_May      0\n",
       "Repayment_Status_June     0\n",
       "Jan_Bill_Amount           0\n",
       "Feb_Bill_Amount           0\n",
       "March_Bill_Amount         0\n",
       "April_Bill_Amount         0\n",
       "May_Bill_Amount           0\n",
       "June_Bill_Amount          0\n",
       "Previous_Payment_Jan      0\n",
       "Previous_Payment_Feb      0\n",
       "Previous_Payment_March    0\n",
       "Previous_Payment_April    0\n",
       "Previous_Payment_May      0\n",
       "Previous_Payment_June     0\n",
       "Default_Payment           0\n",
       "dtype: int64"
      ]
     },
     "execution_count": 8,
     "metadata": {},
     "output_type": "execute_result"
    }
   ],
   "source": [
    "cd.isna().sum()"
   ]
  },
  {
   "cell_type": "code",
   "execution_count": 9,
   "metadata": {},
   "outputs": [],
   "source": [
    "##exploratory data analysis"
   ]
  },
  {
   "cell_type": "code",
   "execution_count": 10,
   "metadata": {},
   "outputs": [
    {
     "name": "stdout",
     "output_type": "stream",
     "text": [
      "<class 'pandas.core.frame.DataFrame'>\n",
      "RangeIndex: 30000 entries, 0 to 29999\n",
      "Data columns (total 25 columns):\n",
      " #   Column                  Non-Null Count  Dtype  \n",
      "---  ------                  --------------  -----  \n",
      " 0   Customer ID             30000 non-null  int64  \n",
      " 1   Credit_Amount           30000 non-null  float64\n",
      " 2   Gender                  30000 non-null  int64  \n",
      " 3   Academic_Qualification  30000 non-null  int64  \n",
      " 4   Marital                 30000 non-null  int64  \n",
      " 5   Age_Years               30000 non-null  int64  \n",
      " 6   Repayment_Status_Jan    30000 non-null  int64  \n",
      " 7   Repayment_Status_Feb    30000 non-null  int64  \n",
      " 8   Repayment_Status_March  30000 non-null  int64  \n",
      " 9   Repayment_Status_April  30000 non-null  int64  \n",
      " 10  Repayment_Status_May    30000 non-null  int64  \n",
      " 11  Repayment_Status_June   30000 non-null  int64  \n",
      " 12  Jan_Bill_Amount         30000 non-null  float64\n",
      " 13  Feb_Bill_Amount         30000 non-null  float64\n",
      " 14  March_Bill_Amount       30000 non-null  float64\n",
      " 15  April_Bill_Amount       30000 non-null  float64\n",
      " 16  May_Bill_Amount         30000 non-null  float64\n",
      " 17  June_Bill_Amount        30000 non-null  float64\n",
      " 18  Previous_Payment_Jan    30000 non-null  float64\n",
      " 19  Previous_Payment_Feb    30000 non-null  float64\n",
      " 20  Previous_Payment_March  30000 non-null  float64\n",
      " 21  Previous_Payment_April  30000 non-null  float64\n",
      " 22  Previous_Payment_May    30000 non-null  float64\n",
      " 23  Previous_Payment_June   30000 non-null  float64\n",
      " 24  Default_Payment         30000 non-null  int64  \n",
      "dtypes: float64(13), int64(12)\n",
      "memory usage: 5.7 MB\n"
     ]
    }
   ],
   "source": [
    "cd.info()"
   ]
  },
  {
   "cell_type": "code",
   "execution_count": 11,
   "metadata": {},
   "outputs": [],
   "source": [
    "cd.drop(\"Customer ID\", axis = 1, inplace = True)"
   ]
  },
  {
   "cell_type": "code",
   "execution_count": 12,
   "metadata": {},
   "outputs": [
    {
     "data": {
      "text/html": [
       "<div>\n",
       "<style scoped>\n",
       "    .dataframe tbody tr th:only-of-type {\n",
       "        vertical-align: middle;\n",
       "    }\n",
       "\n",
       "    .dataframe tbody tr th {\n",
       "        vertical-align: top;\n",
       "    }\n",
       "\n",
       "    .dataframe thead th {\n",
       "        text-align: right;\n",
       "    }\n",
       "</style>\n",
       "<table border=\"1\" class=\"dataframe\">\n",
       "  <thead>\n",
       "    <tr style=\"text-align: right;\">\n",
       "      <th></th>\n",
       "      <th>Credit_Amount</th>\n",
       "      <th>Gender</th>\n",
       "      <th>Academic_Qualification</th>\n",
       "      <th>Marital</th>\n",
       "      <th>Age_Years</th>\n",
       "      <th>Repayment_Status_Jan</th>\n",
       "      <th>Repayment_Status_Feb</th>\n",
       "      <th>Repayment_Status_March</th>\n",
       "      <th>Repayment_Status_April</th>\n",
       "      <th>Repayment_Status_May</th>\n",
       "      <th>...</th>\n",
       "      <th>April_Bill_Amount</th>\n",
       "      <th>May_Bill_Amount</th>\n",
       "      <th>June_Bill_Amount</th>\n",
       "      <th>Previous_Payment_Jan</th>\n",
       "      <th>Previous_Payment_Feb</th>\n",
       "      <th>Previous_Payment_March</th>\n",
       "      <th>Previous_Payment_April</th>\n",
       "      <th>Previous_Payment_May</th>\n",
       "      <th>Previous_Payment_June</th>\n",
       "      <th>Default_Payment</th>\n",
       "    </tr>\n",
       "  </thead>\n",
       "  <tbody>\n",
       "    <tr>\n",
       "      <th>0</th>\n",
       "      <td>20000.0</td>\n",
       "      <td>2</td>\n",
       "      <td>2</td>\n",
       "      <td>1</td>\n",
       "      <td>24</td>\n",
       "      <td>2</td>\n",
       "      <td>2</td>\n",
       "      <td>0</td>\n",
       "      <td>0</td>\n",
       "      <td>0</td>\n",
       "      <td>...</td>\n",
       "      <td>0.0</td>\n",
       "      <td>0.0</td>\n",
       "      <td>0.0</td>\n",
       "      <td>0.0</td>\n",
       "      <td>679.0</td>\n",
       "      <td>0.0</td>\n",
       "      <td>0.0</td>\n",
       "      <td>0.0</td>\n",
       "      <td>0.0</td>\n",
       "      <td>1</td>\n",
       "    </tr>\n",
       "    <tr>\n",
       "      <th>1</th>\n",
       "      <td>220000.0</td>\n",
       "      <td>2</td>\n",
       "      <td>2</td>\n",
       "      <td>2</td>\n",
       "      <td>26</td>\n",
       "      <td>0</td>\n",
       "      <td>2</td>\n",
       "      <td>0</td>\n",
       "      <td>0</td>\n",
       "      <td>0</td>\n",
       "      <td>...</td>\n",
       "      <td>3272.0</td>\n",
       "      <td>3455.0</td>\n",
       "      <td>3261.0</td>\n",
       "      <td>0.0</td>\n",
       "      <td>2000.0</td>\n",
       "      <td>1000.0</td>\n",
       "      <td>1000.0</td>\n",
       "      <td>0.0</td>\n",
       "      <td>2000.0</td>\n",
       "      <td>1</td>\n",
       "    </tr>\n",
       "    <tr>\n",
       "      <th>2</th>\n",
       "      <td>90000.0</td>\n",
       "      <td>2</td>\n",
       "      <td>2</td>\n",
       "      <td>2</td>\n",
       "      <td>34</td>\n",
       "      <td>0</td>\n",
       "      <td>0</td>\n",
       "      <td>0</td>\n",
       "      <td>0</td>\n",
       "      <td>0</td>\n",
       "      <td>...</td>\n",
       "      <td>24332.0</td>\n",
       "      <td>14848.0</td>\n",
       "      <td>15548.0</td>\n",
       "      <td>1619.0</td>\n",
       "      <td>2500.0</td>\n",
       "      <td>1000.0</td>\n",
       "      <td>1000.0</td>\n",
       "      <td>1000.0</td>\n",
       "      <td>5000.0</td>\n",
       "      <td>0</td>\n",
       "    </tr>\n",
       "    <tr>\n",
       "      <th>3</th>\n",
       "      <td>50000.0</td>\n",
       "      <td>2</td>\n",
       "      <td>2</td>\n",
       "      <td>1</td>\n",
       "      <td>37</td>\n",
       "      <td>0</td>\n",
       "      <td>0</td>\n",
       "      <td>0</td>\n",
       "      <td>0</td>\n",
       "      <td>0</td>\n",
       "      <td>...</td>\n",
       "      <td>29324.0</td>\n",
       "      <td>28858.0</td>\n",
       "      <td>28547.0</td>\n",
       "      <td>3000.0</td>\n",
       "      <td>2029.0</td>\n",
       "      <td>1200.0</td>\n",
       "      <td>1100.0</td>\n",
       "      <td>1069.0</td>\n",
       "      <td>1000.0</td>\n",
       "      <td>0</td>\n",
       "    </tr>\n",
       "    <tr>\n",
       "      <th>4</th>\n",
       "      <td>50000.0</td>\n",
       "      <td>1</td>\n",
       "      <td>2</td>\n",
       "      <td>1</td>\n",
       "      <td>57</td>\n",
       "      <td>0</td>\n",
       "      <td>0</td>\n",
       "      <td>0</td>\n",
       "      <td>0</td>\n",
       "      <td>0</td>\n",
       "      <td>...</td>\n",
       "      <td>20940.0</td>\n",
       "      <td>18146.0</td>\n",
       "      <td>18131.0</td>\n",
       "      <td>3000.0</td>\n",
       "      <td>36672.0</td>\n",
       "      <td>10000.0</td>\n",
       "      <td>9000.0</td>\n",
       "      <td>689.0</td>\n",
       "      <td>679.0</td>\n",
       "      <td>0</td>\n",
       "    </tr>\n",
       "  </tbody>\n",
       "</table>\n",
       "<p>5 rows × 24 columns</p>\n",
       "</div>"
      ],
      "text/plain": [
       "   Credit_Amount  Gender  Academic_Qualification  Marital  Age_Years  \\\n",
       "0        20000.0       2                       2        1         24   \n",
       "1       220000.0       2                       2        2         26   \n",
       "2        90000.0       2                       2        2         34   \n",
       "3        50000.0       2                       2        1         37   \n",
       "4        50000.0       1                       2        1         57   \n",
       "\n",
       "   Repayment_Status_Jan  Repayment_Status_Feb  Repayment_Status_March  \\\n",
       "0                     2                     2                       0   \n",
       "1                     0                     2                       0   \n",
       "2                     0                     0                       0   \n",
       "3                     0                     0                       0   \n",
       "4                     0                     0                       0   \n",
       "\n",
       "   Repayment_Status_April  Repayment_Status_May  ...  April_Bill_Amount  \\\n",
       "0                       0                     0  ...                0.0   \n",
       "1                       0                     0  ...             3272.0   \n",
       "2                       0                     0  ...            24332.0   \n",
       "3                       0                     0  ...            29324.0   \n",
       "4                       0                     0  ...            20940.0   \n",
       "\n",
       "   May_Bill_Amount  June_Bill_Amount  Previous_Payment_Jan  \\\n",
       "0              0.0               0.0                   0.0   \n",
       "1           3455.0            3261.0                   0.0   \n",
       "2          14848.0           15548.0                1619.0   \n",
       "3          28858.0           28547.0                3000.0   \n",
       "4          18146.0           18131.0                3000.0   \n",
       "\n",
       "   Previous_Payment_Feb  Previous_Payment_March  Previous_Payment_April  \\\n",
       "0                 679.0                     0.0                     0.0   \n",
       "1                2000.0                  1000.0                  1000.0   \n",
       "2                2500.0                  1000.0                  1000.0   \n",
       "3                2029.0                  1200.0                  1100.0   \n",
       "4               36672.0                 10000.0                  9000.0   \n",
       "\n",
       "   Previous_Payment_May  Previous_Payment_June  Default_Payment  \n",
       "0                   0.0                    0.0                1  \n",
       "1                   0.0                 2000.0                1  \n",
       "2                1000.0                 5000.0                0  \n",
       "3                1069.0                 1000.0                0  \n",
       "4                 689.0                  679.0                0  \n",
       "\n",
       "[5 rows x 24 columns]"
      ]
     },
     "execution_count": 12,
     "metadata": {},
     "output_type": "execute_result"
    }
   ],
   "source": [
    "cd.head()"
   ]
  },
  {
   "cell_type": "code",
   "execution_count": 13,
   "metadata": {},
   "outputs": [],
   "source": [
    "y = cd.iloc[::,23]\n",
    "x = cd.iloc[::, 0:23]"
   ]
  },
  {
   "cell_type": "code",
   "execution_count": 14,
   "metadata": {},
   "outputs": [
    {
     "data": {
      "text/html": [
       "<div>\n",
       "<style scoped>\n",
       "    .dataframe tbody tr th:only-of-type {\n",
       "        vertical-align: middle;\n",
       "    }\n",
       "\n",
       "    .dataframe tbody tr th {\n",
       "        vertical-align: top;\n",
       "    }\n",
       "\n",
       "    .dataframe thead th {\n",
       "        text-align: right;\n",
       "    }\n",
       "</style>\n",
       "<table border=\"1\" class=\"dataframe\">\n",
       "  <thead>\n",
       "    <tr style=\"text-align: right;\">\n",
       "      <th></th>\n",
       "      <th>Credit_Amount</th>\n",
       "      <th>Gender</th>\n",
       "      <th>Academic_Qualification</th>\n",
       "      <th>Marital</th>\n",
       "      <th>Age_Years</th>\n",
       "      <th>Repayment_Status_Jan</th>\n",
       "      <th>Repayment_Status_Feb</th>\n",
       "      <th>Repayment_Status_March</th>\n",
       "      <th>Repayment_Status_April</th>\n",
       "      <th>Repayment_Status_May</th>\n",
       "      <th>...</th>\n",
       "      <th>March_Bill_Amount</th>\n",
       "      <th>April_Bill_Amount</th>\n",
       "      <th>May_Bill_Amount</th>\n",
       "      <th>June_Bill_Amount</th>\n",
       "      <th>Previous_Payment_Jan</th>\n",
       "      <th>Previous_Payment_Feb</th>\n",
       "      <th>Previous_Payment_March</th>\n",
       "      <th>Previous_Payment_April</th>\n",
       "      <th>Previous_Payment_May</th>\n",
       "      <th>Previous_Payment_June</th>\n",
       "    </tr>\n",
       "  </thead>\n",
       "  <tbody>\n",
       "    <tr>\n",
       "      <th>0</th>\n",
       "      <td>20000.0</td>\n",
       "      <td>2</td>\n",
       "      <td>2</td>\n",
       "      <td>1</td>\n",
       "      <td>24</td>\n",
       "      <td>2</td>\n",
       "      <td>2</td>\n",
       "      <td>0</td>\n",
       "      <td>0</td>\n",
       "      <td>0</td>\n",
       "      <td>...</td>\n",
       "      <td>689.0</td>\n",
       "      <td>0.0</td>\n",
       "      <td>0.0</td>\n",
       "      <td>0.0</td>\n",
       "      <td>0.0</td>\n",
       "      <td>679.0</td>\n",
       "      <td>0.0</td>\n",
       "      <td>0.0</td>\n",
       "      <td>0.0</td>\n",
       "      <td>0.0</td>\n",
       "    </tr>\n",
       "    <tr>\n",
       "      <th>1</th>\n",
       "      <td>220000.0</td>\n",
       "      <td>2</td>\n",
       "      <td>2</td>\n",
       "      <td>2</td>\n",
       "      <td>26</td>\n",
       "      <td>0</td>\n",
       "      <td>2</td>\n",
       "      <td>0</td>\n",
       "      <td>0</td>\n",
       "      <td>0</td>\n",
       "      <td>...</td>\n",
       "      <td>2682.0</td>\n",
       "      <td>3272.0</td>\n",
       "      <td>3455.0</td>\n",
       "      <td>3261.0</td>\n",
       "      <td>0.0</td>\n",
       "      <td>2000.0</td>\n",
       "      <td>1000.0</td>\n",
       "      <td>1000.0</td>\n",
       "      <td>0.0</td>\n",
       "      <td>2000.0</td>\n",
       "    </tr>\n",
       "    <tr>\n",
       "      <th>2</th>\n",
       "      <td>90000.0</td>\n",
       "      <td>2</td>\n",
       "      <td>2</td>\n",
       "      <td>2</td>\n",
       "      <td>34</td>\n",
       "      <td>0</td>\n",
       "      <td>0</td>\n",
       "      <td>0</td>\n",
       "      <td>0</td>\n",
       "      <td>0</td>\n",
       "      <td>...</td>\n",
       "      <td>23559.0</td>\n",
       "      <td>24332.0</td>\n",
       "      <td>14848.0</td>\n",
       "      <td>15548.0</td>\n",
       "      <td>1619.0</td>\n",
       "      <td>2500.0</td>\n",
       "      <td>1000.0</td>\n",
       "      <td>1000.0</td>\n",
       "      <td>1000.0</td>\n",
       "      <td>5000.0</td>\n",
       "    </tr>\n",
       "    <tr>\n",
       "      <th>3</th>\n",
       "      <td>50000.0</td>\n",
       "      <td>2</td>\n",
       "      <td>2</td>\n",
       "      <td>1</td>\n",
       "      <td>37</td>\n",
       "      <td>0</td>\n",
       "      <td>0</td>\n",
       "      <td>0</td>\n",
       "      <td>0</td>\n",
       "      <td>0</td>\n",
       "      <td>...</td>\n",
       "      <td>49292.0</td>\n",
       "      <td>29324.0</td>\n",
       "      <td>28858.0</td>\n",
       "      <td>28547.0</td>\n",
       "      <td>3000.0</td>\n",
       "      <td>2029.0</td>\n",
       "      <td>1200.0</td>\n",
       "      <td>1100.0</td>\n",
       "      <td>1069.0</td>\n",
       "      <td>1000.0</td>\n",
       "    </tr>\n",
       "    <tr>\n",
       "      <th>4</th>\n",
       "      <td>50000.0</td>\n",
       "      <td>1</td>\n",
       "      <td>2</td>\n",
       "      <td>1</td>\n",
       "      <td>57</td>\n",
       "      <td>0</td>\n",
       "      <td>0</td>\n",
       "      <td>0</td>\n",
       "      <td>0</td>\n",
       "      <td>0</td>\n",
       "      <td>...</td>\n",
       "      <td>35835.0</td>\n",
       "      <td>20940.0</td>\n",
       "      <td>18146.0</td>\n",
       "      <td>18131.0</td>\n",
       "      <td>3000.0</td>\n",
       "      <td>36672.0</td>\n",
       "      <td>10000.0</td>\n",
       "      <td>9000.0</td>\n",
       "      <td>689.0</td>\n",
       "      <td>679.0</td>\n",
       "    </tr>\n",
       "  </tbody>\n",
       "</table>\n",
       "<p>5 rows × 23 columns</p>\n",
       "</div>"
      ],
      "text/plain": [
       "   Credit_Amount  Gender  Academic_Qualification  Marital  Age_Years  \\\n",
       "0        20000.0       2                       2        1         24   \n",
       "1       220000.0       2                       2        2         26   \n",
       "2        90000.0       2                       2        2         34   \n",
       "3        50000.0       2                       2        1         37   \n",
       "4        50000.0       1                       2        1         57   \n",
       "\n",
       "   Repayment_Status_Jan  Repayment_Status_Feb  Repayment_Status_March  \\\n",
       "0                     2                     2                       0   \n",
       "1                     0                     2                       0   \n",
       "2                     0                     0                       0   \n",
       "3                     0                     0                       0   \n",
       "4                     0                     0                       0   \n",
       "\n",
       "   Repayment_Status_April  Repayment_Status_May  ...  March_Bill_Amount  \\\n",
       "0                       0                     0  ...              689.0   \n",
       "1                       0                     0  ...             2682.0   \n",
       "2                       0                     0  ...            23559.0   \n",
       "3                       0                     0  ...            49292.0   \n",
       "4                       0                     0  ...            35835.0   \n",
       "\n",
       "   April_Bill_Amount  May_Bill_Amount  June_Bill_Amount  Previous_Payment_Jan  \\\n",
       "0                0.0              0.0               0.0                   0.0   \n",
       "1             3272.0           3455.0            3261.0                   0.0   \n",
       "2            24332.0          14848.0           15548.0                1619.0   \n",
       "3            29324.0          28858.0           28547.0                3000.0   \n",
       "4            20940.0          18146.0           18131.0                3000.0   \n",
       "\n",
       "   Previous_Payment_Feb  Previous_Payment_March  Previous_Payment_April  \\\n",
       "0                 679.0                     0.0                     0.0   \n",
       "1                2000.0                  1000.0                  1000.0   \n",
       "2                2500.0                  1000.0                  1000.0   \n",
       "3                2029.0                  1200.0                  1100.0   \n",
       "4               36672.0                 10000.0                  9000.0   \n",
       "\n",
       "   Previous_Payment_May  Previous_Payment_June  \n",
       "0                   0.0                    0.0  \n",
       "1                   0.0                 2000.0  \n",
       "2                1000.0                 5000.0  \n",
       "3                1069.0                 1000.0  \n",
       "4                 689.0                  679.0  \n",
       "\n",
       "[5 rows x 23 columns]"
      ]
     },
     "execution_count": 14,
     "metadata": {},
     "output_type": "execute_result"
    }
   ],
   "source": [
    "x.head()"
   ]
  },
  {
   "cell_type": "code",
   "execution_count": 15,
   "metadata": {},
   "outputs": [
    {
     "data": {
      "text/plain": [
       "0    1\n",
       "1    1\n",
       "2    0\n",
       "3    0\n",
       "4    0\n",
       "Name: Default_Payment, dtype: int64"
      ]
     },
     "execution_count": 15,
     "metadata": {},
     "output_type": "execute_result"
    }
   ],
   "source": [
    "y.head()"
   ]
  },
  {
   "cell_type": "code",
   "execution_count": 16,
   "metadata": {},
   "outputs": [
    {
     "data": {
      "text/html": [
       "<div>\n",
       "<style scoped>\n",
       "    .dataframe tbody tr th:only-of-type {\n",
       "        vertical-align: middle;\n",
       "    }\n",
       "\n",
       "    .dataframe tbody tr th {\n",
       "        vertical-align: top;\n",
       "    }\n",
       "\n",
       "    .dataframe thead th {\n",
       "        text-align: right;\n",
       "    }\n",
       "</style>\n",
       "<table border=\"1\" class=\"dataframe\">\n",
       "  <thead>\n",
       "    <tr style=\"text-align: right;\">\n",
       "      <th></th>\n",
       "      <th>Credit_Amount</th>\n",
       "      <th>Gender</th>\n",
       "      <th>Academic_Qualification</th>\n",
       "      <th>Marital</th>\n",
       "      <th>Age_Years</th>\n",
       "      <th>Repayment_Status_Jan</th>\n",
       "      <th>Repayment_Status_Feb</th>\n",
       "      <th>Repayment_Status_March</th>\n",
       "      <th>Repayment_Status_April</th>\n",
       "      <th>Repayment_Status_May</th>\n",
       "      <th>...</th>\n",
       "      <th>March_Bill_Amount</th>\n",
       "      <th>April_Bill_Amount</th>\n",
       "      <th>May_Bill_Amount</th>\n",
       "      <th>June_Bill_Amount</th>\n",
       "      <th>Previous_Payment_Jan</th>\n",
       "      <th>Previous_Payment_Feb</th>\n",
       "      <th>Previous_Payment_March</th>\n",
       "      <th>Previous_Payment_April</th>\n",
       "      <th>Previous_Payment_May</th>\n",
       "      <th>Previous_Payment_June</th>\n",
       "    </tr>\n",
       "  </thead>\n",
       "  <tbody>\n",
       "    <tr>\n",
       "      <th>0</th>\n",
       "      <td>20000.0</td>\n",
       "      <td>2</td>\n",
       "      <td>2</td>\n",
       "      <td>1</td>\n",
       "      <td>24</td>\n",
       "      <td>2</td>\n",
       "      <td>2</td>\n",
       "      <td>0</td>\n",
       "      <td>0</td>\n",
       "      <td>0</td>\n",
       "      <td>...</td>\n",
       "      <td>689.0</td>\n",
       "      <td>0.0</td>\n",
       "      <td>0.0</td>\n",
       "      <td>0.0</td>\n",
       "      <td>0.0</td>\n",
       "      <td>679.0</td>\n",
       "      <td>0.0</td>\n",
       "      <td>0.0</td>\n",
       "      <td>0.0</td>\n",
       "      <td>0.0</td>\n",
       "    </tr>\n",
       "    <tr>\n",
       "      <th>1</th>\n",
       "      <td>220000.0</td>\n",
       "      <td>2</td>\n",
       "      <td>2</td>\n",
       "      <td>2</td>\n",
       "      <td>26</td>\n",
       "      <td>0</td>\n",
       "      <td>2</td>\n",
       "      <td>0</td>\n",
       "      <td>0</td>\n",
       "      <td>0</td>\n",
       "      <td>...</td>\n",
       "      <td>2682.0</td>\n",
       "      <td>3272.0</td>\n",
       "      <td>3455.0</td>\n",
       "      <td>3261.0</td>\n",
       "      <td>0.0</td>\n",
       "      <td>2000.0</td>\n",
       "      <td>1000.0</td>\n",
       "      <td>1000.0</td>\n",
       "      <td>0.0</td>\n",
       "      <td>2000.0</td>\n",
       "    </tr>\n",
       "    <tr>\n",
       "      <th>2</th>\n",
       "      <td>90000.0</td>\n",
       "      <td>2</td>\n",
       "      <td>2</td>\n",
       "      <td>2</td>\n",
       "      <td>34</td>\n",
       "      <td>0</td>\n",
       "      <td>0</td>\n",
       "      <td>0</td>\n",
       "      <td>0</td>\n",
       "      <td>0</td>\n",
       "      <td>...</td>\n",
       "      <td>23559.0</td>\n",
       "      <td>24332.0</td>\n",
       "      <td>14848.0</td>\n",
       "      <td>15548.0</td>\n",
       "      <td>1619.0</td>\n",
       "      <td>2500.0</td>\n",
       "      <td>1000.0</td>\n",
       "      <td>1000.0</td>\n",
       "      <td>1000.0</td>\n",
       "      <td>5000.0</td>\n",
       "    </tr>\n",
       "    <tr>\n",
       "      <th>3</th>\n",
       "      <td>50000.0</td>\n",
       "      <td>2</td>\n",
       "      <td>2</td>\n",
       "      <td>1</td>\n",
       "      <td>37</td>\n",
       "      <td>0</td>\n",
       "      <td>0</td>\n",
       "      <td>0</td>\n",
       "      <td>0</td>\n",
       "      <td>0</td>\n",
       "      <td>...</td>\n",
       "      <td>49292.0</td>\n",
       "      <td>29324.0</td>\n",
       "      <td>28858.0</td>\n",
       "      <td>28547.0</td>\n",
       "      <td>3000.0</td>\n",
       "      <td>2029.0</td>\n",
       "      <td>1200.0</td>\n",
       "      <td>1100.0</td>\n",
       "      <td>1069.0</td>\n",
       "      <td>1000.0</td>\n",
       "    </tr>\n",
       "    <tr>\n",
       "      <th>4</th>\n",
       "      <td>50000.0</td>\n",
       "      <td>1</td>\n",
       "      <td>2</td>\n",
       "      <td>1</td>\n",
       "      <td>57</td>\n",
       "      <td>0</td>\n",
       "      <td>0</td>\n",
       "      <td>0</td>\n",
       "      <td>0</td>\n",
       "      <td>0</td>\n",
       "      <td>...</td>\n",
       "      <td>35835.0</td>\n",
       "      <td>20940.0</td>\n",
       "      <td>18146.0</td>\n",
       "      <td>18131.0</td>\n",
       "      <td>3000.0</td>\n",
       "      <td>36672.0</td>\n",
       "      <td>10000.0</td>\n",
       "      <td>9000.0</td>\n",
       "      <td>689.0</td>\n",
       "      <td>679.0</td>\n",
       "    </tr>\n",
       "    <tr>\n",
       "      <th>...</th>\n",
       "      <td>...</td>\n",
       "      <td>...</td>\n",
       "      <td>...</td>\n",
       "      <td>...</td>\n",
       "      <td>...</td>\n",
       "      <td>...</td>\n",
       "      <td>...</td>\n",
       "      <td>...</td>\n",
       "      <td>...</td>\n",
       "      <td>...</td>\n",
       "      <td>...</td>\n",
       "      <td>...</td>\n",
       "      <td>...</td>\n",
       "      <td>...</td>\n",
       "      <td>...</td>\n",
       "      <td>...</td>\n",
       "      <td>...</td>\n",
       "      <td>...</td>\n",
       "      <td>...</td>\n",
       "      <td>...</td>\n",
       "      <td>...</td>\n",
       "    </tr>\n",
       "    <tr>\n",
       "      <th>29995</th>\n",
       "      <td>220000.0</td>\n",
       "      <td>1</td>\n",
       "      <td>3</td>\n",
       "      <td>1</td>\n",
       "      <td>39</td>\n",
       "      <td>0</td>\n",
       "      <td>0</td>\n",
       "      <td>0</td>\n",
       "      <td>0</td>\n",
       "      <td>0</td>\n",
       "      <td>...</td>\n",
       "      <td>208365.0</td>\n",
       "      <td>99004.0</td>\n",
       "      <td>31237.0</td>\n",
       "      <td>15880.0</td>\n",
       "      <td>9600.0</td>\n",
       "      <td>20000.0</td>\n",
       "      <td>5005.0</td>\n",
       "      <td>3047.0</td>\n",
       "      <td>5000.0</td>\n",
       "      <td>1000.0</td>\n",
       "    </tr>\n",
       "    <tr>\n",
       "      <th>29996</th>\n",
       "      <td>250000.0</td>\n",
       "      <td>1</td>\n",
       "      <td>3</td>\n",
       "      <td>2</td>\n",
       "      <td>43</td>\n",
       "      <td>0</td>\n",
       "      <td>0</td>\n",
       "      <td>0</td>\n",
       "      <td>0</td>\n",
       "      <td>0</td>\n",
       "      <td>...</td>\n",
       "      <td>3502.0</td>\n",
       "      <td>9979.0</td>\n",
       "      <td>5180.0</td>\n",
       "      <td>0.0</td>\n",
       "      <td>1937.0</td>\n",
       "      <td>3526.0</td>\n",
       "      <td>9999.0</td>\n",
       "      <td>139.0</td>\n",
       "      <td>0.0</td>\n",
       "      <td>0.0</td>\n",
       "    </tr>\n",
       "    <tr>\n",
       "      <th>29997</th>\n",
       "      <td>30000.0</td>\n",
       "      <td>1</td>\n",
       "      <td>2</td>\n",
       "      <td>2</td>\n",
       "      <td>37</td>\n",
       "      <td>4</td>\n",
       "      <td>3</td>\n",
       "      <td>2</td>\n",
       "      <td>0</td>\n",
       "      <td>0</td>\n",
       "      <td>...</td>\n",
       "      <td>2758.0</td>\n",
       "      <td>20979.0</td>\n",
       "      <td>20582.0</td>\n",
       "      <td>18357.0</td>\n",
       "      <td>0.0</td>\n",
       "      <td>0.0</td>\n",
       "      <td>22000.0</td>\n",
       "      <td>4300.0</td>\n",
       "      <td>3000.0</td>\n",
       "      <td>3100.0</td>\n",
       "    </tr>\n",
       "    <tr>\n",
       "      <th>29998</th>\n",
       "      <td>80000.0</td>\n",
       "      <td>1</td>\n",
       "      <td>3</td>\n",
       "      <td>1</td>\n",
       "      <td>41</td>\n",
       "      <td>1</td>\n",
       "      <td>0</td>\n",
       "      <td>0</td>\n",
       "      <td>0</td>\n",
       "      <td>0</td>\n",
       "      <td>...</td>\n",
       "      <td>76304.0</td>\n",
       "      <td>52774.0</td>\n",
       "      <td>11855.0</td>\n",
       "      <td>48844.0</td>\n",
       "      <td>96900.0</td>\n",
       "      <td>3409.0</td>\n",
       "      <td>1179.0</td>\n",
       "      <td>1935.0</td>\n",
       "      <td>53965.0</td>\n",
       "      <td>1804.0</td>\n",
       "    </tr>\n",
       "    <tr>\n",
       "      <th>29999</th>\n",
       "      <td>50000.0</td>\n",
       "      <td>1</td>\n",
       "      <td>2</td>\n",
       "      <td>1</td>\n",
       "      <td>46</td>\n",
       "      <td>0</td>\n",
       "      <td>0</td>\n",
       "      <td>0</td>\n",
       "      <td>0</td>\n",
       "      <td>0</td>\n",
       "      <td>...</td>\n",
       "      <td>49764.0</td>\n",
       "      <td>36535.0</td>\n",
       "      <td>32428.0</td>\n",
       "      <td>15313.0</td>\n",
       "      <td>3079.0</td>\n",
       "      <td>2700.0</td>\n",
       "      <td>1550.0</td>\n",
       "      <td>1000.0</td>\n",
       "      <td>1000.0</td>\n",
       "      <td>1000.0</td>\n",
       "    </tr>\n",
       "  </tbody>\n",
       "</table>\n",
       "<p>30000 rows × 23 columns</p>\n",
       "</div>"
      ],
      "text/plain": [
       "       Credit_Amount  Gender  Academic_Qualification  Marital  Age_Years  \\\n",
       "0            20000.0       2                       2        1         24   \n",
       "1           220000.0       2                       2        2         26   \n",
       "2            90000.0       2                       2        2         34   \n",
       "3            50000.0       2                       2        1         37   \n",
       "4            50000.0       1                       2        1         57   \n",
       "...              ...     ...                     ...      ...        ...   \n",
       "29995       220000.0       1                       3        1         39   \n",
       "29996       250000.0       1                       3        2         43   \n",
       "29997        30000.0       1                       2        2         37   \n",
       "29998        80000.0       1                       3        1         41   \n",
       "29999        50000.0       1                       2        1         46   \n",
       "\n",
       "       Repayment_Status_Jan  Repayment_Status_Feb  Repayment_Status_March  \\\n",
       "0                         2                     2                       0   \n",
       "1                         0                     2                       0   \n",
       "2                         0                     0                       0   \n",
       "3                         0                     0                       0   \n",
       "4                         0                     0                       0   \n",
       "...                     ...                   ...                     ...   \n",
       "29995                     0                     0                       0   \n",
       "29996                     0                     0                       0   \n",
       "29997                     4                     3                       2   \n",
       "29998                     1                     0                       0   \n",
       "29999                     0                     0                       0   \n",
       "\n",
       "       Repayment_Status_April  Repayment_Status_May  ...  March_Bill_Amount  \\\n",
       "0                           0                     0  ...              689.0   \n",
       "1                           0                     0  ...             2682.0   \n",
       "2                           0                     0  ...            23559.0   \n",
       "3                           0                     0  ...            49292.0   \n",
       "4                           0                     0  ...            35835.0   \n",
       "...                       ...                   ...  ...                ...   \n",
       "29995                       0                     0  ...           208365.0   \n",
       "29996                       0                     0  ...             3502.0   \n",
       "29997                       0                     0  ...             2758.0   \n",
       "29998                       0                     0  ...            76304.0   \n",
       "29999                       0                     0  ...            49764.0   \n",
       "\n",
       "       April_Bill_Amount  May_Bill_Amount  June_Bill_Amount  \\\n",
       "0                    0.0              0.0               0.0   \n",
       "1                 3272.0           3455.0            3261.0   \n",
       "2                24332.0          14848.0           15548.0   \n",
       "3                29324.0          28858.0           28547.0   \n",
       "4                20940.0          18146.0           18131.0   \n",
       "...                  ...              ...               ...   \n",
       "29995            99004.0          31237.0           15880.0   \n",
       "29996             9979.0           5180.0               0.0   \n",
       "29997            20979.0          20582.0           18357.0   \n",
       "29998            52774.0          11855.0           48844.0   \n",
       "29999            36535.0          32428.0           15313.0   \n",
       "\n",
       "       Previous_Payment_Jan  Previous_Payment_Feb  Previous_Payment_March  \\\n",
       "0                       0.0                 679.0                     0.0   \n",
       "1                       0.0                2000.0                  1000.0   \n",
       "2                    1619.0                2500.0                  1000.0   \n",
       "3                    3000.0                2029.0                  1200.0   \n",
       "4                    3000.0               36672.0                 10000.0   \n",
       "...                     ...                   ...                     ...   \n",
       "29995                9600.0               20000.0                  5005.0   \n",
       "29996                1937.0                3526.0                  9999.0   \n",
       "29997                   0.0                   0.0                 22000.0   \n",
       "29998               96900.0                3409.0                  1179.0   \n",
       "29999                3079.0                2700.0                  1550.0   \n",
       "\n",
       "       Previous_Payment_April  Previous_Payment_May  Previous_Payment_June  \n",
       "0                         0.0                   0.0                    0.0  \n",
       "1                      1000.0                   0.0                 2000.0  \n",
       "2                      1000.0                1000.0                 5000.0  \n",
       "3                      1100.0                1069.0                 1000.0  \n",
       "4                      9000.0                 689.0                  679.0  \n",
       "...                       ...                   ...                    ...  \n",
       "29995                  3047.0                5000.0                 1000.0  \n",
       "29996                   139.0                   0.0                    0.0  \n",
       "29997                  4300.0                3000.0                 3100.0  \n",
       "29998                  1935.0               53965.0                 1804.0  \n",
       "29999                  1000.0                1000.0                 1000.0  \n",
       "\n",
       "[30000 rows x 23 columns]"
      ]
     },
     "execution_count": 16,
     "metadata": {},
     "output_type": "execute_result"
    }
   ],
   "source": [
    "num_type = ['int32', 'int64', 'float64', 'float32','int16']\n",
    "x_num = x.select_dtypes(num_type)\n",
    "x_num"
   ]
  },
  {
   "cell_type": "code",
   "execution_count": 17,
   "metadata": {},
   "outputs": [
    {
     "data": {
      "text/plain": [
       "(30000, 23)"
      ]
     },
     "execution_count": 17,
     "metadata": {},
     "output_type": "execute_result"
    }
   ],
   "source": [
    "x_num.shape"
   ]
  },
  {
   "cell_type": "code",
   "execution_count": 18,
   "metadata": {},
   "outputs": [],
   "source": [
    "x_cats = ['Gender', 'Academic_Qualification','Marital','Repayment_Status_Jan', 'Repayment_Status_Feb', 'Repayment_Status_March',\n",
    "         'Repayment_Status_April', 'Repayment_Status_May','Repayment_Status_June']"
   ]
  },
  {
   "cell_type": "code",
   "execution_count": 19,
   "metadata": {},
   "outputs": [],
   "source": [
    "x_num.drop(x_cats, inplace = True, axis = 1)"
   ]
  },
  {
   "cell_type": "code",
   "execution_count": 20,
   "metadata": {},
   "outputs": [
    {
     "data": {
      "text/html": [
       "<div>\n",
       "<style scoped>\n",
       "    .dataframe tbody tr th:only-of-type {\n",
       "        vertical-align: middle;\n",
       "    }\n",
       "\n",
       "    .dataframe tbody tr th {\n",
       "        vertical-align: top;\n",
       "    }\n",
       "\n",
       "    .dataframe thead th {\n",
       "        text-align: right;\n",
       "    }\n",
       "</style>\n",
       "<table border=\"1\" class=\"dataframe\">\n",
       "  <thead>\n",
       "    <tr style=\"text-align: right;\">\n",
       "      <th></th>\n",
       "      <th>Gender</th>\n",
       "      <th>Academic_Qualification</th>\n",
       "      <th>Marital</th>\n",
       "      <th>Repayment_Status_Jan</th>\n",
       "      <th>Repayment_Status_Feb</th>\n",
       "      <th>Repayment_Status_March</th>\n",
       "      <th>Repayment_Status_April</th>\n",
       "      <th>Repayment_Status_May</th>\n",
       "      <th>Repayment_Status_June</th>\n",
       "    </tr>\n",
       "  </thead>\n",
       "  <tbody>\n",
       "    <tr>\n",
       "      <th>0</th>\n",
       "      <td>2</td>\n",
       "      <td>2</td>\n",
       "      <td>1</td>\n",
       "      <td>2</td>\n",
       "      <td>2</td>\n",
       "      <td>0</td>\n",
       "      <td>0</td>\n",
       "      <td>0</td>\n",
       "      <td>0</td>\n",
       "    </tr>\n",
       "    <tr>\n",
       "      <th>1</th>\n",
       "      <td>2</td>\n",
       "      <td>2</td>\n",
       "      <td>2</td>\n",
       "      <td>0</td>\n",
       "      <td>2</td>\n",
       "      <td>0</td>\n",
       "      <td>0</td>\n",
       "      <td>0</td>\n",
       "      <td>2</td>\n",
       "    </tr>\n",
       "    <tr>\n",
       "      <th>2</th>\n",
       "      <td>2</td>\n",
       "      <td>2</td>\n",
       "      <td>2</td>\n",
       "      <td>0</td>\n",
       "      <td>0</td>\n",
       "      <td>0</td>\n",
       "      <td>0</td>\n",
       "      <td>0</td>\n",
       "      <td>0</td>\n",
       "    </tr>\n",
       "    <tr>\n",
       "      <th>3</th>\n",
       "      <td>2</td>\n",
       "      <td>2</td>\n",
       "      <td>1</td>\n",
       "      <td>0</td>\n",
       "      <td>0</td>\n",
       "      <td>0</td>\n",
       "      <td>0</td>\n",
       "      <td>0</td>\n",
       "      <td>0</td>\n",
       "    </tr>\n",
       "    <tr>\n",
       "      <th>4</th>\n",
       "      <td>1</td>\n",
       "      <td>2</td>\n",
       "      <td>1</td>\n",
       "      <td>0</td>\n",
       "      <td>0</td>\n",
       "      <td>0</td>\n",
       "      <td>0</td>\n",
       "      <td>0</td>\n",
       "      <td>0</td>\n",
       "    </tr>\n",
       "  </tbody>\n",
       "</table>\n",
       "</div>"
      ],
      "text/plain": [
       "   Gender  Academic_Qualification  Marital  Repayment_Status_Jan  \\\n",
       "0       2                       2        1                     2   \n",
       "1       2                       2        2                     0   \n",
       "2       2                       2        2                     0   \n",
       "3       2                       2        1                     0   \n",
       "4       1                       2        1                     0   \n",
       "\n",
       "   Repayment_Status_Feb  Repayment_Status_March  Repayment_Status_April  \\\n",
       "0                     2                       0                       0   \n",
       "1                     2                       0                       0   \n",
       "2                     0                       0                       0   \n",
       "3                     0                       0                       0   \n",
       "4                     0                       0                       0   \n",
       "\n",
       "   Repayment_Status_May  Repayment_Status_June  \n",
       "0                     0                      0  \n",
       "1                     0                      2  \n",
       "2                     0                      0  \n",
       "3                     0                      0  \n",
       "4                     0                      0  "
      ]
     },
     "execution_count": 20,
     "metadata": {},
     "output_type": "execute_result"
    }
   ],
   "source": [
    "x_cats = x[x_cats]\n",
    "x_cats.head()"
   ]
  },
  {
   "cell_type": "code",
   "execution_count": 21,
   "metadata": {},
   "outputs": [
    {
     "data": {
      "text/plain": [
       "(30000, 9)"
      ]
     },
     "execution_count": 21,
     "metadata": {},
     "output_type": "execute_result"
    }
   ],
   "source": [
    "x_cats.shape"
   ]
  },
  {
   "cell_type": "code",
   "execution_count": 22,
   "metadata": {},
   "outputs": [
    {
     "data": {
      "text/plain": [
       "2    18112\n",
       "1    11888\n",
       "Name: Gender, dtype: int64"
      ]
     },
     "execution_count": 22,
     "metadata": {},
     "output_type": "execute_result"
    }
   ],
   "source": [
    "x_cats['Gender'].value_counts()"
   ]
  },
  {
   "cell_type": "code",
   "execution_count": 23,
   "metadata": {},
   "outputs": [
    {
     "data": {
      "text/plain": [
       "<matplotlib.axes._subplots.AxesSubplot at 0x1edb821fd90>"
      ]
     },
     "execution_count": 23,
     "metadata": {},
     "output_type": "execute_result"
    },
    {
     "data": {
      "image/png": "[encoded data removed]",
      "text/plain": [
       "<Figure size 432x288 with 1 Axes>"
      ]
     },
     "metadata": {
      "needs_background": "light"
     },
     "output_type": "display_data"
    }
   ],
   "source": [
    "x_cats['Gender'].value_counts().plot(kind='bar')"
   ]
  },
  {
   "cell_type": "code",
   "execution_count": 24,
   "metadata": {},
   "outputs": [
    {
     "data": {
      "text/plain": [
       "2    14030\n",
       "1    10585\n",
       "3     4917\n",
       "5      280\n",
       "4      123\n",
       "6       65\n",
       "Name: Academic_Qualification, dtype: int64"
      ]
     },
     "execution_count": 24,
     "metadata": {},
     "output_type": "execute_result"
    }
   ],
   "source": [
    "x_cats['Academic_Qualification'].value_counts()"
   ]
  },
  {
   "cell_type": "code",
   "execution_count": 25,
   "metadata": {},
   "outputs": [
    {
     "data": {
      "text/plain": [
       "<matplotlib.axes._subplots.AxesSubplot at 0x1edb8fdaa60>"
      ]
     },
     "execution_count": 25,
     "metadata": {},
     "output_type": "execute_result"
    },
    {
     "data": {
      "image/png": "[encoded data removed]",
      "text/plain": [
       "<Figure size 432x288 with 1 Axes>"
      ]
     },
     "metadata": {
      "needs_background": "light"
     },
     "output_type": "display_data"
    }
   ],
   "source": [
    "x_cats['Academic_Qualification'].value_counts().plot(kind='bar')"
   ]
  },
  {
   "cell_type": "code",
   "execution_count": 26,
   "metadata": {},
   "outputs": [
    {
     "data": {
      "text/plain": [
       "2    15964\n",
       "1    13659\n",
       "3      323\n",
       "0       54\n",
       "Name: Marital, dtype: int64"
      ]
     },
     "execution_count": 26,
     "metadata": {},
     "output_type": "execute_result"
    }
   ],
   "source": [
    "x_cats['Marital'].value_counts()"
   ]
  },
  {
   "cell_type": "code",
   "execution_count": 27,
   "metadata": {},
   "outputs": [
    {
     "data": {
      "text/plain": [
       "<matplotlib.axes._subplots.AxesSubplot at 0x1edb9049250>"
      ]
     },
     "execution_count": 27,
     "metadata": {},
     "output_type": "execute_result"
    },
    {
     "data": {
      "image/png": "[encoded data removed]",
      "text/plain": [
       "<Figure size 432x288 with 1 Axes>"
      ]
     },
     "metadata": {
      "needs_background": "light"
     },
     "output_type": "display_data"
    }
   ],
   "source": [
    "x_cats['Marital'].value_counts().plot(kind='bar')"
   ]
  },
  {
   "cell_type": "code",
   "execution_count": 28,
   "metadata": {},
   "outputs": [
    {
     "data": {
      "text/plain": [
       "0    23182\n",
       "1     3688\n",
       "2     2667\n",
       "3      322\n",
       "4       76\n",
       "6       39\n",
       "5       26\n",
       "Name: Repayment_Status_Jan, dtype: int64"
      ]
     },
     "execution_count": 28,
     "metadata": {},
     "output_type": "execute_result"
    }
   ],
   "source": [
    "x_cats['Repayment_Status_Jan'].value_counts()"
   ]
  },
  {
   "cell_type": "code",
   "execution_count": 29,
   "metadata": {},
   "outputs": [
    {
     "data": {
      "text/plain": [
       "<matplotlib.axes._subplots.AxesSubplot at 0x1edb980d940>"
      ]
     },
     "execution_count": 29,
     "metadata": {},
     "output_type": "execute_result"
    },
    {
     "data": {
      "image/png": "[encoded data removed]",
      "text/plain": [
       "<Figure size 432x288 with 1 Axes>"
      ]
     },
     "metadata": {
      "needs_background": "light"
     },
     "output_type": "display_data"
    }
   ],
   "source": [
    "x_cats['Repayment_Status_Jan'].value_counts().plot(kind='bar')"
   ]
  },
  {
   "cell_type": "code",
   "execution_count": 30,
   "metadata": {},
   "outputs": [
    {
     "data": {
      "text/plain": [
       "0    25562\n",
       "2     3927\n",
       "3      326\n",
       "4       99\n",
       "6       33\n",
       "1       28\n",
       "5       25\n",
       "Name: Repayment_Status_Feb, dtype: int64"
      ]
     },
     "execution_count": 30,
     "metadata": {},
     "output_type": "execute_result"
    }
   ],
   "source": [
    "x_cats['Repayment_Status_Feb'].value_counts()"
   ]
  },
  {
   "cell_type": "code",
   "execution_count": 31,
   "metadata": {},
   "outputs": [
    {
     "data": {
      "text/plain": [
       "<matplotlib.axes._subplots.AxesSubplot at 0x1edb985e9d0>"
      ]
     },
     "execution_count": 31,
     "metadata": {},
     "output_type": "execute_result"
    },
    {
     "data": {
      "image/png": "[encoded data removed]",
      "text/plain": [
       "<Figure size 432x288 with 1 Axes>"
      ]
     },
     "metadata": {
      "needs_background": "light"
     },
     "output_type": "display_data"
    }
   ],
   "source": [
    "x_cats['Repayment_Status_Feb'].value_counts().plot(kind='bar')"
   ]
  },
  {
   "cell_type": "code",
   "execution_count": 32,
   "metadata": {},
   "outputs": [
    {
     "data": {
      "text/plain": [
       "0    25787\n",
       "2     3819\n",
       "3      240\n",
       "4       76\n",
       "6       53\n",
       "5       21\n",
       "1        4\n",
       "Name: Repayment_Status_March, dtype: int64"
      ]
     },
     "execution_count": 32,
     "metadata": {},
     "output_type": "execute_result"
    }
   ],
   "source": [
    "x_cats['Repayment_Status_March'].value_counts()"
   ]
  },
  {
   "cell_type": "code",
   "execution_count": 33,
   "metadata": {},
   "outputs": [
    {
     "data": {
      "text/plain": [
       "<matplotlib.axes._subplots.AxesSubplot at 0x1edb9865040>"
      ]
     },
     "execution_count": 33,
     "metadata": {},
     "output_type": "execute_result"
    },
    {
     "data": {
      "image/png": "[encoded data removed]",
      "text/plain": [
       "<Figure size 432x288 with 1 Axes>"
      ]
     },
     "metadata": {
      "needs_background": "light"
     },
     "output_type": "display_data"
    }
   ],
   "source": [
    "x_cats['Repayment_Status_March'].value_counts().plot(kind='bar')"
   ]
  },
  {
   "cell_type": "code",
   "execution_count": 34,
   "metadata": {},
   "outputs": [
    {
     "data": {
      "text/plain": [
       "0    26490\n",
       "2     3159\n",
       "3      180\n",
       "4       69\n",
       "6       65\n",
       "5       35\n",
       "1        2\n",
       "Name: Repayment_Status_April, dtype: int64"
      ]
     },
     "execution_count": 34,
     "metadata": {},
     "output_type": "execute_result"
    }
   ],
   "source": [
    "x_cats['Repayment_Status_April'].value_counts()"
   ]
  },
  {
   "cell_type": "code",
   "execution_count": 35,
   "metadata": {},
   "outputs": [
    {
     "data": {
      "text/plain": [
       "<matplotlib.axes._subplots.AxesSubplot at 0x1edb9932520>"
      ]
     },
     "execution_count": 35,
     "metadata": {},
     "output_type": "execute_result"
    },
    {
     "data": {
      "image/png": "[encoded data removed]",
      "text/plain": [
       "<Figure size 432x288 with 1 Axes>"
      ]
     },
     "metadata": {
      "needs_background": "light"
     },
     "output_type": "display_data"
    }
   ],
   "source": [
    "x_cats['Repayment_Status_April'].value_counts().plot(kind='bar')"
   ]
  },
  {
   "cell_type": "code",
   "execution_count": 36,
   "metadata": {},
   "outputs": [
    {
     "data": {
      "text/plain": [
       "0    27032\n",
       "2     2626\n",
       "3      178\n",
       "4       84\n",
       "6       63\n",
       "5       17\n",
       "Name: Repayment_Status_May, dtype: int64"
      ]
     },
     "execution_count": 36,
     "metadata": {},
     "output_type": "execute_result"
    }
   ],
   "source": [
    "x_cats['Repayment_Status_May'].value_counts()"
   ]
  },
  {
   "cell_type": "code",
   "execution_count": 37,
   "metadata": {},
   "outputs": [
    {
     "data": {
      "text/plain": [
       "<matplotlib.axes._subplots.AxesSubplot at 0x1edb904d880>"
      ]
     },
     "execution_count": 37,
     "metadata": {},
     "output_type": "execute_result"
    },
    {
     "data": {
      "image/png": "[encoded data removed]",
      "text/plain": [
       "<Figure size 432x288 with 1 Axes>"
      ]
     },
     "metadata": {
      "needs_background": "light"
     },
     "output_type": "display_data"
    }
   ],
   "source": [
    "x_cats['Repayment_Status_May'].value_counts().plot(kind='bar')"
   ]
  },
  {
   "cell_type": "code",
   "execution_count": 38,
   "metadata": {},
   "outputs": [
    {
     "data": {
      "text/plain": [
       "0    26921\n",
       "2     2766\n",
       "3      184\n",
       "6       67\n",
       "4       49\n",
       "5       13\n",
       "Name: Repayment_Status_June, dtype: int64"
      ]
     },
     "execution_count": 38,
     "metadata": {},
     "output_type": "execute_result"
    }
   ],
   "source": [
    "x_cats['Repayment_Status_June'].value_counts()"
   ]
  },
  {
   "cell_type": "code",
   "execution_count": 39,
   "metadata": {},
   "outputs": [
    {
     "data": {
      "text/plain": [
       "<matplotlib.axes._subplots.AxesSubplot at 0x1edb99e48e0>"
      ]
     },
     "execution_count": 39,
     "metadata": {},
     "output_type": "execute_result"
    },
    {
     "data": {
      "image/png": "[encoded data removed]",
      "text/plain": [
       "<Figure size 432x288 with 1 Axes>"
      ]
     },
     "metadata": {
      "needs_background": "light"
     },
     "output_type": "display_data"
    }
   ],
   "source": [
    "x_cats['Repayment_Status_June'].value_counts().plot(kind='bar')"
   ]
  },
  {
   "cell_type": "code",
   "execution_count": 40,
   "metadata": {},
   "outputs": [
    {
     "data": {
      "text/plain": [
       "0    23364\n",
       "1     6636\n",
       "Name: Default_Payment, dtype: int64"
      ]
     },
     "execution_count": 40,
     "metadata": {},
     "output_type": "execute_result"
    }
   ],
   "source": [
    "cd['Default_Payment'].value_counts()"
   ]
  },
  {
   "cell_type": "code",
   "execution_count": 41,
   "metadata": {},
   "outputs": [
    {
     "data": {
      "text/plain": [
       "0    77.9%\n",
       "1    22.1%\n",
       "Name: Default_Payment, dtype: object"
      ]
     },
     "execution_count": 41,
     "metadata": {},
     "output_type": "execute_result"
    }
   ],
   "source": [
    "cd['Default_Payment'].value_counts(normalize=True).mul(100).round(1).astype(str) + '%'"
   ]
  },
  {
   "cell_type": "code",
   "execution_count": 42,
   "metadata": {},
   "outputs": [
    {
     "data": {
      "text/plain": [
       "<matplotlib.axes._subplots.AxesSubplot at 0x1edb9a82070>"
      ]
     },
     "execution_count": 42,
     "metadata": {},
     "output_type": "execute_result"
    },
    {
     "data": {
      "image/png": "[encoded data removed]",
      "text/plain": [
       "<Figure size 432x288 with 1 Axes>"
      ]
     },
     "metadata": {
      "needs_background": "light"
     },
     "output_type": "display_data"
    }
   ],
   "source": [
    "cd['Default_Payment'].value_counts().plot(kind='bar')"
   ]
  },
  {
   "cell_type": "code",
   "execution_count": 43,
   "metadata": {},
   "outputs": [
    {
     "data": {
      "text/plain": [
       "<matplotlib.axes._subplots.AxesSubplot at 0x1edb9ac8160>"
      ]
     },
     "execution_count": 43,
     "metadata": {},
     "output_type": "execute_result"
    },
    {
     "data": {
      "image/png": "[encoded data removed]",
      "text/plain": [
       "<Figure size 432x288 with 1 Axes>"
      ]
     },
     "metadata": {
      "needs_background": "light"
     },
     "output_type": "display_data"
    }
   ],
   "source": [
    "sns.barplot(x = 'Gender', y = 'Default_Payment' , hue = 'Marital', data = cd)"
   ]
  },
  {
   "cell_type": "code",
   "execution_count": 44,
   "metadata": {},
   "outputs": [
    {
     "name": "stderr",
     "output_type": "stream",
     "text": [
      "C:\\Users\\HP\\anaconda3\\lib\\site-packages\\pandas\\core\\generic.py:6746: SettingWithCopyWarning: \n",
      "A value is trying to be set on a copy of a slice from a DataFrame\n",
      "\n",
      "See the caveats in the documentation: https://pandas.pydata.org/pandas-docs/stable/user_guide/indexing.html#returning-a-view-versus-a-copy\n",
      "  self._update_inplace(new_data)\n"
     ]
    }
   ],
   "source": [
    "x_cats.Gender.replace([1, 2],['male', 'female'], inplace=True)"
   ]
  },
  {
   "cell_type": "code",
   "execution_count": 45,
   "metadata": {},
   "outputs": [],
   "source": [
    "x_cats.Repayment_Status_Jan.replace([0,1,2,3,4,5,6],['janPaid','janDelay One','janDelay Two','janDelay Three','janDelay Four','janDelay Five','janDelay Six'], inplace = True)\n",
    "x_cats.Repayment_Status_Feb.replace([0,1,2,3,4,5,6],['febPaid','febDelay One','febDelay Two','febDelay Three','febDelay Four','febDelay Five','febDelay Six'], inplace = True)\n",
    "x_cats.Repayment_Status_March.replace([0,1,2,3,4,5,6],['marPaid','marDelay One','marDelay Two','marDelay Three','marDelay Four','marDelay Five','marDelay Six'], inplace = True)\n",
    "x_cats.Repayment_Status_April.replace([0,1,2,3,4,5,6],['aprilPaid','aprilDelay One','aprilDelay Two','aprilDelay Three','aprilDelay Four','aprilDelay Five','aprilDelay Six'], inplace = True)\n",
    "x_cats.Repayment_Status_May.replace([0,1,2,3,4,5,6],['mayPaid','mayDelay One','mayDelay Two','mayDelay Three','mayDelay Four','mayDelay Five','mayDelay Six'], inplace = True)\n",
    "x_cats.Repayment_Status_June.replace([0,1,2,3,4,5,6],['junePaid','juneDelay One','juneDelay Two','juneDelay Three','juneDelay Four','juneDelay Five','juneDelay Six'], inplace = True)"
   ]
  },
  {
   "cell_type": "code",
   "execution_count": 46,
   "metadata": {},
   "outputs": [],
   "source": [
    "x_cats.Marital.replace([1, 2, 3],['Married', 'Single', 'Abs'], inplace=True)"
   ]
  },
  {
   "cell_type": "code",
   "execution_count": 47,
   "metadata": {},
   "outputs": [],
   "source": [
    "x_cats.Academic_Qualification.replace([1,2,3,4,5,6],['Undergraduate', 'Graduate','Postgraduate','Professional','Others',\"Abm\"], inplace=True)"
   ]
  },
  {
   "cell_type": "code",
   "execution_count": 48,
   "metadata": {},
   "outputs": [
    {
     "data": {
      "text/html": [
       "<div>\n",
       "<style scoped>\n",
       "    .dataframe tbody tr th:only-of-type {\n",
       "        vertical-align: middle;\n",
       "    }\n",
       "\n",
       "    .dataframe tbody tr th {\n",
       "        vertical-align: top;\n",
       "    }\n",
       "\n",
       "    .dataframe thead th {\n",
       "        text-align: right;\n",
       "    }\n",
       "</style>\n",
       "<table border=\"1\" class=\"dataframe\">\n",
       "  <thead>\n",
       "    <tr style=\"text-align: right;\">\n",
       "      <th></th>\n",
       "      <th>Gender</th>\n",
       "      <th>Academic_Qualification</th>\n",
       "      <th>Marital</th>\n",
       "      <th>Repayment_Status_Jan</th>\n",
       "      <th>Repayment_Status_Feb</th>\n",
       "      <th>Repayment_Status_March</th>\n",
       "      <th>Repayment_Status_April</th>\n",
       "      <th>Repayment_Status_May</th>\n",
       "      <th>Repayment_Status_June</th>\n",
       "    </tr>\n",
       "  </thead>\n",
       "  <tbody>\n",
       "    <tr>\n",
       "      <th>0</th>\n",
       "      <td>female</td>\n",
       "      <td>Graduate</td>\n",
       "      <td>Married</td>\n",
       "      <td>janDelay Two</td>\n",
       "      <td>febDelay Two</td>\n",
       "      <td>marPaid</td>\n",
       "      <td>aprilPaid</td>\n",
       "      <td>mayPaid</td>\n",
       "      <td>junePaid</td>\n",
       "    </tr>\n",
       "    <tr>\n",
       "      <th>1</th>\n",
       "      <td>female</td>\n",
       "      <td>Graduate</td>\n",
       "      <td>Single</td>\n",
       "      <td>janPaid</td>\n",
       "      <td>febDelay Two</td>\n",
       "      <td>marPaid</td>\n",
       "      <td>aprilPaid</td>\n",
       "      <td>mayPaid</td>\n",
       "      <td>juneDelay Two</td>\n",
       "    </tr>\n",
       "    <tr>\n",
       "      <th>2</th>\n",
       "      <td>female</td>\n",
       "      <td>Graduate</td>\n",
       "      <td>Single</td>\n",
       "      <td>janPaid</td>\n",
       "      <td>febPaid</td>\n",
       "      <td>marPaid</td>\n",
       "      <td>aprilPaid</td>\n",
       "      <td>mayPaid</td>\n",
       "      <td>junePaid</td>\n",
       "    </tr>\n",
       "    <tr>\n",
       "      <th>3</th>\n",
       "      <td>female</td>\n",
       "      <td>Graduate</td>\n",
       "      <td>Married</td>\n",
       "      <td>janPaid</td>\n",
       "      <td>febPaid</td>\n",
       "      <td>marPaid</td>\n",
       "      <td>aprilPaid</td>\n",
       "      <td>mayPaid</td>\n",
       "      <td>junePaid</td>\n",
       "    </tr>\n",
       "    <tr>\n",
       "      <th>4</th>\n",
       "      <td>male</td>\n",
       "      <td>Graduate</td>\n",
       "      <td>Married</td>\n",
       "      <td>janPaid</td>\n",
       "      <td>febPaid</td>\n",
       "      <td>marPaid</td>\n",
       "      <td>aprilPaid</td>\n",
       "      <td>mayPaid</td>\n",
       "      <td>junePaid</td>\n",
       "    </tr>\n",
       "  </tbody>\n",
       "</table>\n",
       "</div>"
      ],
      "text/plain": [
       "   Gender Academic_Qualification  Marital Repayment_Status_Jan  \\\n",
       "0  female               Graduate  Married         janDelay Two   \n",
       "1  female               Graduate   Single              janPaid   \n",
       "2  female               Graduate   Single              janPaid   \n",
       "3  female               Graduate  Married              janPaid   \n",
       "4    male               Graduate  Married              janPaid   \n",
       "\n",
       "  Repayment_Status_Feb Repayment_Status_March Repayment_Status_April  \\\n",
       "0         febDelay Two                marPaid              aprilPaid   \n",
       "1         febDelay Two                marPaid              aprilPaid   \n",
       "2              febPaid                marPaid              aprilPaid   \n",
       "3              febPaid                marPaid              aprilPaid   \n",
       "4              febPaid                marPaid              aprilPaid   \n",
       "\n",
       "  Repayment_Status_May Repayment_Status_June  \n",
       "0              mayPaid              junePaid  \n",
       "1              mayPaid         juneDelay Two  \n",
       "2              mayPaid              junePaid  \n",
       "3              mayPaid              junePaid  \n",
       "4              mayPaid              junePaid  "
      ]
     },
     "execution_count": 48,
     "metadata": {},
     "output_type": "execute_result"
    }
   ],
   "source": [
    "x_cats.head()"
   ]
  },
  {
   "cell_type": "code",
   "execution_count": 49,
   "metadata": {},
   "outputs": [
    {
     "data": {
      "text/html": [
       "<div>\n",
       "<style scoped>\n",
       "    .dataframe tbody tr th:only-of-type {\n",
       "        vertical-align: middle;\n",
       "    }\n",
       "\n",
       "    .dataframe tbody tr th {\n",
       "        vertical-align: top;\n",
       "    }\n",
       "\n",
       "    .dataframe thead th {\n",
       "        text-align: right;\n",
       "    }\n",
       "</style>\n",
       "<table border=\"1\" class=\"dataframe\">\n",
       "  <thead>\n",
       "    <tr style=\"text-align: right;\">\n",
       "      <th></th>\n",
       "      <th>Gender_male</th>\n",
       "      <th>Academic_Qualification_Graduate</th>\n",
       "      <th>Academic_Qualification_Others</th>\n",
       "      <th>Academic_Qualification_Postgraduate</th>\n",
       "      <th>Academic_Qualification_Professional</th>\n",
       "      <th>Academic_Qualification_Undergraduate</th>\n",
       "      <th>Marital_Abs</th>\n",
       "      <th>Marital_Married</th>\n",
       "      <th>Marital_Single</th>\n",
       "      <th>Repayment_Status_Jan_janDelay Four</th>\n",
       "      <th>...</th>\n",
       "      <th>Repayment_Status_May_mayDelay Four</th>\n",
       "      <th>Repayment_Status_May_mayDelay Six</th>\n",
       "      <th>Repayment_Status_May_mayDelay Three</th>\n",
       "      <th>Repayment_Status_May_mayDelay Two</th>\n",
       "      <th>Repayment_Status_May_mayPaid</th>\n",
       "      <th>Repayment_Status_June_juneDelay Four</th>\n",
       "      <th>Repayment_Status_June_juneDelay Six</th>\n",
       "      <th>Repayment_Status_June_juneDelay Three</th>\n",
       "      <th>Repayment_Status_June_juneDelay Two</th>\n",
       "      <th>Repayment_Status_June_junePaid</th>\n",
       "    </tr>\n",
       "  </thead>\n",
       "  <tbody>\n",
       "    <tr>\n",
       "      <th>0</th>\n",
       "      <td>0</td>\n",
       "      <td>1</td>\n",
       "      <td>0</td>\n",
       "      <td>0</td>\n",
       "      <td>0</td>\n",
       "      <td>0</td>\n",
       "      <td>0</td>\n",
       "      <td>1</td>\n",
       "      <td>0</td>\n",
       "      <td>0</td>\n",
       "      <td>...</td>\n",
       "      <td>0</td>\n",
       "      <td>0</td>\n",
       "      <td>0</td>\n",
       "      <td>0</td>\n",
       "      <td>1</td>\n",
       "      <td>0</td>\n",
       "      <td>0</td>\n",
       "      <td>0</td>\n",
       "      <td>0</td>\n",
       "      <td>1</td>\n",
       "    </tr>\n",
       "    <tr>\n",
       "      <th>1</th>\n",
       "      <td>0</td>\n",
       "      <td>1</td>\n",
       "      <td>0</td>\n",
       "      <td>0</td>\n",
       "      <td>0</td>\n",
       "      <td>0</td>\n",
       "      <td>0</td>\n",
       "      <td>0</td>\n",
       "      <td>1</td>\n",
       "      <td>0</td>\n",
       "      <td>...</td>\n",
       "      <td>0</td>\n",
       "      <td>0</td>\n",
       "      <td>0</td>\n",
       "      <td>0</td>\n",
       "      <td>1</td>\n",
       "      <td>0</td>\n",
       "      <td>0</td>\n",
       "      <td>0</td>\n",
       "      <td>1</td>\n",
       "      <td>0</td>\n",
       "    </tr>\n",
       "    <tr>\n",
       "      <th>2</th>\n",
       "      <td>0</td>\n",
       "      <td>1</td>\n",
       "      <td>0</td>\n",
       "      <td>0</td>\n",
       "      <td>0</td>\n",
       "      <td>0</td>\n",
       "      <td>0</td>\n",
       "      <td>0</td>\n",
       "      <td>1</td>\n",
       "      <td>0</td>\n",
       "      <td>...</td>\n",
       "      <td>0</td>\n",
       "      <td>0</td>\n",
       "      <td>0</td>\n",
       "      <td>0</td>\n",
       "      <td>1</td>\n",
       "      <td>0</td>\n",
       "      <td>0</td>\n",
       "      <td>0</td>\n",
       "      <td>0</td>\n",
       "      <td>1</td>\n",
       "    </tr>\n",
       "    <tr>\n",
       "      <th>3</th>\n",
       "      <td>0</td>\n",
       "      <td>1</td>\n",
       "      <td>0</td>\n",
       "      <td>0</td>\n",
       "      <td>0</td>\n",
       "      <td>0</td>\n",
       "      <td>0</td>\n",
       "      <td>1</td>\n",
       "      <td>0</td>\n",
       "      <td>0</td>\n",
       "      <td>...</td>\n",
       "      <td>0</td>\n",
       "      <td>0</td>\n",
       "      <td>0</td>\n",
       "      <td>0</td>\n",
       "      <td>1</td>\n",
       "      <td>0</td>\n",
       "      <td>0</td>\n",
       "      <td>0</td>\n",
       "      <td>0</td>\n",
       "      <td>1</td>\n",
       "    </tr>\n",
       "    <tr>\n",
       "      <th>4</th>\n",
       "      <td>1</td>\n",
       "      <td>1</td>\n",
       "      <td>0</td>\n",
       "      <td>0</td>\n",
       "      <td>0</td>\n",
       "      <td>0</td>\n",
       "      <td>0</td>\n",
       "      <td>1</td>\n",
       "      <td>0</td>\n",
       "      <td>0</td>\n",
       "      <td>...</td>\n",
       "      <td>0</td>\n",
       "      <td>0</td>\n",
       "      <td>0</td>\n",
       "      <td>0</td>\n",
       "      <td>1</td>\n",
       "      <td>0</td>\n",
       "      <td>0</td>\n",
       "      <td>0</td>\n",
       "      <td>0</td>\n",
       "      <td>1</td>\n",
       "    </tr>\n",
       "  </tbody>\n",
       "</table>\n",
       "<p>5 rows × 43 columns</p>\n",
       "</div>"
      ],
      "text/plain": [
       "   Gender_male  Academic_Qualification_Graduate  \\\n",
       "0            0                                1   \n",
       "1            0                                1   \n",
       "2            0                                1   \n",
       "3            0                                1   \n",
       "4            1                                1   \n",
       "\n",
       "   Academic_Qualification_Others  Academic_Qualification_Postgraduate  \\\n",
       "0                              0                                    0   \n",
       "1                              0                                    0   \n",
       "2                              0                                    0   \n",
       "3                              0                                    0   \n",
       "4                              0                                    0   \n",
       "\n",
       "   Academic_Qualification_Professional  Academic_Qualification_Undergraduate  \\\n",
       "0                                    0                                     0   \n",
       "1                                    0                                     0   \n",
       "2                                    0                                     0   \n",
       "3                                    0                                     0   \n",
       "4                                    0                                     0   \n",
       "\n",
       "   Marital_Abs  Marital_Married  Marital_Single  \\\n",
       "0            0                1               0   \n",
       "1            0                0               1   \n",
       "2            0                0               1   \n",
       "3            0                1               0   \n",
       "4            0                1               0   \n",
       "\n",
       "   Repayment_Status_Jan_janDelay Four  ...  \\\n",
       "0                                   0  ...   \n",
       "1                                   0  ...   \n",
       "2                                   0  ...   \n",
       "3                                   0  ...   \n",
       "4                                   0  ...   \n",
       "\n",
       "   Repayment_Status_May_mayDelay Four  Repayment_Status_May_mayDelay Six  \\\n",
       "0                                   0                                  0   \n",
       "1                                   0                                  0   \n",
       "2                                   0                                  0   \n",
       "3                                   0                                  0   \n",
       "4                                   0                                  0   \n",
       "\n",
       "   Repayment_Status_May_mayDelay Three  Repayment_Status_May_mayDelay Two  \\\n",
       "0                                    0                                  0   \n",
       "1                                    0                                  0   \n",
       "2                                    0                                  0   \n",
       "3                                    0                                  0   \n",
       "4                                    0                                  0   \n",
       "\n",
       "   Repayment_Status_May_mayPaid  Repayment_Status_June_juneDelay Four  \\\n",
       "0                             1                                     0   \n",
       "1                             1                                     0   \n",
       "2                             1                                     0   \n",
       "3                             1                                     0   \n",
       "4                             1                                     0   \n",
       "\n",
       "   Repayment_Status_June_juneDelay Six  Repayment_Status_June_juneDelay Three  \\\n",
       "0                                    0                                      0   \n",
       "1                                    0                                      0   \n",
       "2                                    0                                      0   \n",
       "3                                    0                                      0   \n",
       "4                                    0                                      0   \n",
       "\n",
       "   Repayment_Status_June_juneDelay Two  Repayment_Status_June_junePaid  \n",
       "0                                    0                               1  \n",
       "1                                    1                               0  \n",
       "2                                    0                               1  \n",
       "3                                    0                               1  \n",
       "4                                    0                               1  \n",
       "\n",
       "[5 rows x 43 columns]"
      ]
     },
     "execution_count": 49,
     "metadata": {},
     "output_type": "execute_result"
    }
   ],
   "source": [
    "x_cat = pd.get_dummies(x_cats, drop_first=True)\n",
    "x_cat.head()"
   ]
  },
  {
   "cell_type": "code",
   "execution_count": 50,
   "metadata": {},
   "outputs": [],
   "source": [
    "##processing the numerical data"
   ]
  },
  {
   "cell_type": "code",
   "execution_count": 51,
   "metadata": {},
   "outputs": [
    {
     "data": {
      "text/html": [
       "<div>\n",
       "<style scoped>\n",
       "    .dataframe tbody tr th:only-of-type {\n",
       "        vertical-align: middle;\n",
       "    }\n",
       "\n",
       "    .dataframe tbody tr th {\n",
       "        vertical-align: top;\n",
       "    }\n",
       "\n",
       "    .dataframe thead th {\n",
       "        text-align: right;\n",
       "    }\n",
       "</style>\n",
       "<table border=\"1\" class=\"dataframe\">\n",
       "  <thead>\n",
       "    <tr style=\"text-align: right;\">\n",
       "      <th></th>\n",
       "      <th>Credit_Amount</th>\n",
       "      <th>Age_Years</th>\n",
       "      <th>Jan_Bill_Amount</th>\n",
       "      <th>Feb_Bill_Amount</th>\n",
       "      <th>March_Bill_Amount</th>\n",
       "      <th>April_Bill_Amount</th>\n",
       "      <th>May_Bill_Amount</th>\n",
       "      <th>June_Bill_Amount</th>\n",
       "      <th>Previous_Payment_Jan</th>\n",
       "      <th>Previous_Payment_Feb</th>\n",
       "      <th>Previous_Payment_March</th>\n",
       "      <th>Previous_Payment_April</th>\n",
       "      <th>Previous_Payment_May</th>\n",
       "      <th>Previous_Payment_June</th>\n",
       "    </tr>\n",
       "  </thead>\n",
       "  <tbody>\n",
       "    <tr>\n",
       "      <th>0</th>\n",
       "      <td>20000.0</td>\n",
       "      <td>24</td>\n",
       "      <td>3933.0</td>\n",
       "      <td>3103.0</td>\n",
       "      <td>689.0</td>\n",
       "      <td>0.0</td>\n",
       "      <td>0.0</td>\n",
       "      <td>0.0</td>\n",
       "      <td>0.0</td>\n",
       "      <td>679.0</td>\n",
       "      <td>0.0</td>\n",
       "      <td>0.0</td>\n",
       "      <td>0.0</td>\n",
       "      <td>0.0</td>\n",
       "    </tr>\n",
       "    <tr>\n",
       "      <th>1</th>\n",
       "      <td>220000.0</td>\n",
       "      <td>26</td>\n",
       "      <td>3683.0</td>\n",
       "      <td>1735.0</td>\n",
       "      <td>2682.0</td>\n",
       "      <td>3272.0</td>\n",
       "      <td>3455.0</td>\n",
       "      <td>3261.0</td>\n",
       "      <td>0.0</td>\n",
       "      <td>2000.0</td>\n",
       "      <td>1000.0</td>\n",
       "      <td>1000.0</td>\n",
       "      <td>0.0</td>\n",
       "      <td>2000.0</td>\n",
       "    </tr>\n",
       "    <tr>\n",
       "      <th>2</th>\n",
       "      <td>90000.0</td>\n",
       "      <td>34</td>\n",
       "      <td>39339.0</td>\n",
       "      <td>14037.0</td>\n",
       "      <td>23559.0</td>\n",
       "      <td>24332.0</td>\n",
       "      <td>14848.0</td>\n",
       "      <td>15548.0</td>\n",
       "      <td>1619.0</td>\n",
       "      <td>2500.0</td>\n",
       "      <td>1000.0</td>\n",
       "      <td>1000.0</td>\n",
       "      <td>1000.0</td>\n",
       "      <td>5000.0</td>\n",
       "    </tr>\n",
       "    <tr>\n",
       "      <th>3</th>\n",
       "      <td>50000.0</td>\n",
       "      <td>37</td>\n",
       "      <td>46990.0</td>\n",
       "      <td>48333.0</td>\n",
       "      <td>49292.0</td>\n",
       "      <td>29324.0</td>\n",
       "      <td>28858.0</td>\n",
       "      <td>28547.0</td>\n",
       "      <td>3000.0</td>\n",
       "      <td>2029.0</td>\n",
       "      <td>1200.0</td>\n",
       "      <td>1100.0</td>\n",
       "      <td>1069.0</td>\n",
       "      <td>1000.0</td>\n",
       "    </tr>\n",
       "    <tr>\n",
       "      <th>4</th>\n",
       "      <td>50000.0</td>\n",
       "      <td>57</td>\n",
       "      <td>8637.0</td>\n",
       "      <td>5570.0</td>\n",
       "      <td>35835.0</td>\n",
       "      <td>20940.0</td>\n",
       "      <td>18146.0</td>\n",
       "      <td>18131.0</td>\n",
       "      <td>3000.0</td>\n",
       "      <td>36672.0</td>\n",
       "      <td>10000.0</td>\n",
       "      <td>9000.0</td>\n",
       "      <td>689.0</td>\n",
       "      <td>679.0</td>\n",
       "    </tr>\n",
       "    <tr>\n",
       "      <th>...</th>\n",
       "      <td>...</td>\n",
       "      <td>...</td>\n",
       "      <td>...</td>\n",
       "      <td>...</td>\n",
       "      <td>...</td>\n",
       "      <td>...</td>\n",
       "      <td>...</td>\n",
       "      <td>...</td>\n",
       "      <td>...</td>\n",
       "      <td>...</td>\n",
       "      <td>...</td>\n",
       "      <td>...</td>\n",
       "      <td>...</td>\n",
       "      <td>...</td>\n",
       "    </tr>\n",
       "    <tr>\n",
       "      <th>29995</th>\n",
       "      <td>220000.0</td>\n",
       "      <td>39</td>\n",
       "      <td>388948.0</td>\n",
       "      <td>183815.0</td>\n",
       "      <td>208365.0</td>\n",
       "      <td>99004.0</td>\n",
       "      <td>31237.0</td>\n",
       "      <td>15880.0</td>\n",
       "      <td>9600.0</td>\n",
       "      <td>20000.0</td>\n",
       "      <td>5005.0</td>\n",
       "      <td>3047.0</td>\n",
       "      <td>5000.0</td>\n",
       "      <td>1000.0</td>\n",
       "    </tr>\n",
       "    <tr>\n",
       "      <th>29996</th>\n",
       "      <td>250000.0</td>\n",
       "      <td>43</td>\n",
       "      <td>3683.0</td>\n",
       "      <td>1838.0</td>\n",
       "      <td>3502.0</td>\n",
       "      <td>9979.0</td>\n",
       "      <td>5180.0</td>\n",
       "      <td>0.0</td>\n",
       "      <td>1937.0</td>\n",
       "      <td>3526.0</td>\n",
       "      <td>9999.0</td>\n",
       "      <td>139.0</td>\n",
       "      <td>0.0</td>\n",
       "      <td>0.0</td>\n",
       "    </tr>\n",
       "    <tr>\n",
       "      <th>29997</th>\n",
       "      <td>30000.0</td>\n",
       "      <td>37</td>\n",
       "      <td>3565.0</td>\n",
       "      <td>3355.0</td>\n",
       "      <td>2758.0</td>\n",
       "      <td>20979.0</td>\n",
       "      <td>20582.0</td>\n",
       "      <td>18357.0</td>\n",
       "      <td>0.0</td>\n",
       "      <td>0.0</td>\n",
       "      <td>22000.0</td>\n",
       "      <td>4300.0</td>\n",
       "      <td>3000.0</td>\n",
       "      <td>3100.0</td>\n",
       "    </tr>\n",
       "    <tr>\n",
       "      <th>29998</th>\n",
       "      <td>80000.0</td>\n",
       "      <td>41</td>\n",
       "      <td>-3645.0</td>\n",
       "      <td>78378.0</td>\n",
       "      <td>76304.0</td>\n",
       "      <td>52774.0</td>\n",
       "      <td>11855.0</td>\n",
       "      <td>48844.0</td>\n",
       "      <td>96900.0</td>\n",
       "      <td>3409.0</td>\n",
       "      <td>1179.0</td>\n",
       "      <td>1935.0</td>\n",
       "      <td>53965.0</td>\n",
       "      <td>1804.0</td>\n",
       "    </tr>\n",
       "    <tr>\n",
       "      <th>29999</th>\n",
       "      <td>50000.0</td>\n",
       "      <td>46</td>\n",
       "      <td>47939.0</td>\n",
       "      <td>48805.0</td>\n",
       "      <td>49764.0</td>\n",
       "      <td>36535.0</td>\n",
       "      <td>32428.0</td>\n",
       "      <td>15313.0</td>\n",
       "      <td>3079.0</td>\n",
       "      <td>2700.0</td>\n",
       "      <td>1550.0</td>\n",
       "      <td>1000.0</td>\n",
       "      <td>1000.0</td>\n",
       "      <td>1000.0</td>\n",
       "    </tr>\n",
       "  </tbody>\n",
       "</table>\n",
       "<p>30000 rows × 14 columns</p>\n",
       "</div>"
      ],
      "text/plain": [
       "       Credit_Amount  Age_Years  Jan_Bill_Amount  Feb_Bill_Amount  \\\n",
       "0            20000.0         24           3933.0           3103.0   \n",
       "1           220000.0         26           3683.0           1735.0   \n",
       "2            90000.0         34          39339.0          14037.0   \n",
       "3            50000.0         37          46990.0          48333.0   \n",
       "4            50000.0         57           8637.0           5570.0   \n",
       "...              ...        ...              ...              ...   \n",
       "29995       220000.0         39         388948.0         183815.0   \n",
       "29996       250000.0         43           3683.0           1838.0   \n",
       "29997        30000.0         37           3565.0           3355.0   \n",
       "29998        80000.0         41          -3645.0          78378.0   \n",
       "29999        50000.0         46          47939.0          48805.0   \n",
       "\n",
       "       March_Bill_Amount  April_Bill_Amount  May_Bill_Amount  \\\n",
       "0                  689.0                0.0              0.0   \n",
       "1                 2682.0             3272.0           3455.0   \n",
       "2                23559.0            24332.0          14848.0   \n",
       "3                49292.0            29324.0          28858.0   \n",
       "4                35835.0            20940.0          18146.0   \n",
       "...                  ...                ...              ...   \n",
       "29995           208365.0            99004.0          31237.0   \n",
       "29996             3502.0             9979.0           5180.0   \n",
       "29997             2758.0            20979.0          20582.0   \n",
       "29998            76304.0            52774.0          11855.0   \n",
       "29999            49764.0            36535.0          32428.0   \n",
       "\n",
       "       June_Bill_Amount  Previous_Payment_Jan  Previous_Payment_Feb  \\\n",
       "0                   0.0                   0.0                 679.0   \n",
       "1                3261.0                   0.0                2000.0   \n",
       "2               15548.0                1619.0                2500.0   \n",
       "3               28547.0                3000.0                2029.0   \n",
       "4               18131.0                3000.0               36672.0   \n",
       "...                 ...                   ...                   ...   \n",
       "29995           15880.0                9600.0               20000.0   \n",
       "29996               0.0                1937.0                3526.0   \n",
       "29997           18357.0                   0.0                   0.0   \n",
       "29998           48844.0               96900.0                3409.0   \n",
       "29999           15313.0                3079.0                2700.0   \n",
       "\n",
       "       Previous_Payment_March  Previous_Payment_April  Previous_Payment_May  \\\n",
       "0                         0.0                     0.0                   0.0   \n",
       "1                      1000.0                  1000.0                   0.0   \n",
       "2                      1000.0                  1000.0                1000.0   \n",
       "3                      1200.0                  1100.0                1069.0   \n",
       "4                     10000.0                  9000.0                 689.0   \n",
       "...                       ...                     ...                   ...   \n",
       "29995                  5005.0                  3047.0                5000.0   \n",
       "29996                  9999.0                   139.0                   0.0   \n",
       "29997                 22000.0                  4300.0                3000.0   \n",
       "29998                  1179.0                  1935.0               53965.0   \n",
       "29999                  1550.0                  1000.0                1000.0   \n",
       "\n",
       "       Previous_Payment_June  \n",
       "0                        0.0  \n",
       "1                     2000.0  \n",
       "2                     5000.0  \n",
       "3                     1000.0  \n",
       "4                      679.0  \n",
       "...                      ...  \n",
       "29995                 1000.0  \n",
       "29996                    0.0  \n",
       "29997                 3100.0  \n",
       "29998                 1804.0  \n",
       "29999                 1000.0  \n",
       "\n",
       "[30000 rows x 14 columns]"
      ]
     },
     "execution_count": 51,
     "metadata": {},
     "output_type": "execute_result"
    }
   ],
   "source": [
    "x_num"
   ]
  },
  {
   "cell_type": "code",
   "execution_count": 52,
   "metadata": {},
   "outputs": [
    {
     "data": {
      "text/plain": [
       "count    3.000000e+04\n",
       "mean     1.929173e+05\n",
       "std      1.322888e+05\n",
       "min      2.000000e+04\n",
       "25%      5.000000e+04\n",
       "50%      2.200000e+05\n",
       "75%      2.700000e+05\n",
       "max      2.000000e+06\n",
       "Name: Credit_Amount, dtype: float64"
      ]
     },
     "execution_count": 52,
     "metadata": {},
     "output_type": "execute_result"
    }
   ],
   "source": [
    "x_num['Credit_Amount'].describe()"
   ]
  },
  {
   "cell_type": "code",
   "execution_count": 53,
   "metadata": {},
   "outputs": [
    {
     "data": {
      "text/plain": [
       "0.5158938844100289"
      ]
     },
     "execution_count": 53,
     "metadata": {},
     "output_type": "execute_result"
    }
   ],
   "source": [
    "x_num['Credit_Amount'].skew()"
   ]
  },
  {
   "cell_type": "code",
   "execution_count": 54,
   "metadata": {},
   "outputs": [
    {
     "data": {
      "image/png": "[encoded data removed]",
      "text/plain": [
       "<Figure size 432x288 with 1 Axes>"
      ]
     },
     "metadata": {
      "needs_background": "light"
     },
     "output_type": "display_data"
    }
   ],
   "source": [
    "sns.boxplot(x_num['Credit_Amount'])\n",
    "plt.show()"
   ]
  },
  {
   "cell_type": "code",
   "execution_count": 55,
   "metadata": {},
   "outputs": [
    {
     "data": {
      "text/plain": [
       "[<matplotlib.lines.Line2D at 0x1edbac04bb0>]"
      ]
     },
     "execution_count": 55,
     "metadata": {},
     "output_type": "execute_result"
    },
    {
     "data": {
      "image/png": "[encoded data removed]",
      "text/plain": [
       "<Figure size 720x576 with 1 Axes>"
      ]
     },
     "metadata": {
      "needs_background": "light"
     },
     "output_type": "display_data"
    }
   ],
   "source": [
    "#check outliers in price\n",
    "\n",
    "p=[ ]\n",
    "for i in range(1,100):\n",
    "    xyz = (x_num['Credit_Amount'].quantile(i/100))\n",
    "    p.append(xyz)\n",
    "p = pd.DataFrame(p)\n",
    "\n",
    "plt.figure(figsize=(10,8))\n",
    "plt.plot(p, '^')"
   ]
  },
  {
   "cell_type": "code",
   "execution_count": 56,
   "metadata": {},
   "outputs": [
    {
     "data": {
      "text/plain": [
       "[<matplotlib.lines.Line2D at 0x1edbae41160>]"
      ]
     },
     "execution_count": 56,
     "metadata": {},
     "output_type": "execute_result"
    },
    {
     "data": {
      "image/png": "[encoded data removed]",
      "text/plain": [
       "<Figure size 720x576 with 1 Axes>"
      ]
     },
     "metadata": {
      "needs_background": "light"
     },
     "output_type": "display_data"
    }
   ],
   "source": [
    "#check outliers in Jan_Bill_Amount\n",
    "\n",
    "p=[ ]\n",
    "for i in range(1,100):\n",
    "    xyz = (x_num['Jan_Bill_Amount'].quantile(i/100))\n",
    "    p.append(xyz)\n",
    "p = pd.DataFrame(p)\n",
    "\n",
    "plt.figure(figsize=(10,8))\n",
    "plt.plot(p, '^')"
   ]
  },
  {
   "cell_type": "code",
   "execution_count": 57,
   "metadata": {},
   "outputs": [
    {
     "data": {
      "text/plain": [
       "[<matplotlib.lines.Line2D at 0x1edbb03b850>]"
      ]
     },
     "execution_count": 57,
     "metadata": {},
     "output_type": "execute_result"
    },
    {
     "data": {
      "image/png": "[encoded data removed]",
      "text/plain": [
       "<Figure size 720x576 with 1 Axes>"
      ]
     },
     "metadata": {
      "needs_background": "light"
     },
     "output_type": "display_data"
    }
   ],
   "source": [
    "#check outliers in Feb_Bill_Amount\n",
    "\n",
    "p=[ ]\n",
    "for i in range(1,100):\n",
    "    xyz = (x_num['Feb_Bill_Amount'].quantile(i/100))\n",
    "    p.append(xyz)\n",
    "p = pd.DataFrame(p)\n",
    "\n",
    "plt.figure(figsize=(10,8))\n",
    "plt.plot(p, '^')"
   ]
  },
  {
   "cell_type": "code",
   "execution_count": 58,
   "metadata": {},
   "outputs": [
    {
     "data": {
      "text/plain": [
       "[<matplotlib.lines.Line2D at 0x1edbb390910>]"
      ]
     },
     "execution_count": 58,
     "metadata": {},
     "output_type": "execute_result"
    },
    {
     "data": {
      "image/png": "[encoded data removed]",
      "text/plain": [
       "<Figure size 720x576 with 1 Axes>"
      ]
     },
     "metadata": {
      "needs_background": "light"
     },
     "output_type": "display_data"
    }
   ],
   "source": [
    "#check outliers in Feb_Bill_Amount\n",
    "\n",
    "p=[ ]\n",
    "for i in range(1,100):\n",
    "    xyz = (x_num['March_Bill_Amount'].quantile(i/100))\n",
    "    p.append(xyz)\n",
    "p = pd.DataFrame(p)\n",
    "\n",
    "plt.figure(figsize=(10,8))\n",
    "plt.plot(p, '^')"
   ]
  },
  {
   "cell_type": "code",
   "execution_count": 59,
   "metadata": {},
   "outputs": [
    {
     "data": {
      "text/plain": [
       "[<matplotlib.lines.Line2D at 0x1edbb589610>]"
      ]
     },
     "execution_count": 59,
     "metadata": {},
     "output_type": "execute_result"
    },
    {
     "data": {
      "image/png": "[encoded data removed]",
      "text/plain": [
       "<Figure size 720x576 with 1 Axes>"
      ]
     },
     "metadata": {
      "needs_background": "light"
     },
     "output_type": "display_data"
    }
   ],
   "source": [
    "#check outliers in Feb_Bill_Amount\n",
    "\n",
    "p=[ ]\n",
    "for i in range(1,100):\n",
    "    xyz = (x_num['April_Bill_Amount'].quantile(i/100))\n",
    "    p.append(xyz)\n",
    "p = pd.DataFrame(p)\n",
    "\n",
    "plt.figure(figsize=(10,8))\n",
    "plt.plot(p, '^')"
   ]
  },
  {
   "cell_type": "code",
   "execution_count": 60,
   "metadata": {},
   "outputs": [
    {
     "data": {
      "text/plain": [
       "[<matplotlib.lines.Line2D at 0x1edbb6c30a0>]"
      ]
     },
     "execution_count": 60,
     "metadata": {},
     "output_type": "execute_result"
    },
    {
     "data": {
      "image/png": "[encoded data removed]",
      "text/plain": [
       "<Figure size 720x576 with 1 Axes>"
      ]
     },
     "metadata": {
      "needs_background": "light"
     },
     "output_type": "display_data"
    }
   ],
   "source": [
    "#check outliers in Feb_Bill_Amount\n",
    "\n",
    "p=[ ]\n",
    "for i in range(1,100):\n",
    "    xyz = (x_num['May_Bill_Amount'].quantile(i/100))\n",
    "    p.append(xyz)\n",
    "p = pd.DataFrame(p)\n",
    "\n",
    "plt.figure(figsize=(10,8))\n",
    "plt.plot(p, '^')"
   ]
  },
  {
   "cell_type": "code",
   "execution_count": 61,
   "metadata": {},
   "outputs": [
    {
     "data": {
      "text/plain": [
       "[<matplotlib.lines.Line2D at 0x1edbb7136a0>]"
      ]
     },
     "execution_count": 61,
     "metadata": {},
     "output_type": "execute_result"
    },
    {
     "data": {
      "image/png": "[encoded data removed]",
      "text/plain": [
       "<Figure size 720x576 with 1 Axes>"
      ]
     },
     "metadata": {
      "needs_background": "light"
     },
     "output_type": "display_data"
    }
   ],
   "source": [
    "#check outliers in Feb_Bill_Amount\n",
    "\n",
    "p=[ ]\n",
    "for i in range(1,100):\n",
    "    xyz = (x_num['June_Bill_Amount'].quantile(i/100))\n",
    "    p.append(xyz)\n",
    "p = pd.DataFrame(p)\n",
    "\n",
    "plt.figure(figsize=(10,8))\n",
    "plt.plot(p, '^')"
   ]
  },
  {
   "cell_type": "code",
   "execution_count": 62,
   "metadata": {},
   "outputs": [
    {
     "data": {
      "text/plain": [
       "count     30000.000000\n",
       "mean       6285.653867\n",
       "std       18944.920299\n",
       "min           0.000000\n",
       "25%        1000.000000\n",
       "50%        3000.000000\n",
       "75%        6000.000000\n",
       "max      973663.000000\n",
       "Name: Previous_Payment_Jan, dtype: float64"
      ]
     },
     "execution_count": 62,
     "metadata": {},
     "output_type": "execute_result"
    }
   ],
   "source": [
    "x_num['Previous_Payment_Jan'].describe()"
   ]
  },
  {
   "cell_type": "code",
   "execution_count": 63,
   "metadata": {},
   "outputs": [
    {
     "data": {
      "text/plain": [
       "[<matplotlib.lines.Line2D at 0x1edbb765d90>]"
      ]
     },
     "execution_count": 63,
     "metadata": {},
     "output_type": "execute_result"
    },
    {
     "data": {
      "image/png": "[encoded data removed]",
      "text/plain": [
       "<Figure size 720x576 with 1 Axes>"
      ]
     },
     "metadata": {
      "needs_background": "light"
     },
     "output_type": "display_data"
    }
   ],
   "source": [
    "#check outliers in price\n",
    "\n",
    "p=[ ]\n",
    "for i in range(1,100):\n",
    "    xyz = (x_num['Previous_Payment_Jan'].quantile(i/100))\n",
    "    p.append(xyz)\n",
    "p = pd.DataFrame(p)\n",
    "\n",
    "plt.figure(figsize=(10,8))\n",
    "plt.plot(p, '^')"
   ]
  },
  {
   "cell_type": "code",
   "execution_count": 64,
   "metadata": {},
   "outputs": [
    {
     "data": {
      "text/plain": [
       "[<matplotlib.lines.Line2D at 0x1edbb9fcf10>]"
      ]
     },
     "execution_count": 64,
     "metadata": {},
     "output_type": "execute_result"
    },
    {
     "data": {
      "image/png": "[encoded data removed]",
      "text/plain": [
       "<Figure size 720x576 with 1 Axes>"
      ]
     },
     "metadata": {
      "needs_background": "light"
     },
     "output_type": "display_data"
    }
   ],
   "source": [
    "#check outliers in Feb_Bill_Amount\n",
    "\n",
    "p=[ ]\n",
    "for i in range(1,100):\n",
    "    xyz = (x_num['Previous_Payment_Feb'].quantile(i/100))\n",
    "    p.append(xyz)\n",
    "p = pd.DataFrame(p)\n",
    "\n",
    "plt.figure(figsize=(10,8))\n",
    "plt.plot(p, '^')"
   ]
  },
  {
   "cell_type": "code",
   "execution_count": 65,
   "metadata": {},
   "outputs": [
    {
     "data": {
      "text/plain": [
       "[<matplotlib.lines.Line2D at 0x1edbb007790>]"
      ]
     },
     "execution_count": 65,
     "metadata": {},
     "output_type": "execute_result"
    },
    {
     "data": {
      "image/png": "[encoded data removed]",
      "text/plain": [
       "<Figure size 720x576 with 1 Axes>"
      ]
     },
     "metadata": {
      "needs_background": "light"
     },
     "output_type": "display_data"
    }
   ],
   "source": [
    "#check outliers in Feb_Bill_Amount\n",
    "\n",
    "p=[ ]\n",
    "for i in range(1,100):\n",
    "    xyz = (x_num['Previous_Payment_March'].quantile(i/100))\n",
    "    p.append(xyz)\n",
    "p = pd.DataFrame(p)\n",
    "\n",
    "pd.set_option('max_rows', None)\n",
    "\n",
    "plt.figure(figsize=(10,8))\n",
    "plt.plot(p, '^')"
   ]
  },
  {
   "cell_type": "code",
   "execution_count": 66,
   "metadata": {},
   "outputs": [
    {
     "data": {
      "text/html": [
       "<div>\n",
       "<style scoped>\n",
       "    .dataframe tbody tr th:only-of-type {\n",
       "        vertical-align: middle;\n",
       "    }\n",
       "\n",
       "    .dataframe tbody tr th {\n",
       "        vertical-align: top;\n",
       "    }\n",
       "\n",
       "    .dataframe thead th {\n",
       "        text-align: right;\n",
       "    }\n",
       "</style>\n",
       "<table border=\"1\" class=\"dataframe\">\n",
       "  <thead>\n",
       "    <tr style=\"text-align: right;\">\n",
       "      <th></th>\n",
       "      <th>0</th>\n",
       "    </tr>\n",
       "  </thead>\n",
       "  <tbody>\n",
       "    <tr>\n",
       "      <th>0</th>\n",
       "      <td>0.00</td>\n",
       "    </tr>\n",
       "    <tr>\n",
       "      <th>1</th>\n",
       "      <td>0.00</td>\n",
       "    </tr>\n",
       "    <tr>\n",
       "      <th>2</th>\n",
       "      <td>0.00</td>\n",
       "    </tr>\n",
       "    <tr>\n",
       "      <th>3</th>\n",
       "      <td>0.00</td>\n",
       "    </tr>\n",
       "    <tr>\n",
       "      <th>4</th>\n",
       "      <td>0.00</td>\n",
       "    </tr>\n",
       "    <tr>\n",
       "      <th>5</th>\n",
       "      <td>0.00</td>\n",
       "    </tr>\n",
       "    <tr>\n",
       "      <th>6</th>\n",
       "      <td>0.00</td>\n",
       "    </tr>\n",
       "    <tr>\n",
       "      <th>7</th>\n",
       "      <td>0.00</td>\n",
       "    </tr>\n",
       "    <tr>\n",
       "      <th>8</th>\n",
       "      <td>0.00</td>\n",
       "    </tr>\n",
       "    <tr>\n",
       "      <th>9</th>\n",
       "      <td>0.00</td>\n",
       "    </tr>\n",
       "    <tr>\n",
       "      <th>10</th>\n",
       "      <td>0.00</td>\n",
       "    </tr>\n",
       "    <tr>\n",
       "      <th>11</th>\n",
       "      <td>0.00</td>\n",
       "    </tr>\n",
       "    <tr>\n",
       "      <th>12</th>\n",
       "      <td>0.00</td>\n",
       "    </tr>\n",
       "    <tr>\n",
       "      <th>13</th>\n",
       "      <td>0.00</td>\n",
       "    </tr>\n",
       "    <tr>\n",
       "      <th>14</th>\n",
       "      <td>0.00</td>\n",
       "    </tr>\n",
       "    <tr>\n",
       "      <th>15</th>\n",
       "      <td>0.00</td>\n",
       "    </tr>\n",
       "    <tr>\n",
       "      <th>16</th>\n",
       "      <td>0.00</td>\n",
       "    </tr>\n",
       "    <tr>\n",
       "      <th>17</th>\n",
       "      <td>0.00</td>\n",
       "    </tr>\n",
       "    <tr>\n",
       "      <th>18</th>\n",
       "      <td>0.00</td>\n",
       "    </tr>\n",
       "    <tr>\n",
       "      <th>19</th>\n",
       "      <td>4.40</td>\n",
       "    </tr>\n",
       "    <tr>\n",
       "      <th>20</th>\n",
       "      <td>95.00</td>\n",
       "    </tr>\n",
       "    <tr>\n",
       "      <th>21</th>\n",
       "      <td>200.00</td>\n",
       "    </tr>\n",
       "    <tr>\n",
       "      <th>22</th>\n",
       "      <td>500.00</td>\n",
       "    </tr>\n",
       "    <tr>\n",
       "      <th>23</th>\n",
       "      <td>511.00</td>\n",
       "    </tr>\n",
       "    <tr>\n",
       "      <th>24</th>\n",
       "      <td>550.00</td>\n",
       "    </tr>\n",
       "    <tr>\n",
       "      <th>25</th>\n",
       "      <td>571.00</td>\n",
       "    </tr>\n",
       "    <tr>\n",
       "      <th>26</th>\n",
       "      <td>590.00</td>\n",
       "    </tr>\n",
       "    <tr>\n",
       "      <th>27</th>\n",
       "      <td>615.00</td>\n",
       "    </tr>\n",
       "    <tr>\n",
       "      <th>28</th>\n",
       "      <td>696.00</td>\n",
       "    </tr>\n",
       "    <tr>\n",
       "      <th>29</th>\n",
       "      <td>790.00</td>\n",
       "    </tr>\n",
       "    <tr>\n",
       "      <th>30</th>\n",
       "      <td>920.00</td>\n",
       "    </tr>\n",
       "    <tr>\n",
       "      <th>31</th>\n",
       "      <td>990.00</td>\n",
       "    </tr>\n",
       "    <tr>\n",
       "      <th>32</th>\n",
       "      <td>1000.00</td>\n",
       "    </tr>\n",
       "    <tr>\n",
       "      <th>33</th>\n",
       "      <td>1000.00</td>\n",
       "    </tr>\n",
       "    <tr>\n",
       "      <th>34</th>\n",
       "      <td>1000.00</td>\n",
       "    </tr>\n",
       "    <tr>\n",
       "      <th>35</th>\n",
       "      <td>1001.00</td>\n",
       "    </tr>\n",
       "    <tr>\n",
       "      <th>36</th>\n",
       "      <td>1055.00</td>\n",
       "    </tr>\n",
       "    <tr>\n",
       "      <th>37</th>\n",
       "      <td>1115.00</td>\n",
       "    </tr>\n",
       "    <tr>\n",
       "      <th>38</th>\n",
       "      <td>1195.00</td>\n",
       "    </tr>\n",
       "    <tr>\n",
       "      <th>39</th>\n",
       "      <td>1206.00</td>\n",
       "    </tr>\n",
       "    <tr>\n",
       "      <th>40</th>\n",
       "      <td>1292.00</td>\n",
       "    </tr>\n",
       "    <tr>\n",
       "      <th>41</th>\n",
       "      <td>1500.00</td>\n",
       "    </tr>\n",
       "    <tr>\n",
       "      <th>42</th>\n",
       "      <td>1500.00</td>\n",
       "    </tr>\n",
       "    <tr>\n",
       "      <th>43</th>\n",
       "      <td>1505.00</td>\n",
       "    </tr>\n",
       "    <tr>\n",
       "      <th>44</th>\n",
       "      <td>1550.00</td>\n",
       "    </tr>\n",
       "    <tr>\n",
       "      <th>45</th>\n",
       "      <td>1562.00</td>\n",
       "    </tr>\n",
       "    <tr>\n",
       "      <th>46</th>\n",
       "      <td>1599.00</td>\n",
       "    </tr>\n",
       "    <tr>\n",
       "      <th>47</th>\n",
       "      <td>1655.00</td>\n",
       "    </tr>\n",
       "    <tr>\n",
       "      <th>48</th>\n",
       "      <td>1725.00</td>\n",
       "    </tr>\n",
       "    <tr>\n",
       "      <th>49</th>\n",
       "      <td>1900.00</td>\n",
       "    </tr>\n",
       "    <tr>\n",
       "      <th>50</th>\n",
       "      <td>1961.00</td>\n",
       "    </tr>\n",
       "    <tr>\n",
       "      <th>51</th>\n",
       "      <td>2000.00</td>\n",
       "    </tr>\n",
       "    <tr>\n",
       "      <th>52</th>\n",
       "      <td>2000.00</td>\n",
       "    </tr>\n",
       "    <tr>\n",
       "      <th>53</th>\n",
       "      <td>2000.00</td>\n",
       "    </tr>\n",
       "    <tr>\n",
       "      <th>54</th>\n",
       "      <td>2000.00</td>\n",
       "    </tr>\n",
       "    <tr>\n",
       "      <th>55</th>\n",
       "      <td>2010.00</td>\n",
       "    </tr>\n",
       "    <tr>\n",
       "      <th>56</th>\n",
       "      <td>2100.00</td>\n",
       "    </tr>\n",
       "    <tr>\n",
       "      <th>57</th>\n",
       "      <td>2200.00</td>\n",
       "    </tr>\n",
       "    <tr>\n",
       "      <th>58</th>\n",
       "      <td>2500.00</td>\n",
       "    </tr>\n",
       "    <tr>\n",
       "      <th>59</th>\n",
       "      <td>2515.00</td>\n",
       "    </tr>\n",
       "    <tr>\n",
       "      <th>60</th>\n",
       "      <td>2591.00</td>\n",
       "    </tr>\n",
       "    <tr>\n",
       "      <th>61</th>\n",
       "      <td>2700.00</td>\n",
       "    </tr>\n",
       "    <tr>\n",
       "      <th>62</th>\n",
       "      <td>2956.37</td>\n",
       "    </tr>\n",
       "    <tr>\n",
       "      <th>63</th>\n",
       "      <td>5000.00</td>\n",
       "    </tr>\n",
       "    <tr>\n",
       "      <th>64</th>\n",
       "      <td>5000.00</td>\n",
       "    </tr>\n",
       "    <tr>\n",
       "      <th>65</th>\n",
       "      <td>5000.00</td>\n",
       "    </tr>\n",
       "    <tr>\n",
       "      <th>66</th>\n",
       "      <td>5000.00</td>\n",
       "    </tr>\n",
       "    <tr>\n",
       "      <th>67</th>\n",
       "      <td>5000.00</td>\n",
       "    </tr>\n",
       "    <tr>\n",
       "      <th>68</th>\n",
       "      <td>5000.00</td>\n",
       "    </tr>\n",
       "    <tr>\n",
       "      <th>69</th>\n",
       "      <td>5002.00</td>\n",
       "    </tr>\n",
       "    <tr>\n",
       "      <th>70</th>\n",
       "      <td>5022.87</td>\n",
       "    </tr>\n",
       "    <tr>\n",
       "      <th>71</th>\n",
       "      <td>5095.00</td>\n",
       "    </tr>\n",
       "    <tr>\n",
       "      <th>72</th>\n",
       "      <td>5157.00</td>\n",
       "    </tr>\n",
       "    <tr>\n",
       "      <th>73</th>\n",
       "      <td>5219.00</td>\n",
       "    </tr>\n",
       "    <tr>\n",
       "      <th>74</th>\n",
       "      <td>5500.00</td>\n",
       "    </tr>\n",
       "    <tr>\n",
       "      <th>75</th>\n",
       "      <td>5500.00</td>\n",
       "    </tr>\n",
       "    <tr>\n",
       "      <th>76</th>\n",
       "      <td>5550.00</td>\n",
       "    </tr>\n",
       "    <tr>\n",
       "      <th>77</th>\n",
       "      <td>5576.00</td>\n",
       "    </tr>\n",
       "    <tr>\n",
       "      <th>78</th>\n",
       "      <td>5651.00</td>\n",
       "    </tr>\n",
       "    <tr>\n",
       "      <th>79</th>\n",
       "      <td>5756.20</td>\n",
       "    </tr>\n",
       "    <tr>\n",
       "      <th>80</th>\n",
       "      <td>5950.00</td>\n",
       "    </tr>\n",
       "    <tr>\n",
       "      <th>81</th>\n",
       "      <td>6000.00</td>\n",
       "    </tr>\n",
       "    <tr>\n",
       "      <th>82</th>\n",
       "      <td>6155.17</td>\n",
       "    </tr>\n",
       "    <tr>\n",
       "      <th>83</th>\n",
       "      <td>6600.00</td>\n",
       "    </tr>\n",
       "    <tr>\n",
       "      <th>84</th>\n",
       "      <td>7000.00</td>\n",
       "    </tr>\n",
       "    <tr>\n",
       "      <th>85</th>\n",
       "      <td>7515.14</td>\n",
       "    </tr>\n",
       "    <tr>\n",
       "      <th>86</th>\n",
       "      <td>9000.00</td>\n",
       "    </tr>\n",
       "    <tr>\n",
       "      <th>87</th>\n",
       "      <td>9250.00</td>\n",
       "    </tr>\n",
       "    <tr>\n",
       "      <th>88</th>\n",
       "      <td>9759.66</td>\n",
       "    </tr>\n",
       "    <tr>\n",
       "      <th>89</th>\n",
       "      <td>10000.00</td>\n",
       "    </tr>\n",
       "    <tr>\n",
       "      <th>90</th>\n",
       "      <td>10292.27</td>\n",
       "    </tr>\n",
       "    <tr>\n",
       "      <th>91</th>\n",
       "      <td>11579.88</td>\n",
       "    </tr>\n",
       "    <tr>\n",
       "      <th>92</th>\n",
       "      <td>15000.00</td>\n",
       "    </tr>\n",
       "    <tr>\n",
       "      <th>93</th>\n",
       "      <td>15550.00</td>\n",
       "    </tr>\n",
       "    <tr>\n",
       "      <th>94</th>\n",
       "      <td>17597.10</td>\n",
       "    </tr>\n",
       "    <tr>\n",
       "      <th>95</th>\n",
       "      <td>20155.00</td>\n",
       "    </tr>\n",
       "    <tr>\n",
       "      <th>96</th>\n",
       "      <td>27000.33</td>\n",
       "    </tr>\n",
       "    <tr>\n",
       "      <th>97</th>\n",
       "      <td>52572.14</td>\n",
       "    </tr>\n",
       "    <tr>\n",
       "      <th>98</th>\n",
       "      <td>70000.00</td>\n",
       "    </tr>\n",
       "  </tbody>\n",
       "</table>\n",
       "</div>"
      ],
      "text/plain": [
       "           0\n",
       "0       0.00\n",
       "1       0.00\n",
       "2       0.00\n",
       "3       0.00\n",
       "4       0.00\n",
       "5       0.00\n",
       "6       0.00\n",
       "7       0.00\n",
       "8       0.00\n",
       "9       0.00\n",
       "10      0.00\n",
       "11      0.00\n",
       "12      0.00\n",
       "13      0.00\n",
       "14      0.00\n",
       "15      0.00\n",
       "16      0.00\n",
       "17      0.00\n",
       "18      0.00\n",
       "19      4.40\n",
       "20     95.00\n",
       "21    200.00\n",
       "22    500.00\n",
       "23    511.00\n",
       "24    550.00\n",
       "25    571.00\n",
       "26    590.00\n",
       "27    615.00\n",
       "28    696.00\n",
       "29    790.00\n",
       "30    920.00\n",
       "31    990.00\n",
       "32   1000.00\n",
       "33   1000.00\n",
       "34   1000.00\n",
       "35   1001.00\n",
       "36   1055.00\n",
       "37   1115.00\n",
       "38   1195.00\n",
       "39   1206.00\n",
       "40   1292.00\n",
       "41   1500.00\n",
       "42   1500.00\n",
       "43   1505.00\n",
       "44   1550.00\n",
       "45   1562.00\n",
       "46   1599.00\n",
       "47   1655.00\n",
       "48   1725.00\n",
       "49   1900.00\n",
       "50   1961.00\n",
       "51   2000.00\n",
       "52   2000.00\n",
       "53   2000.00\n",
       "54   2000.00\n",
       "55   2010.00\n",
       "56   2100.00\n",
       "57   2200.00\n",
       "58   2500.00\n",
       "59   2515.00\n",
       "60   2591.00\n",
       "61   2700.00\n",
       "62   2956.37\n",
       "63   5000.00\n",
       "64   5000.00\n",
       "65   5000.00\n",
       "66   5000.00\n",
       "67   5000.00\n",
       "68   5000.00\n",
       "69   5002.00\n",
       "70   5022.87\n",
       "71   5095.00\n",
       "72   5157.00\n",
       "73   5219.00\n",
       "74   5500.00\n",
       "75   5500.00\n",
       "76   5550.00\n",
       "77   5576.00\n",
       "78   5651.00\n",
       "79   5756.20\n",
       "80   5950.00\n",
       "81   6000.00\n",
       "82   6155.17\n",
       "83   6600.00\n",
       "84   7000.00\n",
       "85   7515.14\n",
       "86   9000.00\n",
       "87   9250.00\n",
       "88   9759.66\n",
       "89  10000.00\n",
       "90  10292.27\n",
       "91  11579.88\n",
       "92  15000.00\n",
       "93  15550.00\n",
       "94  17597.10\n",
       "95  20155.00\n",
       "96  27000.33\n",
       "97  52572.14\n",
       "98  70000.00"
      ]
     },
     "execution_count": 66,
     "metadata": {},
     "output_type": "execute_result"
    }
   ],
   "source": [
    "p"
   ]
  },
  {
   "cell_type": "code",
   "execution_count": 67,
   "metadata": {},
   "outputs": [
    {
     "data": {
      "text/plain": [
       "[<matplotlib.lines.Line2D at 0x1edb9a4e3a0>]"
      ]
     },
     "execution_count": 67,
     "metadata": {},
     "output_type": "execute_result"
    },
    {
     "data": {
      "image/png": "[encoded data removed]",
      "text/plain": [
       "<Figure size 720x576 with 1 Axes>"
      ]
     },
     "metadata": {
      "needs_background": "light"
     },
     "output_type": "display_data"
    }
   ],
   "source": [
    "#check outliers in Feb_Bill_Amount\n",
    "\n",
    "p=[ ]\n",
    "for i in range(1,100):\n",
    "    xyz = (x_num['Previous_Payment_April'].quantile(i/100))\n",
    "    p.append(xyz)\n",
    "p = pd.DataFrame(p)\n",
    "\n",
    "plt.figure(figsize=(10,8))\n",
    "plt.plot(p, '^')"
   ]
  },
  {
   "cell_type": "code",
   "execution_count": 68,
   "metadata": {},
   "outputs": [
    {
     "data": {
      "text/plain": [
       "[<matplotlib.lines.Line2D at 0x1edbab47b80>]"
      ]
     },
     "execution_count": 68,
     "metadata": {},
     "output_type": "execute_result"
    },
    {
     "data": {
      "image/png": "[encoded data removed]",
      "text/plain": [
       "<Figure size 720x576 with 1 Axes>"
      ]
     },
     "metadata": {
      "needs_background": "light"
     },
     "output_type": "display_data"
    }
   ],
   "source": [
    "#check outliers in Feb_Bill_Amount\n",
    "\n",
    "p=[ ]\n",
    "for i in range(1,100):\n",
    "    xyz = (x_num['Previous_Payment_May'].quantile(i/100))\n",
    "    p.append(xyz)\n",
    "p = pd.DataFrame(p)\n",
    "\n",
    "plt.figure(figsize=(10,8))\n",
    "plt.plot(p, '^')"
   ]
  },
  {
   "cell_type": "code",
   "execution_count": 69,
   "metadata": {},
   "outputs": [
    {
     "data": {
      "text/plain": [
       "[<matplotlib.lines.Line2D at 0x1edbbfb3820>]"
      ]
     },
     "execution_count": 69,
     "metadata": {},
     "output_type": "execute_result"
    },
    {
     "data": {
      "image/png": "[encoded data removed]",
      "text/plain": [
       "<Figure size 720x576 with 1 Axes>"
      ]
     },
     "metadata": {
      "needs_background": "light"
     },
     "output_type": "display_data"
    }
   ],
   "source": [
    "#check outliers in Feb_Bill_Amount\n",
    "\n",
    "p=[ ]\n",
    "for i in range(1,100):\n",
    "    xyz = (x_num['Previous_Payment_June'].quantile(i/100))\n",
    "    p.append(xyz)\n",
    "p = pd.DataFrame(p)\n",
    "\n",
    "plt.figure(figsize=(10,8))\n",
    "plt.plot(p, '^')"
   ]
  },
  {
   "cell_type": "code",
   "execution_count": 70,
   "metadata": {},
   "outputs": [],
   "source": [
    "# Mean-Max Normalization\n",
    "x_num = (x_num - x_num.min()) / (x_num.max() - x_num.min())"
   ]
  },
  {
   "cell_type": "code",
   "execution_count": 71,
   "metadata": {},
   "outputs": [
    {
     "data": {
      "text/html": [
       "<div>\n",
       "<style scoped>\n",
       "    .dataframe tbody tr th:only-of-type {\n",
       "        vertical-align: middle;\n",
       "    }\n",
       "\n",
       "    .dataframe tbody tr th {\n",
       "        vertical-align: top;\n",
       "    }\n",
       "\n",
       "    .dataframe thead th {\n",
       "        text-align: right;\n",
       "    }\n",
       "</style>\n",
       "<table border=\"1\" class=\"dataframe\">\n",
       "  <thead>\n",
       "    <tr style=\"text-align: right;\">\n",
       "      <th></th>\n",
       "      <th>Credit_Amount</th>\n",
       "      <th>Age_Years</th>\n",
       "      <th>Jan_Bill_Amount</th>\n",
       "      <th>Feb_Bill_Amount</th>\n",
       "      <th>March_Bill_Amount</th>\n",
       "      <th>April_Bill_Amount</th>\n",
       "      <th>May_Bill_Amount</th>\n",
       "      <th>June_Bill_Amount</th>\n",
       "      <th>Previous_Payment_Jan</th>\n",
       "      <th>Previous_Payment_Feb</th>\n",
       "      <th>Previous_Payment_March</th>\n",
       "      <th>Previous_Payment_April</th>\n",
       "      <th>Previous_Payment_May</th>\n",
       "      <th>Previous_Payment_June</th>\n",
       "    </tr>\n",
       "  </thead>\n",
       "  <tbody>\n",
       "    <tr>\n",
       "      <th>0</th>\n",
       "      <td>0.000000</td>\n",
       "      <td>0.051724</td>\n",
       "      <td>0.277806</td>\n",
       "      <td>0.065648</td>\n",
       "      <td>0.088299</td>\n",
       "      <td>0.213845</td>\n",
       "      <td>0.089525</td>\n",
       "      <td>0.282106</td>\n",
       "      <td>0.000000</td>\n",
       "      <td>0.000254</td>\n",
       "      <td>0.000000</td>\n",
       "      <td>0.000000</td>\n",
       "      <td>0.000000</td>\n",
       "      <td>0.000000</td>\n",
       "    </tr>\n",
       "    <tr>\n",
       "      <th>1</th>\n",
       "      <td>0.101010</td>\n",
       "      <td>0.086207</td>\n",
       "      <td>0.277618</td>\n",
       "      <td>0.064196</td>\n",
       "      <td>0.088981</td>\n",
       "      <td>0.216437</td>\n",
       "      <td>0.093328</td>\n",
       "      <td>0.284823</td>\n",
       "      <td>0.000000</td>\n",
       "      <td>0.000748</td>\n",
       "      <td>0.001001</td>\n",
       "      <td>0.001856</td>\n",
       "      <td>0.000000</td>\n",
       "      <td>0.003783</td>\n",
       "    </tr>\n",
       "    <tr>\n",
       "      <th>2</th>\n",
       "      <td>0.035354</td>\n",
       "      <td>0.224138</td>\n",
       "      <td>0.304425</td>\n",
       "      <td>0.077247</td>\n",
       "      <td>0.096128</td>\n",
       "      <td>0.233117</td>\n",
       "      <td>0.105868</td>\n",
       "      <td>0.295060</td>\n",
       "      <td>0.001663</td>\n",
       "      <td>0.000935</td>\n",
       "      <td>0.001001</td>\n",
       "      <td>0.001856</td>\n",
       "      <td>0.001864</td>\n",
       "      <td>0.009458</td>\n",
       "    </tr>\n",
       "    <tr>\n",
       "      <th>3</th>\n",
       "      <td>0.015152</td>\n",
       "      <td>0.275862</td>\n",
       "      <td>0.310177</td>\n",
       "      <td>0.113632</td>\n",
       "      <td>0.104936</td>\n",
       "      <td>0.237070</td>\n",
       "      <td>0.121289</td>\n",
       "      <td>0.305890</td>\n",
       "      <td>0.003081</td>\n",
       "      <td>0.000759</td>\n",
       "      <td>0.001201</td>\n",
       "      <td>0.002041</td>\n",
       "      <td>0.001992</td>\n",
       "      <td>0.001892</td>\n",
       "    </tr>\n",
       "    <tr>\n",
       "      <th>4</th>\n",
       "      <td>0.015152</td>\n",
       "      <td>0.620690</td>\n",
       "      <td>0.281342</td>\n",
       "      <td>0.068265</td>\n",
       "      <td>0.100330</td>\n",
       "      <td>0.230430</td>\n",
       "      <td>0.109499</td>\n",
       "      <td>0.297212</td>\n",
       "      <td>0.003081</td>\n",
       "      <td>0.013713</td>\n",
       "      <td>0.010009</td>\n",
       "      <td>0.016701</td>\n",
       "      <td>0.001284</td>\n",
       "      <td>0.001284</td>\n",
       "    </tr>\n",
       "  </tbody>\n",
       "</table>\n",
       "</div>"
      ],
      "text/plain": [
       "   Credit_Amount  Age_Years  Jan_Bill_Amount  Feb_Bill_Amount  \\\n",
       "0       0.000000   0.051724         0.277806         0.065648   \n",
       "1       0.101010   0.086207         0.277618         0.064196   \n",
       "2       0.035354   0.224138         0.304425         0.077247   \n",
       "3       0.015152   0.275862         0.310177         0.113632   \n",
       "4       0.015152   0.620690         0.281342         0.068265   \n",
       "\n",
       "   March_Bill_Amount  April_Bill_Amount  May_Bill_Amount  June_Bill_Amount  \\\n",
       "0           0.088299           0.213845         0.089525          0.282106   \n",
       "1           0.088981           0.216437         0.093328          0.284823   \n",
       "2           0.096128           0.233117         0.105868          0.295060   \n",
       "3           0.104936           0.237070         0.121289          0.305890   \n",
       "4           0.100330           0.230430         0.109499          0.297212   \n",
       "\n",
       "   Previous_Payment_Jan  Previous_Payment_Feb  Previous_Payment_March  \\\n",
       "0              0.000000              0.000254                0.000000   \n",
       "1              0.000000              0.000748                0.001001   \n",
       "2              0.001663              0.000935                0.001001   \n",
       "3              0.003081              0.000759                0.001201   \n",
       "4              0.003081              0.013713                0.010009   \n",
       "\n",
       "   Previous_Payment_April  Previous_Payment_May  Previous_Payment_June  \n",
       "0                0.000000              0.000000               0.000000  \n",
       "1                0.001856              0.000000               0.003783  \n",
       "2                0.001856              0.001864               0.009458  \n",
       "3                0.002041              0.001992               0.001892  \n",
       "4                0.016701              0.001284               0.001284  "
      ]
     },
     "execution_count": 71,
     "metadata": {},
     "output_type": "execute_result"
    }
   ],
   "source": [
    "x_num.head()"
   ]
  },
  {
   "cell_type": "code",
   "execution_count": 72,
   "metadata": {},
   "outputs": [],
   "source": [
    "##concatinating the numerical and categorical data"
   ]
  },
  {
   "cell_type": "code",
   "execution_count": 73,
   "metadata": {},
   "outputs": [
    {
     "name": "stdout",
     "output_type": "stream",
     "text": [
      "Final Dataframe shape: (30000, 57)\n"
     ]
    }
   ],
   "source": [
    "x_final = pd.concat([x_cat, x_num], axis = 1)\n",
    "print(\"Final Dataframe shape:\",x_final.shape)"
   ]
  },
  {
   "cell_type": "code",
   "execution_count": 75,
   "metadata": {},
   "outputs": [
    {
     "data": {
      "text/html": [
       "<div>\n",
       "<style scoped>\n",
       "    .dataframe tbody tr th:only-of-type {\n",
       "        vertical-align: middle;\n",
       "    }\n",
       "\n",
       "    .dataframe tbody tr th {\n",
       "        vertical-align: top;\n",
       "    }\n",
       "\n",
       "    .dataframe thead th {\n",
       "        text-align: right;\n",
       "    }\n",
       "</style>\n",
       "<table border=\"1\" class=\"dataframe\">\n",
       "  <thead>\n",
       "    <tr style=\"text-align: right;\">\n",
       "      <th></th>\n",
       "      <th>Default_Payment</th>\n",
       "      <th>Gender_male</th>\n",
       "      <th>Academic_Qualification_Graduate</th>\n",
       "      <th>Academic_Qualification_Others</th>\n",
       "      <th>Academic_Qualification_Postgraduate</th>\n",
       "      <th>Academic_Qualification_Professional</th>\n",
       "      <th>Academic_Qualification_Undergraduate</th>\n",
       "      <th>Marital_Abs</th>\n",
       "      <th>Marital_Married</th>\n",
       "      <th>Marital_Single</th>\n",
       "      <th>...</th>\n",
       "      <th>March_Bill_Amount</th>\n",
       "      <th>April_Bill_Amount</th>\n",
       "      <th>May_Bill_Amount</th>\n",
       "      <th>June_Bill_Amount</th>\n",
       "      <th>Previous_Payment_Jan</th>\n",
       "      <th>Previous_Payment_Feb</th>\n",
       "      <th>Previous_Payment_March</th>\n",
       "      <th>Previous_Payment_April</th>\n",
       "      <th>Previous_Payment_May</th>\n",
       "      <th>Previous_Payment_June</th>\n",
       "    </tr>\n",
       "  </thead>\n",
       "  <tbody>\n",
       "    <tr>\n",
       "      <th>0</th>\n",
       "      <td>1</td>\n",
       "      <td>0</td>\n",
       "      <td>1</td>\n",
       "      <td>0</td>\n",
       "      <td>0</td>\n",
       "      <td>0</td>\n",
       "      <td>0</td>\n",
       "      <td>0</td>\n",
       "      <td>1</td>\n",
       "      <td>0</td>\n",
       "      <td>...</td>\n",
       "      <td>0.088299</td>\n",
       "      <td>0.213845</td>\n",
       "      <td>0.089525</td>\n",
       "      <td>0.282106</td>\n",
       "      <td>0.000000</td>\n",
       "      <td>0.000254</td>\n",
       "      <td>0.000000</td>\n",
       "      <td>0.000000</td>\n",
       "      <td>0.000000</td>\n",
       "      <td>0.000000</td>\n",
       "    </tr>\n",
       "    <tr>\n",
       "      <th>1</th>\n",
       "      <td>1</td>\n",
       "      <td>0</td>\n",
       "      <td>1</td>\n",
       "      <td>0</td>\n",
       "      <td>0</td>\n",
       "      <td>0</td>\n",
       "      <td>0</td>\n",
       "      <td>0</td>\n",
       "      <td>0</td>\n",
       "      <td>1</td>\n",
       "      <td>...</td>\n",
       "      <td>0.088981</td>\n",
       "      <td>0.216437</td>\n",
       "      <td>0.093328</td>\n",
       "      <td>0.284823</td>\n",
       "      <td>0.000000</td>\n",
       "      <td>0.000748</td>\n",
       "      <td>0.001001</td>\n",
       "      <td>0.001856</td>\n",
       "      <td>0.000000</td>\n",
       "      <td>0.003783</td>\n",
       "    </tr>\n",
       "    <tr>\n",
       "      <th>2</th>\n",
       "      <td>0</td>\n",
       "      <td>0</td>\n",
       "      <td>1</td>\n",
       "      <td>0</td>\n",
       "      <td>0</td>\n",
       "      <td>0</td>\n",
       "      <td>0</td>\n",
       "      <td>0</td>\n",
       "      <td>0</td>\n",
       "      <td>1</td>\n",
       "      <td>...</td>\n",
       "      <td>0.096128</td>\n",
       "      <td>0.233117</td>\n",
       "      <td>0.105868</td>\n",
       "      <td>0.295060</td>\n",
       "      <td>0.001663</td>\n",
       "      <td>0.000935</td>\n",
       "      <td>0.001001</td>\n",
       "      <td>0.001856</td>\n",
       "      <td>0.001864</td>\n",
       "      <td>0.009458</td>\n",
       "    </tr>\n",
       "    <tr>\n",
       "      <th>3</th>\n",
       "      <td>0</td>\n",
       "      <td>0</td>\n",
       "      <td>1</td>\n",
       "      <td>0</td>\n",
       "      <td>0</td>\n",
       "      <td>0</td>\n",
       "      <td>0</td>\n",
       "      <td>0</td>\n",
       "      <td>1</td>\n",
       "      <td>0</td>\n",
       "      <td>...</td>\n",
       "      <td>0.104936</td>\n",
       "      <td>0.237070</td>\n",
       "      <td>0.121289</td>\n",
       "      <td>0.305890</td>\n",
       "      <td>0.003081</td>\n",
       "      <td>0.000759</td>\n",
       "      <td>0.001201</td>\n",
       "      <td>0.002041</td>\n",
       "      <td>0.001992</td>\n",
       "      <td>0.001892</td>\n",
       "    </tr>\n",
       "    <tr>\n",
       "      <th>4</th>\n",
       "      <td>0</td>\n",
       "      <td>1</td>\n",
       "      <td>1</td>\n",
       "      <td>0</td>\n",
       "      <td>0</td>\n",
       "      <td>0</td>\n",
       "      <td>0</td>\n",
       "      <td>0</td>\n",
       "      <td>1</td>\n",
       "      <td>0</td>\n",
       "      <td>...</td>\n",
       "      <td>0.100330</td>\n",
       "      <td>0.230430</td>\n",
       "      <td>0.109499</td>\n",
       "      <td>0.297212</td>\n",
       "      <td>0.003081</td>\n",
       "      <td>0.013713</td>\n",
       "      <td>0.010009</td>\n",
       "      <td>0.016701</td>\n",
       "      <td>0.001284</td>\n",
       "      <td>0.001284</td>\n",
       "    </tr>\n",
       "  </tbody>\n",
       "</table>\n",
       "<p>5 rows × 58 columns</p>\n",
       "</div>"
      ],
      "text/plain": [
       "   Default_Payment  Gender_male  Academic_Qualification_Graduate  \\\n",
       "0                1            0                                1   \n",
       "1                1            0                                1   \n",
       "2                0            0                                1   \n",
       "3                0            0                                1   \n",
       "4                0            1                                1   \n",
       "\n",
       "   Academic_Qualification_Others  Academic_Qualification_Postgraduate  \\\n",
       "0                              0                                    0   \n",
       "1                              0                                    0   \n",
       "2                              0                                    0   \n",
       "3                              0                                    0   \n",
       "4                              0                                    0   \n",
       "\n",
       "   Academic_Qualification_Professional  Academic_Qualification_Undergraduate  \\\n",
       "0                                    0                                     0   \n",
       "1                                    0                                     0   \n",
       "2                                    0                                     0   \n",
       "3                                    0                                     0   \n",
       "4                                    0                                     0   \n",
       "\n",
       "   Marital_Abs  Marital_Married  Marital_Single  ...  March_Bill_Amount  \\\n",
       "0            0                1               0  ...           0.088299   \n",
       "1            0                0               1  ...           0.088981   \n",
       "2            0                0               1  ...           0.096128   \n",
       "3            0                1               0  ...           0.104936   \n",
       "4            0                1               0  ...           0.100330   \n",
       "\n",
       "   April_Bill_Amount  May_Bill_Amount  June_Bill_Amount  Previous_Payment_Jan  \\\n",
       "0           0.213845         0.089525          0.282106              0.000000   \n",
       "1           0.216437         0.093328          0.284823              0.000000   \n",
       "2           0.233117         0.105868          0.295060              0.001663   \n",
       "3           0.237070         0.121289          0.305890              0.003081   \n",
       "4           0.230430         0.109499          0.297212              0.003081   \n",
       "\n",
       "   Previous_Payment_Feb  Previous_Payment_March  Previous_Payment_April  \\\n",
       "0              0.000254                0.000000                0.000000   \n",
       "1              0.000748                0.001001                0.001856   \n",
       "2              0.000935                0.001001                0.001856   \n",
       "3              0.000759                0.001201                0.002041   \n",
       "4              0.013713                0.010009                0.016701   \n",
       "\n",
       "   Previous_Payment_May  Previous_Payment_June  \n",
       "0              0.000000               0.000000  \n",
       "1              0.000000               0.003783  \n",
       "2              0.001864               0.009458  \n",
       "3              0.001992               0.001892  \n",
       "4              0.001284               0.001284  \n",
       "\n",
       "[5 rows x 58 columns]"
      ]
     },
     "execution_count": 75,
     "metadata": {},
     "output_type": "execute_result"
    }
   ],
   "source": [
    "##final data set\n",
    "final_cd = pd.concat([y,x_final], sort='True', axis = 1)\n",
    "final_cd.head()"
   ]
  },
  {
   "cell_type": "code",
   "execution_count": 76,
   "metadata": {},
   "outputs": [],
   "source": [
    "final_cd.to_csv(\"final_cd.csv\", index = False)"
   ]
  },
  {
   "cell_type": "code",
   "execution_count": 77,
   "metadata": {},
   "outputs": [],
   "source": [
    "##we build the logistic regression model"
   ]
  },
  {
   "cell_type": "code",
   "execution_count": 80,
   "metadata": {},
   "outputs": [
    {
     "name": "stdout",
     "output_type": "stream",
     "text": [
      "x_train  (21000, 57)\n",
      "x_test  (9000, 57)\n",
      "y_train  (21000,)\n",
      "y_test  (9000,)\n"
     ]
    }
   ],
   "source": [
    "# Train Test Splitting \n",
    "from sklearn.model_selection import train_test_split\n",
    "x_train,x_test, y_train, y_test = train_test_split(x_final, y, test_size = 0.30, random_state=0)\n",
    "print(\"x_train \",x_train.shape)\n",
    "print(\"x_test \",x_test.shape)\n",
    "print(\"y_train \",y_train.shape)\n",
    "print(\"y_test \",y_test.shape)"
   ]
  },
  {
   "cell_type": "code",
   "execution_count": 81,
   "metadata": {},
   "outputs": [
    {
     "name": "stderr",
     "output_type": "stream",
     "text": [
      "C:\\Users\\HP\\anaconda3\\lib\\site-packages\\sklearn\\linear_model\\_logistic.py:762: ConvergenceWarning: lbfgs failed to converge (status=1):\n",
      "STOP: TOTAL NO. of ITERATIONS REACHED LIMIT.\n",
      "\n",
      "Increase the number of iterations (max_iter) or scale the data as shown in:\n",
      "    https://scikit-learn.org/stable/modules/preprocessing.html\n",
      "Please also refer to the documentation for alternative solver options:\n",
      "    https://scikit-learn.org/stable/modules/linear_model.html#logistic-regression\n",
      "  n_iter_i = _check_optimize_result(\n"
     ]
    }
   ],
   "source": [
    "from sklearn.linear_model import LogisticRegression\n",
    "glm = LogisticRegression()\n",
    "model = glm.fit(x_train,y_train)\n",
    "predicted = model.predict(x_test)"
   ]
  },
  {
   "cell_type": "code",
   "execution_count": 82,
   "metadata": {},
   "outputs": [
    {
     "data": {
      "text/plain": [
       "array([1, 0, 0, ..., 0, 0, 0], dtype=int64)"
      ]
     },
     "execution_count": 82,
     "metadata": {},
     "output_type": "execute_result"
    }
   ],
   "source": [
    "predicted"
   ]
  },
  {
   "cell_type": "code",
   "execution_count": 83,
   "metadata": {},
   "outputs": [],
   "source": [
    "##model evaluation"
   ]
  },
  {
   "cell_type": "code",
   "execution_count": 84,
   "metadata": {},
   "outputs": [],
   "source": [
    "from sklearn.metrics import confusion_matrix\n",
    "from sklearn.metrics import roc_curve, roc_auc_score\n",
    "from sklearn import metrics"
   ]
  },
  {
   "cell_type": "code",
   "execution_count": 85,
   "metadata": {},
   "outputs": [],
   "source": [
    "# Function For Logistic Regression Create Summary For Logistic Regression\n",
    "\n",
    "def plot_roc_curve(fpr, tpr):\n",
    "    plt.plot(fpr, tpr, color='orange', label='ROC')\n",
    "    plt.plot([0, 1], [0, 1], color='darkblue', linestyle=':')\n",
    "    plt.xlabel('False Positive Rate')\n",
    "    plt.ylabel('True Positive Rate')\n",
    "    plt.title('Receiver Operating Characteristic (ROC) Curve')\n",
    "    plt.legend()\n",
    "    plt.show()\n",
    "\n",
    "def get_summary(y_test,predicted):\n",
    "    # Confusion Matrix\n",
    "    conf_mat = confusion_matrix(y_test,predicted)\n",
    "    TP = conf_mat[0,0]\n",
    "    FP = conf_mat[0,1]\n",
    "    FN = conf_mat[1,0]\n",
    "    TN = conf_mat[1,1]\n",
    "    \n",
    "    accuracy = (TP+TN)/((FN+FP)+(TP+TN))\n",
    "    sensitivity = TP/(TP+FN)\n",
    "    specificity = TN/(TN+FP)\n",
    "    precision = TP/(TP+FP)\n",
    "    recall =  TP / (TP + FN)\n",
    "    fScore =metrics.f1_score(y_test,predicted)\n",
    "    auc = roc_auc_score(y_test, predicted)\n",
    "\n",
    "    print(\"Confusion Matrix:\\n\",conf_mat)\n",
    "    print(\"Accuracy:\",accuracy)\n",
    "    print(\"Sensitivity :\",sensitivity)\n",
    "    print(\"Specificity :\",specificity)\n",
    "    print(\"Precision:\",precision)\n",
    "    print(\"Recall:\",recall)\n",
    "    print(\"F-score:\",fScore)\n",
    "    print(\"AUC:\",auc)\n",
    "    print(\"ROC curve:\")\n",
    "    fpr, tpr, thresholds = roc_curve(y_test, predicted)\n",
    "    plot_roc_curve(fpr, tpr)"
   ]
  },
  {
   "cell_type": "code",
   "execution_count": 86,
   "metadata": {},
   "outputs": [
    {
     "name": "stdout",
     "output_type": "stream",
     "text": [
      "Confusion Matrix:\n",
      " [[6739  321]\n",
      " [1274  666]]\n",
      "Accuracy: 0.8227777777777778\n",
      "Sensitivity : 0.8410083614127044\n",
      "Specificity : 0.6747720364741642\n",
      "Precision: 0.9545325779036827\n",
      "Recall: 0.8410083614127044\n",
      "F-score: 0.45507345404851385\n",
      "AUC: 0.648915773487924\n",
      "ROC curve:\n"
     ]
    },
    {
     "data": {
      "image/png": "[encoded data removed]",
      "text/plain": [
       "<Figure size 432x288 with 1 Axes>"
      ]
     },
     "metadata": {
      "needs_background": "light"
     },
     "output_type": "display_data"
    }
   ],
   "source": [
    "get_summary(y_test,predicted)"
   ]
  },
  {
   "cell_type": "code",
   "execution_count": 87,
   "metadata": {},
   "outputs": [
    {
     "name": "stdout",
     "output_type": "stream",
     "text": [
      "                                    feature          VIF\n",
      "0                               Gender_male     1.711994\n",
      "1           Academic_Qualification_Graduate   202.566660\n",
      "2             Academic_Qualification_Others     4.968730\n",
      "3       Academic_Qualification_Postgraduate    71.249684\n",
      "4       Academic_Qualification_Professional     2.767025\n",
      "5      Academic_Qualification_Undergraduate   153.240356\n",
      "6                               Marital_Abs     6.283311\n",
      "7                           Marital_Married   230.490033\n",
      "8                            Marital_Single   270.816110\n",
      "9        Repayment_Status_Jan_janDelay Four     3.773023\n",
      "10        Repayment_Status_Jan_janDelay One   147.038039\n",
      "11        Repayment_Status_Jan_janDelay Six     5.266762\n",
      "12      Repayment_Status_Jan_janDelay Three    13.133691\n",
      "13        Repayment_Status_Jan_janDelay Two   107.396369\n",
      "14             Repayment_Status_Jan_janPaid   917.883267\n",
      "15       Repayment_Status_Feb_febDelay Four     7.558756\n",
      "16        Repayment_Status_Feb_febDelay One     3.271772\n",
      "17        Repayment_Status_Feb_febDelay Six     4.914324\n",
      "18      Repayment_Status_Feb_febDelay Three    23.008037\n",
      "19        Repayment_Status_Feb_febDelay Two   267.045573\n",
      "20             Repayment_Status_Feb_febPaid  1713.858122\n",
      "21     Repayment_Status_March_marDelay Four     5.835122\n",
      "22      Repayment_Status_March_marDelay One     1.942056\n",
      "23      Repayment_Status_March_marDelay Six     4.916947\n",
      "24    Repayment_Status_March_marDelay Three    16.907408\n",
      "25      Repayment_Status_March_marDelay Two   253.537669\n",
      "26           Repayment_Status_March_marPaid  1698.820420\n",
      "27   Repayment_Status_April_aprilDelay Four     4.801977\n",
      "28    Repayment_Status_April_aprilDelay One     1.607639\n",
      "29    Repayment_Status_April_aprilDelay Six    26.556494\n",
      "30  Repayment_Status_April_aprilDelay Three    14.355761\n",
      "31    Repayment_Status_April_aprilDelay Two   241.522327\n",
      "32         Repayment_Status_April_aprilPaid  1986.026576\n",
      "33       Repayment_Status_May_mayDelay Four     9.571531\n",
      "34        Repayment_Status_May_mayDelay Six    39.630228\n",
      "35      Repayment_Status_May_mayDelay Three    20.973445\n",
      "36        Repayment_Status_May_mayDelay Two   308.132850\n",
      "37             Repayment_Status_May_mayPaid  3124.867568\n",
      "38     Repayment_Status_June_juneDelay Four     4.048721\n",
      "39      Repayment_Status_June_juneDelay Six    17.649488\n",
      "40    Repayment_Status_June_juneDelay Three    17.558782\n",
      "41      Repayment_Status_June_juneDelay Two   229.293233\n",
      "42           Repayment_Status_June_junePaid  2171.487403\n",
      "43                            Credit_Amount     3.855264\n",
      "44                                Age_Years     4.828141\n",
      "45                          Jan_Bill_Amount    73.937422\n",
      "46                          Feb_Bill_Amount    17.595655\n",
      "47                        March_Bill_Amount   149.781020\n",
      "48                        April_Bill_Amount   185.460989\n",
      "49                          May_Bill_Amount   100.877597\n",
      "50                         June_Bill_Amount   595.489539\n",
      "51                     Previous_Payment_Jan     1.505724\n",
      "52                     Previous_Payment_Feb     1.786028\n",
      "53                   Previous_Payment_March     1.673364\n",
      "54                   Previous_Payment_April     1.585939\n",
      "55                     Previous_Payment_May     1.781122\n",
      "56                    Previous_Payment_June     1.256942\n"
     ]
    }
   ],
   "source": [
    "from statsmodels.stats.outliers_influence import variance_inflation_factor \n",
    "# VIF dataframe \n",
    "vif_data = pd.DataFrame() \n",
    "vif_data[\"feature\"] = x_train.columns\n",
    "# calculating VIF for each feature \n",
    "vif_data[\"VIF\"] = [variance_inflation_factor(x_train.values, i) \n",
    "                          for i in range(len(x_train.columns))] \n",
    "  \n",
    "print(vif_data)"
   ]
  },
  {
   "cell_type": "code",
   "execution_count": 88,
   "metadata": {},
   "outputs": [
    {
     "data": {
      "text/plain": [
       "const                                      0.316502\n",
       "Gender_male                                0.021699\n",
       "Academic_Qualification_Graduate            0.067543\n",
       "Academic_Qualification_Others             -0.053678\n",
       "Academic_Qualification_Postgraduate        0.049900\n",
       "Academic_Qualification_Professional       -0.020904\n",
       "Academic_Qualification_Undergraduate       0.069836\n",
       "Marital_Abs                                0.149434\n",
       "Marital_Married                            0.131298\n",
       "Marital_Single                             0.105343\n",
       "Repayment_Status_Jan_janDelay Four         0.125656\n",
       "Repayment_Status_Jan_janDelay One         -0.085281\n",
       "Repayment_Status_Jan_janDelay Six         -0.146663\n",
       "Repayment_Status_Jan_janDelay Three        0.168877\n",
       "Repayment_Status_Jan_janDelay Two          0.206646\n",
       "Repayment_Status_Jan_janPaid              -0.199521\n",
       "Repayment_Status_Feb_febDelay Four        -0.347703\n",
       "Repayment_Status_Feb_febDelay One         -0.387402\n",
       "Repayment_Status_Feb_febDelay Six          0.161951\n",
       "Repayment_Status_Feb_febDelay Three       -0.155103\n",
       "Repayment_Status_Feb_febDelay Two         -0.157201\n",
       "Repayment_Status_Feb_febPaid              -0.229188\n",
       "Repayment_Status_March_marDelay Four       0.085820\n",
       "Repayment_Status_March_marDelay One       -0.015785\n",
       "Repayment_Status_March_marDelay Six        0.122492\n",
       "Repayment_Status_March_marDelay Three      0.197700\n",
       "Repayment_Status_March_marDelay Two        0.161348\n",
       "Repayment_Status_March_marPaid             0.099865\n",
       "Repayment_Status_April_aprilDelay Four     0.208716\n",
       "Repayment_Status_April_aprilDelay One      0.261648\n",
       "Repayment_Status_April_aprilDelay Six     -0.329616\n",
       "Repayment_Status_April_aprilDelay Three    0.206549\n",
       "Repayment_Status_April_aprilDelay Two      0.224877\n",
       "Repayment_Status_April_aprilPaid           0.183027\n",
       "Repayment_Status_May_mayDelay Four        -0.126922\n",
       "Repayment_Status_May_mayDelay Six          0.299207\n",
       "Repayment_Status_May_mayDelay Three        0.017265\n",
       "Repayment_Status_May_mayDelay Two          0.016953\n",
       "Repayment_Status_May_mayPaid              -0.041419\n",
       "Repayment_Status_June_juneDelay Four       0.012395\n",
       "Repayment_Status_June_juneDelay Six        0.205758\n",
       "Repayment_Status_June_juneDelay Three      0.039792\n",
       "Repayment_Status_June_juneDelay Two       -0.069671\n",
       "Repayment_Status_June_junePaid            -0.137118\n",
       "Credit_Amount                             -0.347506\n",
       "Age_Years                                  0.037348\n",
       "Jan_Bill_Amount                           -0.120533\n",
       "Feb_Bill_Amount                            0.219791\n",
       "March_Bill_Amount                         -0.040789\n",
       "April_Bill_Amount                         -0.069901\n",
       "May_Bill_Amount                           -0.097281\n",
       "June_Bill_Amount                           0.088955\n",
       "Previous_Payment_Jan                      -0.606559\n",
       "Previous_Payment_Feb                      -0.012779\n",
       "Previous_Payment_March                    -0.139116\n",
       "Previous_Payment_April                    -0.102226\n",
       "Previous_Payment_May                      -0.165254\n",
       "Previous_Payment_June                     -0.100664\n",
       "dtype: float64"
      ]
     },
     "execution_count": 88,
     "metadata": {},
     "output_type": "execute_result"
    }
   ],
   "source": [
    "import statsmodels.api as sm\n",
    "X_train_sm = x_train\n",
    "#Unlike SKLearn, statsmodels don't automatically fit a constant, \n",
    "#so you need to use the method sm.add_constant(X) in order to add a constant. \n",
    "X_train_sm = sm.add_constant(X_train_sm)\n",
    "# create a fitted model in one line\n",
    "lm_1 = sm.OLS(y_train,X_train_sm).fit()\n",
    "\n",
    "# print the coefficients\n",
    "lm_1.params"
   ]
  },
  {
   "cell_type": "code",
   "execution_count": 89,
   "metadata": {},
   "outputs": [
    {
     "name": "stdout",
     "output_type": "stream",
     "text": [
      "                            OLS Regression Results                            \n",
      "==============================================================================\n",
      "Dep. Variable:        Default_Payment   R-squared:                       0.209\n",
      "Model:                            OLS   Adj. R-squared:                  0.207\n",
      "Method:                 Least Squares   F-statistic:                     97.36\n",
      "Date:                Tue, 24 Nov 2020   Prob (F-statistic):               0.00\n",
      "Time:                        15:16:39   Log-Likelihood:                -8944.7\n",
      "No. Observations:               21000   AIC:                         1.801e+04\n",
      "Df Residuals:                   20942   BIC:                         1.847e+04\n",
      "Df Model:                          57                                         \n",
      "Covariance Type:            nonrobust                                         \n",
      "===========================================================================================================\n",
      "                                              coef    std err          t      P>|t|      [0.025      0.975]\n",
      "-----------------------------------------------------------------------------------------------------------\n",
      "const                                       0.3165      0.262      1.206      0.228      -0.198       0.831\n",
      "Gender_male                                 0.0217      0.005      4.101      0.000       0.011       0.032\n",
      "Academic_Qualification_Graduate             0.0675      0.054      1.241      0.215      -0.039       0.174\n",
      "Academic_Qualification_Others              -0.0537      0.060     -0.888      0.374      -0.172       0.065\n",
      "Academic_Qualification_Postgraduate         0.0499      0.055      0.914      0.361      -0.057       0.157\n",
      "Academic_Qualification_Professional        -0.0209      0.067     -0.310      0.757      -0.153       0.111\n",
      "Academic_Qualification_Undergraduate        0.0698      0.054      1.282      0.200      -0.037       0.177\n",
      "Marital_Abs                                 0.1494      0.064      2.333      0.020       0.024       0.275\n",
      "Marital_Married                             0.1313      0.059      2.224      0.026       0.016       0.247\n",
      "Marital_Single                              0.1053      0.059      1.784      0.074      -0.010       0.221\n",
      "Repayment_Status_Jan_janDelay Four          0.1257      0.102      1.231      0.218      -0.074       0.326\n",
      "Repayment_Status_Jan_janDelay One          -0.0853      0.092     -0.923      0.356      -0.266       0.096\n",
      "Repayment_Status_Jan_janDelay Six          -0.1467      0.158     -0.931      0.352      -0.456       0.162\n",
      "Repayment_Status_Jan_janDelay Three         0.1689      0.095      1.772      0.076      -0.018       0.356\n",
      "Repayment_Status_Jan_janDelay Two           0.2066      0.093      2.230      0.026       0.025       0.388\n",
      "Repayment_Status_Jan_janPaid               -0.1995      0.093     -2.154      0.031      -0.381      -0.018\n",
      "Repayment_Status_Feb_febDelay Four         -0.3477      0.132     -2.644      0.008      -0.605      -0.090\n",
      "Repayment_Status_Feb_febDelay One          -0.3874      0.155     -2.499      0.012      -0.691      -0.084\n",
      "Repayment_Status_Feb_febDelay Six           0.1620      0.171      0.948      0.343      -0.173       0.497\n",
      "Repayment_Status_Feb_febDelay Three        -0.1551      0.130     -1.194      0.233      -0.410       0.100\n",
      "Repayment_Status_Feb_febDelay Two          -0.1572      0.129     -1.215      0.224      -0.411       0.096\n",
      "Repayment_Status_Feb_febPaid               -0.2292      0.130     -1.767      0.077      -0.483       0.025\n",
      "Repayment_Status_March_marDelay Four        0.0858      0.131      0.653      0.514      -0.172       0.343\n",
      "Repayment_Status_March_marDelay One        -0.0158      0.301     -0.052      0.958      -0.606       0.574\n",
      "Repayment_Status_March_marDelay Six         0.1225      0.130      0.943      0.345      -0.132       0.377\n",
      "Repayment_Status_March_marDelay Three       0.1977      0.123      1.602      0.109      -0.044       0.440\n",
      "Repayment_Status_March_marDelay Two         0.1613      0.120      1.347      0.178      -0.073       0.396\n",
      "Repayment_Status_March_marPaid              0.0999      0.120      0.831      0.406      -0.136       0.335\n",
      "Repayment_Status_April_aprilDelay Four      0.2087      0.123      1.701      0.089      -0.032       0.449\n",
      "Repayment_Status_April_aprilDelay One       0.2616      0.471      0.555      0.579      -0.662       1.185\n",
      "Repayment_Status_April_aprilDelay Six      -0.3296      0.289     -1.141      0.254      -0.896       0.237\n",
      "Repayment_Status_April_aprilDelay Three     0.2065      0.127      1.625      0.104      -0.043       0.456\n",
      "Repayment_Status_April_aprilDelay Two       0.2249      0.124      1.809      0.071      -0.019       0.469\n",
      "Repayment_Status_April_aprilPaid            0.1830      0.125      1.468      0.142      -0.061       0.427\n",
      "Repayment_Status_May_mayDelay Four         -0.1269      0.148     -0.856      0.392      -0.418       0.164\n",
      "Repayment_Status_May_mayDelay Six           0.2992      0.349      0.856      0.392      -0.386       0.984\n",
      "Repayment_Status_May_mayDelay Three         0.0173      0.155      0.112      0.911      -0.286       0.321\n",
      "Repayment_Status_May_mayDelay Two           0.0170      0.155      0.110      0.913      -0.286       0.320\n",
      "Repayment_Status_May_mayPaid               -0.0414      0.155     -0.267      0.790      -0.346       0.263\n",
      "Repayment_Status_June_juneDelay Four        0.0124      0.143      0.087      0.931      -0.268       0.293\n",
      "Repayment_Status_June_juneDelay Six         0.2058      0.232      0.887      0.375      -0.249       0.661\n",
      "Repayment_Status_June_juneDelay Three       0.0398      0.135      0.294      0.768      -0.225       0.305\n",
      "Repayment_Status_June_juneDelay Two        -0.0697      0.132     -0.526      0.599      -0.329       0.190\n",
      "Repayment_Status_June_junePaid             -0.1371      0.133     -1.035      0.301      -0.397       0.123\n",
      "Credit_Amount                              -0.3475      0.046     -7.573      0.000      -0.437      -0.258\n",
      "Age_Years                                   0.0373      0.019      1.960      0.050   -6.16e-06       0.075\n",
      "Jan_Bill_Amount                            -0.1205      0.063     -1.909      0.056      -0.244       0.003\n",
      "Feb_Bill_Amount                             0.2198      0.074      2.973      0.003       0.075       0.365\n",
      "March_Bill_Amount                          -0.0408      0.279     -0.146      0.884      -0.587       0.505\n",
      "April_Bill_Amount                          -0.0699      0.131     -0.532      0.594      -0.327       0.187\n",
      "May_Bill_Amount                            -0.0973      0.175     -0.557      0.577      -0.439       0.245\n",
      "June_Bill_Amount                            0.0890      0.199      0.447      0.655      -0.301       0.479\n",
      "Previous_Payment_Jan                       -0.6066      0.151     -4.014      0.000      -0.903      -0.310\n",
      "Previous_Payment_Feb                       -0.0128      0.247     -0.052      0.959      -0.497       0.472\n",
      "Previous_Payment_March                     -0.1391      0.155     -0.897      0.370      -0.443       0.165\n",
      "Previous_Payment_April                     -0.1022      0.095     -1.071      0.284      -0.289       0.085\n",
      "Previous_Payment_May                       -0.1653      0.104     -1.594      0.111      -0.368       0.038\n",
      "Previous_Payment_June                      -0.1007      0.083     -1.216      0.224      -0.263       0.062\n",
      "==============================================================================\n",
      "Omnibus:                     3535.051   Durbin-Watson:                   2.020\n",
      "Prob(Omnibus):                  0.000   Jarque-Bera (JB):             5600.307\n",
      "Skew:                           1.198   Prob(JB):                         0.00\n",
      "Kurtosis:                       3.813   Cond. No.                         535.\n",
      "==============================================================================\n",
      "\n",
      "Warnings:\n",
      "[1] Standard Errors assume that the covariance matrix of the errors is correctly specified.\n"
     ]
    }
   ],
   "source": [
    "print(lm_1.summary())"
   ]
  },
  {
   "cell_type": "code",
   "execution_count": 88,
   "metadata": {},
   "outputs": [],
   "source": [
    "##RFE model"
   ]
  },
  {
   "cell_type": "code",
   "execution_count": 90,
   "metadata": {},
   "outputs": [],
   "source": [
    "# Importing RFE and LinearRegression\n",
    "from sklearn.feature_selection import RFE\n",
    "from sklearn.linear_model import LogisticRegression"
   ]
  },
  {
   "cell_type": "code",
   "execution_count": 91,
   "metadata": {},
   "outputs": [
    {
     "name": "stderr",
     "output_type": "stream",
     "text": [
      "C:\\Users\\HP\\anaconda3\\lib\\site-packages\\sklearn\\utils\\validation.py:68: FutureWarning: Pass n_features_to_select=52 as keyword args. From version 0.25 passing these as positional arguments will result in an error\n",
      "  warnings.warn(\"Pass {} as keyword args. From version 0.25 \"\n",
      "C:\\Users\\HP\\anaconda3\\lib\\site-packages\\sklearn\\linear_model\\_logistic.py:762: ConvergenceWarning: lbfgs failed to converge (status=1):\n",
      "STOP: TOTAL NO. of ITERATIONS REACHED LIMIT.\n",
      "\n",
      "Increase the number of iterations (max_iter) or scale the data as shown in:\n",
      "    https://scikit-learn.org/stable/modules/preprocessing.html\n",
      "Please also refer to the documentation for alternative solver options:\n",
      "    https://scikit-learn.org/stable/modules/linear_model.html#logistic-regression\n",
      "  n_iter_i = _check_optimize_result(\n",
      "C:\\Users\\HP\\anaconda3\\lib\\site-packages\\sklearn\\linear_model\\_logistic.py:762: ConvergenceWarning: lbfgs failed to converge (status=1):\n",
      "STOP: TOTAL NO. of ITERATIONS REACHED LIMIT.\n",
      "\n",
      "Increase the number of iterations (max_iter) or scale the data as shown in:\n",
      "    https://scikit-learn.org/stable/modules/preprocessing.html\n",
      "Please also refer to the documentation for alternative solver options:\n",
      "    https://scikit-learn.org/stable/modules/linear_model.html#logistic-regression\n",
      "  n_iter_i = _check_optimize_result(\n",
      "C:\\Users\\HP\\anaconda3\\lib\\site-packages\\sklearn\\linear_model\\_logistic.py:762: ConvergenceWarning: lbfgs failed to converge (status=1):\n",
      "STOP: TOTAL NO. of ITERATIONS REACHED LIMIT.\n",
      "\n",
      "Increase the number of iterations (max_iter) or scale the data as shown in:\n",
      "    https://scikit-learn.org/stable/modules/preprocessing.html\n",
      "Please also refer to the documentation for alternative solver options:\n",
      "    https://scikit-learn.org/stable/modules/linear_model.html#logistic-regression\n",
      "  n_iter_i = _check_optimize_result(\n",
      "C:\\Users\\HP\\anaconda3\\lib\\site-packages\\sklearn\\linear_model\\_logistic.py:762: ConvergenceWarning: lbfgs failed to converge (status=1):\n",
      "STOP: TOTAL NO. of ITERATIONS REACHED LIMIT.\n",
      "\n",
      "Increase the number of iterations (max_iter) or scale the data as shown in:\n",
      "    https://scikit-learn.org/stable/modules/preprocessing.html\n",
      "Please also refer to the documentation for alternative solver options:\n",
      "    https://scikit-learn.org/stable/modules/linear_model.html#logistic-regression\n",
      "  n_iter_i = _check_optimize_result(\n",
      "C:\\Users\\HP\\anaconda3\\lib\\site-packages\\sklearn\\linear_model\\_logistic.py:762: ConvergenceWarning: lbfgs failed to converge (status=1):\n",
      "STOP: TOTAL NO. of ITERATIONS REACHED LIMIT.\n",
      "\n",
      "Increase the number of iterations (max_iter) or scale the data as shown in:\n",
      "    https://scikit-learn.org/stable/modules/preprocessing.html\n",
      "Please also refer to the documentation for alternative solver options:\n",
      "    https://scikit-learn.org/stable/modules/linear_model.html#logistic-regression\n",
      "  n_iter_i = _check_optimize_result(\n",
      "C:\\Users\\HP\\anaconda3\\lib\\site-packages\\sklearn\\linear_model\\_logistic.py:762: ConvergenceWarning: lbfgs failed to converge (status=1):\n",
      "STOP: TOTAL NO. of ITERATIONS REACHED LIMIT.\n",
      "\n",
      "Increase the number of iterations (max_iter) or scale the data as shown in:\n",
      "    https://scikit-learn.org/stable/modules/preprocessing.html\n",
      "Please also refer to the documentation for alternative solver options:\n",
      "    https://scikit-learn.org/stable/modules/linear_model.html#logistic-regression\n",
      "  n_iter_i = _check_optimize_result(\n"
     ]
    }
   ],
   "source": [
    "# Running RFE with the output number of the variable equal to 5\n",
    "glm = LogisticRegression()\n",
    "rfe = RFE(glm, 52)             # running RFE\n",
    "rfe = rfe.fit(x_train, y_train)\n"
   ]
  },
  {
   "cell_type": "code",
   "execution_count": 92,
   "metadata": {},
   "outputs": [
    {
     "name": "stdout",
     "output_type": "stream",
     "text": [
      "[ True  True  True  True  True  True  True  True  True  True  True  True\n",
      "  True  True  True  True  True  True  True  True  True  True  True False\n",
      "  True  True False  True  True  True  True  True  True  True  True  True\n",
      "  True  True False  True  True  True  True  True  True  True  True  True\n",
      "  True False False  True  True  True  True  True  True]\n",
      "[1 1 1 1 1 1 1 1 1 1 1 1 1 1 1 1 1 1 1 1 1 1 1 5 1 1 3 1 1 1 1 1 1 1 1 1 1\n",
      " 1 4 1 1 1 1 1 1 1 1 1 1 6 2 1 1 1 1 1 1]\n"
     ]
    }
   ],
   "source": [
    "print(rfe.support_)\n",
    "print(rfe.ranking_)"
   ]
  },
  {
   "cell_type": "code",
   "execution_count": 93,
   "metadata": {},
   "outputs": [
    {
     "data": {
      "text/plain": [
       "Index(['Gender_male', 'Academic_Qualification_Graduate',\n",
       "       'Academic_Qualification_Others', 'Academic_Qualification_Postgraduate',\n",
       "       'Academic_Qualification_Professional',\n",
       "       'Academic_Qualification_Undergraduate', 'Marital_Abs',\n",
       "       'Marital_Married', 'Marital_Single',\n",
       "       'Repayment_Status_Jan_janDelay Four',\n",
       "       'Repayment_Status_Jan_janDelay One',\n",
       "       'Repayment_Status_Jan_janDelay Six',\n",
       "       'Repayment_Status_Jan_janDelay Three',\n",
       "       'Repayment_Status_Jan_janDelay Two', 'Repayment_Status_Jan_janPaid',\n",
       "       'Repayment_Status_Feb_febDelay Four',\n",
       "       'Repayment_Status_Feb_febDelay One',\n",
       "       'Repayment_Status_Feb_febDelay Six',\n",
       "       'Repayment_Status_Feb_febDelay Three',\n",
       "       'Repayment_Status_Feb_febDelay Two', 'Repayment_Status_Feb_febPaid',\n",
       "       'Repayment_Status_March_marDelay Four',\n",
       "       'Repayment_Status_March_marDelay One',\n",
       "       'Repayment_Status_March_marDelay Three',\n",
       "       'Repayment_Status_March_marDelay Two',\n",
       "       'Repayment_Status_April_aprilDelay Four',\n",
       "       'Repayment_Status_April_aprilDelay One',\n",
       "       'Repayment_Status_April_aprilDelay Six',\n",
       "       'Repayment_Status_April_aprilDelay Three',\n",
       "       'Repayment_Status_April_aprilDelay Two',\n",
       "       'Repayment_Status_April_aprilPaid',\n",
       "       'Repayment_Status_May_mayDelay Four',\n",
       "       'Repayment_Status_May_mayDelay Six',\n",
       "       'Repayment_Status_May_mayDelay Three',\n",
       "       'Repayment_Status_May_mayDelay Two', 'Repayment_Status_May_mayPaid',\n",
       "       'Repayment_Status_June_juneDelay Six',\n",
       "       'Repayment_Status_June_juneDelay Three',\n",
       "       'Repayment_Status_June_juneDelay Two', 'Repayment_Status_June_junePaid',\n",
       "       'Credit_Amount', 'Age_Years', 'Jan_Bill_Amount', 'Feb_Bill_Amount',\n",
       "       'March_Bill_Amount', 'April_Bill_Amount', 'Previous_Payment_Jan',\n",
       "       'Previous_Payment_Feb', 'Previous_Payment_March',\n",
       "       'Previous_Payment_April', 'Previous_Payment_May',\n",
       "       'Previous_Payment_June'],\n",
       "      dtype='object')"
      ]
     },
     "execution_count": 93,
     "metadata": {},
     "output_type": "execute_result"
    }
   ],
   "source": [
    "col = x_train.columns[rfe.support_]\n",
    "col"
   ]
  },
  {
   "cell_type": "code",
   "execution_count": 94,
   "metadata": {},
   "outputs": [],
   "source": [
    "x1=x_final[['Gender_male', 'Academic_Qualification_Graduate',\n",
    "       'Academic_Qualification_Others', 'Academic_Qualification_Postgraduate',\n",
    "       'Academic_Qualification_Professional',\n",
    "       'Academic_Qualification_Undergraduate', 'Marital_Abs',\n",
    "       'Marital_Married', 'Marital_Single',\n",
    "       'Repayment_Status_Jan_janDelay Four',\n",
    "       'Repayment_Status_Jan_janDelay One',\n",
    "       'Repayment_Status_Jan_janDelay Six',\n",
    "       'Repayment_Status_Jan_janDelay Three',\n",
    "       'Repayment_Status_Jan_janDelay Two', 'Repayment_Status_Jan_janPaid',\n",
    "       'Repayment_Status_Feb_febDelay Four',\n",
    "       'Repayment_Status_Feb_febDelay One',\n",
    "       'Repayment_Status_Feb_febDelay Six',\n",
    "       'Repayment_Status_Feb_febDelay Three',\n",
    "       'Repayment_Status_Feb_febDelay Two', 'Repayment_Status_Feb_febPaid',\n",
    "       'Repayment_Status_March_marDelay Four',\n",
    "       'Repayment_Status_March_marDelay One',\n",
    "       'Repayment_Status_March_marDelay Three',\n",
    "       'Repayment_Status_March_marDelay Two',\n",
    "       'Repayment_Status_April_aprilDelay Four',\n",
    "       'Repayment_Status_April_aprilDelay One',\n",
    "       'Repayment_Status_April_aprilDelay Six',\n",
    "       'Repayment_Status_April_aprilDelay Three',\n",
    "       'Repayment_Status_April_aprilDelay Two',\n",
    "       'Repayment_Status_April_aprilPaid',\n",
    "       'Repayment_Status_May_mayDelay Four',\n",
    "       'Repayment_Status_May_mayDelay Six',\n",
    "       'Repayment_Status_May_mayDelay Three',\n",
    "       'Repayment_Status_May_mayDelay Two', 'Repayment_Status_May_mayPaid',\n",
    "       'Repayment_Status_June_juneDelay Six',\n",
    "       'Repayment_Status_June_juneDelay Three',\n",
    "       'Repayment_Status_June_juneDelay Two', 'Repayment_Status_June_junePaid',\n",
    "       'Credit_Amount', 'Age_Years', 'Jan_Bill_Amount', 'Feb_Bill_Amount',\n",
    "       'March_Bill_Amount', 'April_Bill_Amount', 'Previous_Payment_Jan',\n",
    "       'Previous_Payment_Feb', 'Previous_Payment_March',\n",
    "       'Previous_Payment_April', 'Previous_Payment_May',\n",
    "       'Previous_Payment_June']]\n",
    "\n"
   ]
  },
  {
   "cell_type": "code",
   "execution_count": 97,
   "metadata": {},
   "outputs": [
    {
     "name": "stdout",
     "output_type": "stream",
     "text": [
      "x_train  (21000, 52)\n",
      "x_test  (9000, 52)\n",
      "y_train  (21000,)\n",
      "y_test  (9000,)\n"
     ]
    }
   ],
   "source": [
    "# Train Test Splitting \n",
    "from sklearn.model_selection import train_test_split\n",
    "x_train,x_test, y_train, y_test = train_test_split(x1, y, test_size = 0.30, random_state=0)\n",
    "print(\"x_train \",x_train.shape)\n",
    "print(\"x_test \",x_test.shape)\n",
    "print(\"y_train \",y_train.shape)\n",
    "print(\"y_test \",y_test.shape)"
   ]
  },
  {
   "cell_type": "code",
   "execution_count": 98,
   "metadata": {},
   "outputs": [
    {
     "name": "stderr",
     "output_type": "stream",
     "text": [
      "C:\\Users\\HP\\anaconda3\\lib\\site-packages\\sklearn\\linear_model\\_logistic.py:762: ConvergenceWarning: lbfgs failed to converge (status=1):\n",
      "STOP: TOTAL NO. of ITERATIONS REACHED LIMIT.\n",
      "\n",
      "Increase the number of iterations (max_iter) or scale the data as shown in:\n",
      "    https://scikit-learn.org/stable/modules/preprocessing.html\n",
      "Please also refer to the documentation for alternative solver options:\n",
      "    https://scikit-learn.org/stable/modules/linear_model.html#logistic-regression\n",
      "  n_iter_i = _check_optimize_result(\n"
     ]
    }
   ],
   "source": [
    "from sklearn.linear_model import LogisticRegression\n",
    "glm = LogisticRegression()\n",
    "model = glm.fit(x_train,y_train)\n",
    "predicted = model.predict(x_test)"
   ]
  },
  {
   "cell_type": "code",
   "execution_count": 99,
   "metadata": {},
   "outputs": [],
   "source": [
    "from sklearn.metrics import confusion_matrix\n",
    "from sklearn.metrics import roc_curve, roc_auc_score\n",
    "from sklearn import metrics"
   ]
  },
  {
   "cell_type": "code",
   "execution_count": 100,
   "metadata": {},
   "outputs": [],
   "source": [
    "# Function For Logistic Regression Create Summary For Logistic Regression\n",
    "\n",
    "def plot_roc_curve(fpr, tpr):\n",
    "    plt.plot(fpr, tpr, color='orange', label='ROC')\n",
    "    plt.plot([0, 1], [0, 1], color='darkblue', linestyle=':')\n",
    "    plt.xlabel('False Positive Rate')\n",
    "    plt.ylabel('True Positive Rate')\n",
    "    plt.title('Receiver Operating Characteristic (ROC) Curve')\n",
    "    plt.legend()\n",
    "    plt.show()\n",
    "\n",
    "def get_summary(y_test,predicted):\n",
    "    # Confusion Matrix\n",
    "    conf_mat = confusion_matrix(y_test,predicted)\n",
    "    TP = conf_mat[0,0]\n",
    "    FP = conf_mat[0,1]\n",
    "    FN = conf_mat[1,0]\n",
    "    TN = conf_mat[1,1]\n",
    "    \n",
    "    accuracy = (TP+TN)/((FN+FP)+(TP+TN))\n",
    "    sensitivity = TP/(TP+FN)\n",
    "    specificity = TN/(TN+FP)\n",
    "    precision = TP/(TP+FP)\n",
    "    recall =  TP / (TP + FN)\n",
    "    fScore =metrics.f1_score(y_test,predicted)\n",
    "    auc = roc_auc_score(y_test, predicted)\n",
    "\n",
    "    print(\"Confusion Matrix:\\n\",conf_mat)\n",
    "    print(\"Accuracy:\",accuracy)\n",
    "    print(\"Sensitivity :\",sensitivity)\n",
    "    print(\"Specificity :\",specificity)\n",
    "    print(\"Precision:\",precision)\n",
    "    print(\"Recall:\",recall)\n",
    "    print(\"F-score:\",fScore)\n",
    "    print(\"AUC:\",auc)\n",
    "    print(\"ROC curve:\")\n",
    "    fpr, tpr, thresholds = roc_curve(y_test, predicted)\n",
    "    plot_roc_curve(fpr, tpr)"
   ]
  },
  {
   "cell_type": "code",
   "execution_count": 101,
   "metadata": {},
   "outputs": [
    {
     "name": "stdout",
     "output_type": "stream",
     "text": [
      "Confusion Matrix:\n",
      " [[6739  321]\n",
      " [1275  665]]\n",
      "Accuracy: 0.8226666666666667\n",
      "Sensitivity : 0.8409034190167207\n",
      "Specificity : 0.6744421906693712\n",
      "Precision: 0.9545325779036827\n",
      "Recall: 0.8409034190167207\n",
      "F-score: 0.4545454545454546\n",
      "AUC: 0.648658041529161\n",
      "ROC curve:\n"
     ]
    },
    {
     "data": {
      "image/png": "[encoded data removed]",
      "text/plain": [
       "<Figure size 432x288 with 1 Axes>"
      ]
     },
     "metadata": {
      "needs_background": "light"
     },
     "output_type": "display_data"
    }
   ],
   "source": [
    "get_summary(y_test,predicted)"
   ]
  },
  {
   "cell_type": "code",
   "execution_count": 102,
   "metadata": {},
   "outputs": [
    {
     "name": "stdout",
     "output_type": "stream",
     "text": [
      "                                    feature          VIF\n",
      "0                               Gender_male     1.711147\n",
      "1           Academic_Qualification_Graduate   199.161545\n",
      "2             Academic_Qualification_Others     4.907463\n",
      "3       Academic_Qualification_Postgraduate    70.013789\n",
      "4       Academic_Qualification_Professional     2.738384\n",
      "5      Academic_Qualification_Undergraduate   150.739805\n",
      "6                               Marital_Abs     6.198456\n",
      "7                           Marital_Married   226.889584\n",
      "8                            Marital_Single   266.451902\n",
      "9        Repayment_Status_Jan_janDelay Four     3.670196\n",
      "10        Repayment_Status_Jan_janDelay One   141.686273\n",
      "11        Repayment_Status_Jan_janDelay Six     4.843783\n",
      "12      Repayment_Status_Jan_janDelay Three    12.588311\n",
      "13        Repayment_Status_Jan_janDelay Two   103.579044\n",
      "14             Repayment_Status_Jan_janPaid   884.879954\n",
      "15       Repayment_Status_Feb_febDelay Four     6.558423\n",
      "16        Repayment_Status_Feb_febDelay One     2.986730\n",
      "17        Repayment_Status_Feb_febDelay Six     4.342406\n",
      "18      Repayment_Status_Feb_febDelay Three    19.997733\n",
      "19        Repayment_Status_Feb_febDelay Two   231.075611\n",
      "20             Repayment_Status_Feb_febPaid  1481.219111\n",
      "21     Repayment_Status_March_marDelay Four     2.308608\n",
      "22      Repayment_Status_March_marDelay One     1.660358\n",
      "23    Repayment_Status_March_marDelay Three     1.715204\n",
      "24      Repayment_Status_March_marDelay Two     2.330273\n",
      "25   Repayment_Status_April_aprilDelay Four     3.967176\n",
      "26    Repayment_Status_April_aprilDelay One     1.591789\n",
      "27    Repayment_Status_April_aprilDelay Six    25.606436\n",
      "28  Repayment_Status_April_aprilDelay Three    12.465250\n",
      "29    Repayment_Status_April_aprilDelay Two   205.954005\n",
      "30         Repayment_Status_April_aprilPaid  1689.124758\n",
      "31       Repayment_Status_May_mayDelay Four     8.255785\n",
      "32        Repayment_Status_May_mayDelay Six    38.400944\n",
      "33      Repayment_Status_May_mayDelay Three    19.580397\n",
      "34        Repayment_Status_May_mayDelay Two   285.375568\n",
      "35             Repayment_Status_May_mayPaid  2896.358652\n",
      "36      Repayment_Status_June_juneDelay Six    16.300334\n",
      "37    Repayment_Status_June_juneDelay Three     6.568481\n",
      "38      Repayment_Status_June_juneDelay Two    85.868384\n",
      "39           Repayment_Status_June_junePaid   817.447788\n",
      "40                            Credit_Amount     3.840623\n",
      "41                                Age_Years     4.826514\n",
      "42                          Jan_Bill_Amount    70.937690\n",
      "43                          Feb_Bill_Amount    14.470430\n",
      "44                        March_Bill_Amount   149.579424\n",
      "45                        April_Bill_Amount   124.702230\n",
      "46                     Previous_Payment_Jan     1.475751\n",
      "47                     Previous_Payment_Feb     1.784919\n",
      "48                   Previous_Payment_March     1.668026\n",
      "49                   Previous_Payment_April     1.228060\n",
      "50                     Previous_Payment_May     1.212551\n",
      "51                    Previous_Payment_June     1.208436\n"
     ]
    }
   ],
   "source": [
    "from statsmodels.stats.outliers_influence import variance_inflation_factor \n",
    "# VIF dataframe \n",
    "vif_data = pd.DataFrame() \n",
    "vif_data[\"feature\"] = x_train.columns\n",
    "# calculating VIF for each feature \n",
    "vif_data[\"VIF\"] = [variance_inflation_factor(x_train.values, i) \n",
    "                          for i in range(len(x_train.columns))] \n",
    "  \n",
    "print(vif_data)"
   ]
  },
  {
   "cell_type": "code",
   "execution_count": 103,
   "metadata": {},
   "outputs": [
    {
     "data": {
      "text/plain": [
       "const                                      0.431888\n",
       "Gender_male                                0.021777\n",
       "Academic_Qualification_Graduate            0.067717\n",
       "Academic_Qualification_Others             -0.053528\n",
       "Academic_Qualification_Postgraduate        0.050163\n",
       "Academic_Qualification_Professional       -0.020517\n",
       "Academic_Qualification_Undergraduate       0.069990\n",
       "Marital_Abs                                0.149530\n",
       "Marital_Married                            0.131250\n",
       "Marital_Single                             0.105382\n",
       "Repayment_Status_Jan_janDelay Four         0.123932\n",
       "Repayment_Status_Jan_janDelay One         -0.085251\n",
       "Repayment_Status_Jan_janDelay Six         -0.138088\n",
       "Repayment_Status_Jan_janDelay Three        0.168504\n",
       "Repayment_Status_Jan_janDelay Two          0.206581\n",
       "Repayment_Status_Jan_janPaid              -0.199486\n",
       "Repayment_Status_Feb_febDelay Four        -0.337520\n",
       "Repayment_Status_Feb_febDelay One         -0.375093\n",
       "Repayment_Status_Feb_febDelay Six          0.143961\n",
       "Repayment_Status_Feb_febDelay Three       -0.142744\n",
       "Repayment_Status_Feb_febDelay Two         -0.144686\n",
       "Repayment_Status_Feb_febPaid              -0.216513\n",
       "Repayment_Status_March_marDelay Four      -0.000949\n",
       "Repayment_Status_March_marDelay One       -0.115060\n",
       "Repayment_Status_March_marDelay Three      0.099984\n",
       "Repayment_Status_March_marDelay Two        0.061827\n",
       "Repayment_Status_April_aprilDelay Four     0.171680\n",
       "Repayment_Status_April_aprilDelay One      0.255563\n",
       "Repayment_Status_April_aprilDelay Six     -0.324758\n",
       "Repayment_Status_April_aprilDelay Three    0.198263\n",
       "Repayment_Status_April_aprilDelay Two      0.219479\n",
       "Repayment_Status_April_aprilPaid           0.177832\n",
       "Repayment_Status_May_mayDelay Four        -0.109995\n",
       "Repayment_Status_May_mayDelay Six          0.301310\n",
       "Repayment_Status_May_mayDelay Three        0.024118\n",
       "Repayment_Status_May_mayDelay Two          0.025687\n",
       "Repayment_Status_May_mayPaid              -0.032635\n",
       "Repayment_Status_June_juneDelay Six        0.204843\n",
       "Repayment_Status_June_juneDelay Three      0.029830\n",
       "Repayment_Status_June_juneDelay Two       -0.080775\n",
       "Repayment_Status_June_junePaid            -0.148165\n",
       "Credit_Amount                             -0.348751\n",
       "Age_Years                                  0.037345\n",
       "Jan_Bill_Amount                           -0.115184\n",
       "Feb_Bill_Amount                            0.209056\n",
       "March_Bill_Amount                         -0.043385\n",
       "April_Bill_Amount                         -0.093937\n",
       "Previous_Payment_Jan                      -0.601306\n",
       "Previous_Payment_Feb                      -0.009404\n",
       "Previous_Payment_March                    -0.142590\n",
       "Previous_Payment_April                    -0.122342\n",
       "Previous_Payment_May                      -0.137061\n",
       "Previous_Payment_June                     -0.107491\n",
       "dtype: float64"
      ]
     },
     "execution_count": 103,
     "metadata": {},
     "output_type": "execute_result"
    }
   ],
   "source": [
    "import statsmodels.api as sm\n",
    "X_train_sm = x_train\n",
    "#Unlike SKLearn, statsmodels don't automatically fit a constant, \n",
    "#so you need to use the method sm.add_constant(X) in order to add a constant. \n",
    "X_train_sm = sm.add_constant(X_train_sm)\n",
    "# create a fitted model in one line\n",
    "glm_2 = sm.OLS(y_train,X_train_sm).fit()\n",
    "\n",
    "# print the coefficients\n",
    "glm_2.params"
   ]
  },
  {
   "cell_type": "code",
   "execution_count": 104,
   "metadata": {},
   "outputs": [
    {
     "name": "stdout",
     "output_type": "stream",
     "text": [
      "                            OLS Regression Results                            \n",
      "==============================================================================\n",
      "Dep. Variable:        Default_Payment   R-squared:                       0.209\n",
      "Model:                            OLS   Adj. R-squared:                  0.207\n",
      "Method:                 Least Squares   F-statistic:                     106.7\n",
      "Date:                Tue, 24 Nov 2020   Prob (F-statistic):               0.00\n",
      "Time:                        15:20:30   Log-Likelihood:                -8945.4\n",
      "No. Observations:               21000   AIC:                         1.800e+04\n",
      "Df Residuals:                   20947   BIC:                         1.842e+04\n",
      "Df Model:                          52                                         \n",
      "Covariance Type:            nonrobust                                         \n",
      "===========================================================================================================\n",
      "                                              coef    std err          t      P>|t|      [0.025      0.975]\n",
      "-----------------------------------------------------------------------------------------------------------\n",
      "const                                       0.4319      0.228      1.898      0.058      -0.014       0.878\n",
      "Gender_male                                 0.0218      0.005      4.117      0.000       0.011       0.032\n",
      "Academic_Qualification_Graduate             0.0677      0.054      1.245      0.213      -0.039       0.174\n",
      "Academic_Qualification_Others              -0.0535      0.060     -0.886      0.376      -0.172       0.065\n",
      "Academic_Qualification_Postgraduate         0.0502      0.055      0.919      0.358      -0.057       0.157\n",
      "Academic_Qualification_Professional        -0.0205      0.067     -0.304      0.761      -0.153       0.112\n",
      "Academic_Qualification_Undergraduate        0.0700      0.054      1.285      0.199      -0.037       0.177\n",
      "Marital_Abs                                 0.1495      0.064      2.334      0.020       0.024       0.275\n",
      "Marital_Married                             0.1313      0.059      2.223      0.026       0.016       0.247\n",
      "Marital_Single                              0.1054      0.059      1.784      0.074      -0.010       0.221\n",
      "Repayment_Status_Jan_janDelay Four          0.1239      0.102      1.215      0.224      -0.076       0.324\n",
      "Repayment_Status_Jan_janDelay One          -0.0853      0.092     -0.923      0.356      -0.266       0.096\n",
      "Repayment_Status_Jan_janDelay Six          -0.1381      0.157     -0.879      0.380      -0.446       0.170\n",
      "Repayment_Status_Jan_janDelay Three         0.1685      0.095      1.770      0.077      -0.018       0.355\n",
      "Repayment_Status_Jan_janDelay Two           0.2066      0.093      2.230      0.026       0.025       0.388\n",
      "Repayment_Status_Jan_janPaid               -0.1995      0.093     -2.155      0.031      -0.381      -0.018\n",
      "Repayment_Status_Feb_febDelay Four         -0.3375      0.131     -2.576      0.010      -0.594      -0.081\n",
      "Repayment_Status_Feb_febDelay One          -0.3751      0.154     -2.430      0.015      -0.678      -0.073\n",
      "Repayment_Status_Feb_febDelay Six           0.1440      0.159      0.903      0.366      -0.168       0.456\n",
      "Repayment_Status_Feb_febDelay Three        -0.1427      0.129     -1.105      0.269      -0.396       0.110\n",
      "Repayment_Status_Feb_febDelay Two          -0.1447      0.129     -1.125      0.261      -0.397       0.107\n",
      "Repayment_Status_Feb_febPaid               -0.2165      0.129     -1.679      0.093      -0.469       0.036\n",
      "Repayment_Status_March_marDelay Four       -0.0009      0.078     -0.012      0.990      -0.155       0.153\n",
      "Repayment_Status_March_marDelay One        -0.1151      0.276     -0.417      0.677      -0.656       0.426\n",
      "Repayment_Status_March_marDelay Three       0.1000      0.037      2.678      0.007       0.027       0.173\n",
      "Repayment_Status_March_marDelay Two         0.0618      0.011      5.679      0.000       0.040       0.083\n",
      "Repayment_Status_April_aprilDelay Four      0.1717      0.112      1.534      0.125      -0.048       0.391\n",
      "Repayment_Status_April_aprilDelay One       0.2556      0.469      0.544      0.586      -0.664       1.176\n",
      "Repayment_Status_April_aprilDelay Six      -0.3248      0.288     -1.129      0.259      -0.888       0.239\n",
      "Repayment_Status_April_aprilDelay Three     0.1983      0.121      1.640      0.101      -0.039       0.435\n",
      "Repayment_Status_April_aprilDelay Two       0.2195      0.117      1.869      0.062      -0.011       0.450\n",
      "Repayment_Status_April_aprilPaid            0.1778      0.118      1.511      0.131      -0.053       0.408\n",
      "Repayment_Status_May_mayDelay Four         -0.1100      0.145     -0.759      0.448      -0.394       0.174\n",
      "Repayment_Status_May_mayDelay Six           0.3013      0.343      0.879      0.380      -0.371       0.973\n",
      "Repayment_Status_May_mayDelay Three         0.0241      0.153      0.157      0.875      -0.276       0.325\n",
      "Repayment_Status_May_mayDelay Two           0.0257      0.153      0.168      0.867      -0.274       0.326\n",
      "Repayment_Status_May_mayPaid               -0.0326      0.154     -0.212      0.832      -0.334       0.268\n",
      "Repayment_Status_June_juneDelay Six         0.2048      0.221      0.925      0.355      -0.229       0.639\n",
      "Repayment_Status_June_juneDelay Three       0.0298      0.079      0.376      0.707      -0.126       0.185\n",
      "Repayment_Status_June_juneDelay Two        -0.0808      0.078     -1.041      0.298      -0.233       0.071\n",
      "Repayment_Status_June_junePaid             -0.1482      0.078     -1.902      0.057      -0.301       0.005\n",
      "Credit_Amount                              -0.3488      0.046     -7.615      0.000      -0.439      -0.259\n",
      "Age_Years                                   0.0373      0.019      1.960      0.050   -1.91e-06       0.075\n",
      "Jan_Bill_Amount                            -0.1152      0.062     -1.862      0.063      -0.236       0.006\n",
      "Feb_Bill_Amount                             0.2091      0.067      3.117      0.002       0.078       0.341\n",
      "March_Bill_Amount                          -0.0434      0.278     -0.156      0.876      -0.589       0.502\n",
      "April_Bill_Amount                          -0.0939      0.108     -0.873      0.383      -0.305       0.117\n",
      "Previous_Payment_Jan                       -0.6013      0.150     -4.020      0.000      -0.895      -0.308\n",
      "Previous_Payment_Feb                       -0.0094      0.247     -0.038      0.970      -0.494       0.475\n",
      "Previous_Payment_March                     -0.1426      0.155     -0.921      0.357      -0.446       0.161\n",
      "Previous_Payment_April                     -0.1223      0.084     -1.458      0.145      -0.287       0.042\n",
      "Previous_Payment_May                       -0.1371      0.085     -1.610      0.107      -0.304       0.030\n",
      "Previous_Payment_June                      -0.1075      0.081     -1.325      0.185      -0.267       0.052\n",
      "==============================================================================\n",
      "Omnibus:                     3535.360   Durbin-Watson:                   2.020\n",
      "Prob(Omnibus):                  0.000   Jarque-Bera (JB):             5600.896\n",
      "Skew:                           1.198   Prob(JB):                         0.00\n",
      "Kurtosis:                       3.813   Cond. No.                         493.\n",
      "==============================================================================\n",
      "\n",
      "Warnings:\n",
      "[1] Standard Errors assume that the covariance matrix of the errors is correctly specified.\n"
     ]
    }
   ],
   "source": [
    "print(glm_2.summary())"
   ]
  },
  {
   "cell_type": "code",
   "execution_count": 107,
   "metadata": {},
   "outputs": [],
   "source": [
    "x2=x_final[['Gender_male', 'Academic_Qualification_Graduate',\n",
    "       'Academic_Qualification_Others', 'Academic_Qualification_Postgraduate',\n",
    "       'Academic_Qualification_Professional',\n",
    "       'Academic_Qualification_Undergraduate', 'Marital_Abs',\n",
    "       'Marital_Married', 'Marital_Single',\n",
    "       'Repayment_Status_Jan_janDelay Four',\n",
    "       'Repayment_Status_Jan_janDelay One',\n",
    "       'Repayment_Status_Jan_janDelay Six',\n",
    "       'Repayment_Status_Jan_janDelay Three',\n",
    "       'Repayment_Status_Jan_janDelay Two', \n",
    "       'Repayment_Status_Feb_febDelay Four',\n",
    "       'Repayment_Status_Feb_febDelay One',\n",
    "       'Repayment_Status_Feb_febDelay Six',\n",
    "       'Repayment_Status_Feb_febDelay Three',\n",
    "       'Repayment_Status_Feb_febDelay Two', \n",
    "       'Repayment_Status_March_marDelay Four',\n",
    "       'Repayment_Status_March_marDelay One',\n",
    "       'Repayment_Status_March_marDelay Three',\n",
    "       'Repayment_Status_March_marDelay Two',\n",
    "       'Repayment_Status_April_aprilDelay Four',\n",
    "       'Repayment_Status_April_aprilDelay One',\n",
    "       'Repayment_Status_April_aprilDelay Six',\n",
    "       'Repayment_Status_April_aprilDelay Three',\n",
    "       'Repayment_Status_April_aprilDelay Two',\n",
    "      'Repayment_Status_May_mayDelay Four',\n",
    "       'Repayment_Status_May_mayDelay Six',\n",
    "       'Repayment_Status_May_mayDelay Three',\n",
    "       'Repayment_Status_May_mayDelay Two',\n",
    "       'Repayment_Status_June_juneDelay Six',\n",
    "       'Repayment_Status_June_juneDelay Three',\n",
    "       'Repayment_Status_June_juneDelay Two', \n",
    "       'Credit_Amount', 'Age_Years', 'Jan_Bill_Amount', 'Feb_Bill_Amount',\n",
    "       'March_Bill_Amount', 'April_Bill_Amount', 'Previous_Payment_Jan',\n",
    "       'Previous_Payment_Feb', 'Previous_Payment_March',\n",
    "       'Previous_Payment_April', 'Previous_Payment_May',\n",
    "       'Previous_Payment_June']]"
   ]
  },
  {
   "cell_type": "code",
   "execution_count": 108,
   "metadata": {},
   "outputs": [
    {
     "name": "stdout",
     "output_type": "stream",
     "text": [
      "x_train  (21000, 47)\n",
      "x_test  (9000, 47)\n",
      "y_train  (21000,)\n",
      "y_test  (9000,)\n"
     ]
    }
   ],
   "source": [
    "# Train Test Splitting \n",
    "from sklearn.model_selection import train_test_split\n",
    "x_train,x_test, y_train, y_test = train_test_split(x2, y, test_size = 0.30, random_state=0)\n",
    "print(\"x_train \",x_train.shape)\n",
    "print(\"x_test \",x_test.shape)\n",
    "print(\"y_train \",y_train.shape)\n",
    "print(\"y_test \",y_test.shape)"
   ]
  },
  {
   "cell_type": "code",
   "execution_count": 109,
   "metadata": {},
   "outputs": [
    {
     "name": "stderr",
     "output_type": "stream",
     "text": [
      "C:\\Users\\HP\\anaconda3\\lib\\site-packages\\sklearn\\linear_model\\_logistic.py:762: ConvergenceWarning: lbfgs failed to converge (status=1):\n",
      "STOP: TOTAL NO. of ITERATIONS REACHED LIMIT.\n",
      "\n",
      "Increase the number of iterations (max_iter) or scale the data as shown in:\n",
      "    https://scikit-learn.org/stable/modules/preprocessing.html\n",
      "Please also refer to the documentation for alternative solver options:\n",
      "    https://scikit-learn.org/stable/modules/linear_model.html#logistic-regression\n",
      "  n_iter_i = _check_optimize_result(\n"
     ]
    }
   ],
   "source": [
    "from sklearn.linear_model import LogisticRegression\n",
    "glm = LogisticRegression()\n",
    "model = glm.fit(x_train,y_train)\n",
    "predicted = model.predict(x_test)"
   ]
  },
  {
   "cell_type": "code",
   "execution_count": 110,
   "metadata": {},
   "outputs": [],
   "source": [
    "from sklearn.metrics import confusion_matrix\n",
    "from sklearn.metrics import roc_curve, roc_auc_score"
   ]
  },
  {
   "cell_type": "code",
   "execution_count": 116,
   "metadata": {},
   "outputs": [],
   "source": [
    "# Function For Logistic Regression Create Summary For Logistic Regression\n",
    "\n",
    "def plot_roc_curve(fpr, tpr):\n",
    "    plt.plot(fpr, tpr, color='orange', label='ROC')\n",
    "    plt.plot([0, 1], [0, 1], color='darkblue', linestyle=':')\n",
    "    plt.xlabel('False Positive Rate')\n",
    "    plt.ylabel('True Positive Rate')\n",
    "    plt.title('Receiver Operating Characteristic (ROC) Curve')\n",
    "    plt.legend()\n",
    "    plt.show()\n",
    "\n",
    "def get_summary(y_test,predicted):\n",
    "    # Confusion Matrix\n",
    "    conf_mat = confusion_matrix(y_test,predicted)\n",
    "    TP = conf_mat[0,0]\n",
    "    FP = conf_mat[0,1]\n",
    "    FN = conf_mat[1,0]\n",
    "    TN = conf_mat[1,1]\n",
    "    \n",
    "    accuracy = (TP+TN)/((FN+FP)+(TP+TN))\n",
    "    sensitivity = TP/(TP+FN)\n",
    "    specificity = TN/(TN+FP)\n",
    "    precision = TP/(TP+FP)\n",
    "    recall =  TP / (TP + FN)\n",
    "    fScore =metrics.f1_score(y_test,predicted)\n",
    "    auc = roc_auc_score(y_test, predicted)\n",
    "\n",
    "    print(\"Confusion Matrix:\\n\",conf_mat)\n",
    "    print(\"Accuracy:\",accuracy)\n",
    "    print(\"Sensitivity :\",sensitivity)\n",
    "    print(\"Specificity :\",specificity)\n",
    "    print(\"Precision:\",precision)\n",
    "    print(\"Recall:\",recall)\n",
    "    print(\"F-score:\",fScore)\n",
    "    print(\"AUC:\",auc)\n",
    "    print(\"ROC curve:\")\n",
    "    fpr, tpr, thresholds = roc_curve(y_test, predicted)\n",
    "    plot_roc_curve(fpr, tpr)"
   ]
  },
  {
   "cell_type": "code",
   "execution_count": 117,
   "metadata": {},
   "outputs": [
    {
     "name": "stdout",
     "output_type": "stream",
     "text": [
      "Confusion Matrix:\n",
      " [[6740  320]\n",
      " [1275  665]]\n",
      "Accuracy: 0.8227777777777778\n",
      "Sensitivity : 0.8409232688708671\n",
      "Specificity : 0.6751269035532995\n",
      "Precision: 0.9546742209631728\n",
      "Recall: 0.8409232688708671\n",
      "F-score: 0.4547008547008547\n",
      "AUC: 0.6487288630589061\n",
      "ROC curve:\n"
     ]
    },
    {
     "data": {
      "image/png": "[encoded data removed]",
      "text/plain": [
       "<Figure size 432x288 with 1 Axes>"
      ]
     },
     "metadata": {
      "needs_background": "light"
     },
     "output_type": "display_data"
    }
   ],
   "source": [
    "get_summary(y_test,predicted)"
   ]
  },
  {
   "cell_type": "code",
   "execution_count": 118,
   "metadata": {},
   "outputs": [
    {
     "name": "stdout",
     "output_type": "stream",
     "text": [
      "                                    feature         VIF\n",
      "0                               Gender_male    1.710796\n",
      "1           Academic_Qualification_Graduate  117.795827\n",
      "2             Academic_Qualification_Others    3.308407\n",
      "3       Academic_Qualification_Postgraduate   41.136634\n",
      "4       Academic_Qualification_Professional    2.029357\n",
      "5      Academic_Qualification_Undergraduate   89.370025\n",
      "6                               Marital_Abs    3.659415\n",
      "7                           Marital_Married  118.006090\n",
      "8                            Marital_Single  137.077935\n",
      "9        Repayment_Status_Jan_janDelay Four    1.213357\n",
      "10        Repayment_Status_Jan_janDelay One    1.634569\n",
      "11        Repayment_Status_Jan_janDelay Six    3.248593\n",
      "12      Repayment_Status_Jan_janDelay Three    1.221855\n",
      "13        Repayment_Status_Jan_janDelay Two    1.689167\n",
      "14       Repayment_Status_Feb_febDelay Four    1.630234\n",
      "15        Repayment_Status_Feb_febDelay One    1.175140\n",
      "16        Repayment_Status_Feb_febDelay Six    3.561572\n",
      "17      Repayment_Status_Feb_febDelay Three    1.381294\n",
      "18        Repayment_Status_Feb_febDelay Two    2.649255\n",
      "19     Repayment_Status_March_marDelay Four    1.914049\n",
      "20      Repayment_Status_March_marDelay One    1.660352\n",
      "21    Repayment_Status_March_marDelay Three    1.698787\n",
      "22      Repayment_Status_March_marDelay Two    2.328633\n",
      "23   Repayment_Status_April_aprilDelay Four    1.605083\n",
      "24    Repayment_Status_April_aprilDelay One    1.501209\n",
      "25    Repayment_Status_April_aprilDelay Six   22.942523\n",
      "26  Repayment_Status_April_aprilDelay Three    1.638048\n",
      "27    Repayment_Status_April_aprilDelay Two    2.449914\n",
      "28       Repayment_Status_May_mayDelay Four    1.775243\n",
      "29        Repayment_Status_May_mayDelay Six   38.011745\n",
      "30      Repayment_Status_May_mayDelay Three    1.477143\n",
      "31        Repayment_Status_May_mayDelay Two    2.519029\n",
      "32      Repayment_Status_June_juneDelay Six   15.718246\n",
      "33    Repayment_Status_June_juneDelay Three    1.545526\n",
      "34      Repayment_Status_June_juneDelay Two    1.937845\n",
      "35                            Credit_Amount    3.839770\n",
      "36                                Age_Years    4.802875\n",
      "37                          Jan_Bill_Amount   70.592637\n",
      "38                          Feb_Bill_Amount   14.236291\n",
      "39                        March_Bill_Amount  149.497374\n",
      "40                        April_Bill_Amount  124.385126\n",
      "41                     Previous_Payment_Jan    1.472788\n",
      "42                     Previous_Payment_Feb    1.783427\n",
      "43                   Previous_Payment_March    1.667221\n",
      "44                   Previous_Payment_April    1.227753\n",
      "45                     Previous_Payment_May    1.212306\n",
      "46                    Previous_Payment_June    1.206764\n"
     ]
    }
   ],
   "source": [
    "from statsmodels.stats.outliers_influence import variance_inflation_factor \n",
    "# VIF dataframe \n",
    "vif_data = pd.DataFrame() \n",
    "vif_data[\"feature\"] = x_train.columns\n",
    "# calculating VIF for each feature \n",
    "vif_data[\"VIF\"] = [variance_inflation_factor(x_train.values, i) \n",
    "                          for i in range(len(x_train.columns))] \n",
    "  \n",
    "print(vif_data)"
   ]
  },
  {
   "cell_type": "code",
   "execution_count": 119,
   "metadata": {},
   "outputs": [
    {
     "data": {
      "text/plain": [
       "const                                      0.016787\n",
       "Gender_male                                0.021885\n",
       "Academic_Qualification_Graduate            0.067987\n",
       "Academic_Qualification_Others             -0.052723\n",
       "Academic_Qualification_Postgraduate        0.050517\n",
       "Academic_Qualification_Professional       -0.020210\n",
       "Academic_Qualification_Undergraduate       0.070110\n",
       "Marital_Abs                                0.145350\n",
       "Marital_Married                            0.127454\n",
       "Marital_Single                             0.101666\n",
       "Repayment_Status_Jan_janDelay Four         0.313049\n",
       "Repayment_Status_Jan_janDelay One          0.113441\n",
       "Repayment_Status_Jan_janDelay Six          0.142782\n",
       "Repayment_Status_Jan_janDelay Three        0.370775\n",
       "Repayment_Status_Jan_janDelay Two          0.404821\n",
       "Repayment_Status_Feb_febDelay Four        -0.086552\n",
       "Repayment_Status_Feb_febDelay One         -0.158077\n",
       "Repayment_Status_Feb_febDelay Six          0.189672\n",
       "Repayment_Status_Feb_febDelay Three        0.072016\n",
       "Repayment_Status_Feb_febDelay Two          0.071590\n",
       "Repayment_Status_March_marDelay Four       0.070005\n",
       "Repayment_Status_March_marDelay One       -0.115966\n",
       "Repayment_Status_March_marDelay Three      0.116587\n",
       "Repayment_Status_March_marDelay Two        0.062897\n",
       "Repayment_Status_April_aprilDelay Four     0.062708\n",
       "Repayment_Status_April_aprilDelay One      0.078877\n",
       "Repayment_Status_April_aprilDelay Six     -0.405376\n",
       "Repayment_Status_April_aprilDelay Three    0.029140\n",
       "Repayment_Status_April_aprilDelay Two      0.043493\n",
       "Repayment_Status_May_mayDelay Four        -0.101284\n",
       "Repayment_Status_May_mayDelay Six          0.326443\n",
       "Repayment_Status_May_mayDelay Three        0.060251\n",
       "Repayment_Status_May_mayDelay Two          0.059631\n",
       "Repayment_Status_June_juneDelay Six        0.269127\n",
       "Repayment_Status_June_juneDelay Three      0.157274\n",
       "Repayment_Status_June_juneDelay Two        0.064175\n",
       "Credit_Amount                             -0.350572\n",
       "Age_Years                                  0.037678\n",
       "Jan_Bill_Amount                           -0.116529\n",
       "Feb_Bill_Amount                            0.211656\n",
       "March_Bill_Amount                         -0.041352\n",
       "April_Bill_Amount                         -0.094601\n",
       "Previous_Payment_Jan                      -0.608650\n",
       "Previous_Payment_Feb                      -0.009606\n",
       "Previous_Payment_March                    -0.139973\n",
       "Previous_Payment_April                    -0.121547\n",
       "Previous_Payment_May                      -0.139405\n",
       "Previous_Payment_June                     -0.103091\n",
       "dtype: float64"
      ]
     },
     "execution_count": 119,
     "metadata": {},
     "output_type": "execute_result"
    }
   ],
   "source": [
    "import statsmodels.api as sm\n",
    "X_train_sm = x_train\n",
    "#Unlike SKLearn, statsmodels don't automatically fit a constant, \n",
    "#so you need to use the method sm.add_constant(X) in order to add a constant. \n",
    "X_train_sm = sm.add_constant(X_train_sm)\n",
    "# create a fitted model in one line\n",
    "glm_3 = sm.OLS(y_train,X_train_sm).fit()\n",
    "\n",
    "# print the coefficients\n",
    "glm_3.params"
   ]
  },
  {
   "cell_type": "code",
   "execution_count": 121,
   "metadata": {},
   "outputs": [
    {
     "name": "stdout",
     "output_type": "stream",
     "text": [
      "                            OLS Regression Results                            \n",
      "==============================================================================\n",
      "Dep. Variable:        Default_Payment   R-squared:                       0.209\n",
      "Model:                            OLS   Adj. R-squared:                  0.207\n",
      "Method:                 Least Squares   F-statistic:                     117.7\n",
      "Date:                Tue, 24 Nov 2020   Prob (F-statistic):               0.00\n",
      "Time:                        15:29:49   Log-Likelihood:                -8952.6\n",
      "No. Observations:               21000   AIC:                         1.800e+04\n",
      "Df Residuals:                   20952   BIC:                         1.838e+04\n",
      "Df Model:                          47                                         \n",
      "Covariance Type:            nonrobust                                         \n",
      "===========================================================================================================\n",
      "                                              coef    std err          t      P>|t|      [0.025      0.975]\n",
      "-----------------------------------------------------------------------------------------------------------\n",
      "const                                       0.0168      0.082      0.206      0.837      -0.143       0.177\n",
      "Gender_male                                 0.0219      0.005      4.137      0.000       0.012       0.032\n",
      "Academic_Qualification_Graduate             0.0680      0.054      1.250      0.211      -0.039       0.175\n",
      "Academic_Qualification_Others              -0.0527      0.060     -0.872      0.383      -0.171       0.066\n",
      "Academic_Qualification_Postgraduate         0.0505      0.055      0.925      0.355      -0.056       0.158\n",
      "Academic_Qualification_Professional        -0.0202      0.067     -0.300      0.765      -0.152       0.112\n",
      "Academic_Qualification_Undergraduate        0.0701      0.054      1.287      0.198      -0.037       0.177\n",
      "Marital_Abs                                 0.1453      0.064      2.269      0.023       0.020       0.271\n",
      "Marital_Married                             0.1275      0.059      2.159      0.031       0.012       0.243\n",
      "Marital_Single                              0.1017      0.059      1.722      0.085      -0.014       0.217\n",
      "Repayment_Status_Jan_janDelay Four          0.3130      0.056      5.629      0.000       0.204       0.422\n",
      "Repayment_Status_Jan_janDelay One           0.1134      0.009     12.206      0.000       0.095       0.132\n",
      "Repayment_Status_Jan_janDelay Six           0.1428      0.115      1.245      0.213      -0.082       0.368\n",
      "Repayment_Status_Jan_janDelay Three         0.3708      0.028     13.348      0.000       0.316       0.425\n",
      "Repayment_Status_Jan_janDelay Two           0.4048      0.011     36.486      0.000       0.383       0.427\n",
      "Repayment_Status_Feb_febDelay Four         -0.0866      0.054     -1.614      0.107      -0.192       0.019\n",
      "Repayment_Status_Feb_febDelay One          -0.1581      0.086     -1.843      0.065      -0.326       0.010\n",
      "Repayment_Status_Feb_febDelay Six           0.1897      0.135      1.408      0.159      -0.074       0.454\n",
      "Repayment_Status_Feb_febDelay Three         0.0720      0.028      2.553      0.011       0.017       0.127\n",
      "Repayment_Status_Feb_febDelay Two           0.0716      0.011      6.263      0.000       0.049       0.094\n",
      "Repayment_Status_March_marDelay Four        0.0700      0.069      1.021      0.307      -0.064       0.204\n",
      "Repayment_Status_March_marDelay One        -0.1160      0.276     -0.420      0.674      -0.657       0.425\n",
      "Repayment_Status_March_marDelay Three       0.1166      0.037      3.153      0.002       0.044       0.189\n",
      "Repayment_Status_March_marDelay Two         0.0629      0.011      5.780      0.000       0.042       0.084\n",
      "Repayment_Status_April_aprilDelay Four      0.0627      0.069      0.915      0.360      -0.072       0.197\n",
      "Repayment_Status_April_aprilDelay One       0.0789      0.455      0.174      0.862      -0.812       0.970\n",
      "Repayment_Status_April_aprilDelay Six      -0.4054      0.265     -1.530      0.126      -0.925       0.114\n",
      "Repayment_Status_April_aprilDelay Three     0.0291      0.042      0.697      0.486      -0.053       0.111\n",
      "Repayment_Status_April_aprilDelay Two       0.0435      0.012      3.563      0.000       0.020       0.067\n",
      "Repayment_Status_May_mayDelay Four         -0.1013      0.062     -1.639      0.101      -0.222       0.020\n",
      "Repayment_Status_May_mayDelay Six           0.3264      0.341      0.957      0.338      -0.342       0.995\n",
      "Repayment_Status_May_mayDelay Three         0.0603      0.040      1.512      0.131      -0.018       0.138\n",
      "Repayment_Status_May_mayDelay Two           0.0596      0.014      4.385      0.000       0.033       0.086\n",
      "Repayment_Status_June_juneDelay Six         0.2691      0.217      1.241      0.215      -0.156       0.694\n",
      "Repayment_Status_June_juneDelay Three       0.1573      0.038      4.120      0.000       0.082       0.232\n",
      "Repayment_Status_June_juneDelay Two         0.0642      0.012      5.537      0.000       0.041       0.087\n",
      "Credit_Amount                              -0.3506      0.046     -7.654      0.000      -0.440      -0.261\n",
      "Age_Years                                   0.0377      0.019      1.977      0.048       0.000       0.075\n",
      "Jan_Bill_Amount                            -0.1165      0.062     -1.883      0.060      -0.238       0.005\n",
      "Feb_Bill_Amount                             0.2117      0.067      3.156      0.002       0.080       0.343\n",
      "March_Bill_Amount                          -0.0414      0.278     -0.148      0.882      -0.587       0.504\n",
      "April_Bill_Amount                          -0.0946      0.108     -0.879      0.380      -0.306       0.116\n",
      "Previous_Payment_Jan                       -0.6087      0.150     -4.069      0.000      -0.902      -0.315\n",
      "Previous_Payment_Feb                       -0.0096      0.247     -0.039      0.969      -0.494       0.475\n",
      "Previous_Payment_March                     -0.1400      0.155     -0.904      0.366      -0.443       0.163\n",
      "Previous_Payment_April                     -0.1215      0.084     -1.448      0.148      -0.286       0.043\n",
      "Previous_Payment_May                       -0.1394      0.085     -1.637      0.102      -0.306       0.028\n",
      "Previous_Payment_June                      -0.1031      0.081     -1.271      0.204      -0.262       0.056\n",
      "==============================================================================\n",
      "Omnibus:                     3529.458   Durbin-Watson:                   2.020\n",
      "Prob(Omnibus):                  0.000   Jarque-Bera (JB):             5586.904\n",
      "Skew:                           1.197   Prob(JB):                         0.00\n",
      "Kurtosis:                       3.808   Cond. No.                         296.\n",
      "==============================================================================\n",
      "\n",
      "Warnings:\n",
      "[1] Standard Errors assume that the covariance matrix of the errors is correctly specified.\n"
     ]
    }
   ],
   "source": [
    "print(glm_3.summary())"
   ]
  },
  {
   "cell_type": "code",
   "execution_count": 122,
   "metadata": {},
   "outputs": [],
   "source": [
    "x3=x_final[['Gender_male',\n",
    "       'Academic_Qualification_Others', 'Academic_Qualification_Postgraduate',\n",
    "       'Academic_Qualification_Professional',\n",
    "       'Academic_Qualification_Undergraduate', 'Marital_Abs',\n",
    "       \n",
    "       'Repayment_Status_Jan_janDelay Four',\n",
    "       'Repayment_Status_Jan_janDelay One',\n",
    "       'Repayment_Status_Jan_janDelay Six',\n",
    "       'Repayment_Status_Jan_janDelay Three',\n",
    "       'Repayment_Status_Jan_janDelay Two', \n",
    "       'Repayment_Status_Feb_febDelay Four',\n",
    "       'Repayment_Status_Feb_febDelay One',\n",
    "       'Repayment_Status_Feb_febDelay Six',\n",
    "       'Repayment_Status_Feb_febDelay Three',\n",
    "       'Repayment_Status_Feb_febDelay Two', \n",
    "       'Repayment_Status_March_marDelay Four',\n",
    "       'Repayment_Status_March_marDelay One',\n",
    "       'Repayment_Status_March_marDelay Three',\n",
    "       'Repayment_Status_March_marDelay Two',\n",
    "       'Repayment_Status_April_aprilDelay Four',\n",
    "       'Repayment_Status_April_aprilDelay One',\n",
    "       'Repayment_Status_April_aprilDelay Six',\n",
    "       'Repayment_Status_April_aprilDelay Three',\n",
    "       'Repayment_Status_April_aprilDelay Two',\n",
    "      'Repayment_Status_May_mayDelay Four',\n",
    "       'Repayment_Status_May_mayDelay Six',\n",
    "       'Repayment_Status_May_mayDelay Three',\n",
    "       'Repayment_Status_May_mayDelay Two',\n",
    "       'Repayment_Status_June_juneDelay Six',\n",
    "       'Repayment_Status_June_juneDelay Three',\n",
    "       'Repayment_Status_June_juneDelay Two', \n",
    "       'Credit_Amount', 'Age_Years', 'Jan_Bill_Amount', 'Feb_Bill_Amount',\n",
    "      'Previous_Payment_Jan',\n",
    "       'Previous_Payment_Feb', 'Previous_Payment_March',\n",
    "       'Previous_Payment_April', 'Previous_Payment_May',\n",
    "       'Previous_Payment_June']]"
   ]
  },
  {
   "cell_type": "code",
   "execution_count": 123,
   "metadata": {},
   "outputs": [
    {
     "name": "stdout",
     "output_type": "stream",
     "text": [
      "x_train  (21000, 42)\n",
      "x_test  (9000, 42)\n",
      "y_train  (21000,)\n",
      "y_test  (9000,)\n"
     ]
    }
   ],
   "source": [
    "# Train Test Splitting \n",
    "from sklearn.model_selection import train_test_split\n",
    "x_train,x_test, y_train, y_test = train_test_split(x3, y, test_size = 0.30, random_state=0)\n",
    "print(\"x_train \",x_train.shape)\n",
    "print(\"x_test \",x_test.shape)\n",
    "print(\"y_train \",y_train.shape)\n",
    "print(\"y_test \",y_test.shape)"
   ]
  },
  {
   "cell_type": "code",
   "execution_count": 124,
   "metadata": {},
   "outputs": [
    {
     "name": "stderr",
     "output_type": "stream",
     "text": [
      "C:\\Users\\HP\\anaconda3\\lib\\site-packages\\sklearn\\linear_model\\_logistic.py:762: ConvergenceWarning: lbfgs failed to converge (status=1):\n",
      "STOP: TOTAL NO. of ITERATIONS REACHED LIMIT.\n",
      "\n",
      "Increase the number of iterations (max_iter) or scale the data as shown in:\n",
      "    https://scikit-learn.org/stable/modules/preprocessing.html\n",
      "Please also refer to the documentation for alternative solver options:\n",
      "    https://scikit-learn.org/stable/modules/linear_model.html#logistic-regression\n",
      "  n_iter_i = _check_optimize_result(\n"
     ]
    }
   ],
   "source": [
    "from sklearn.linear_model import LogisticRegression\n",
    "glm = LogisticRegression()\n",
    "model = glm.fit(x_train,y_train)\n",
    "predicted = model.predict(x_test)"
   ]
  },
  {
   "cell_type": "code",
   "execution_count": 125,
   "metadata": {},
   "outputs": [],
   "source": [
    "from sklearn.metrics import confusion_matrix\n",
    "from sklearn.metrics import roc_curve, roc_auc_score"
   ]
  },
  {
   "cell_type": "code",
   "execution_count": 128,
   "metadata": {},
   "outputs": [],
   "source": [
    "# Function For Logistic Regression Create Summary For Logistic Regression\n",
    "\n",
    "def plot_roc_curve(fpr, tpr):\n",
    "    plt.plot(fpr, tpr, color='orange', label='ROC')\n",
    "    plt.plot([0, 1], [0, 1], color='darkblue', linestyle=':')\n",
    "    plt.xlabel('False Positive Rate')\n",
    "    plt.ylabel('True Positive Rate')\n",
    "    plt.title('Receiver Operating Characteristic (ROC) Curve')\n",
    "    plt.legend()\n",
    "    plt.show()\n",
    "\n",
    "def get_summary(y_test,predicted):\n",
    "    # Confusion Matrix\n",
    "    conf_mat = confusion_matrix(y_test,predicted)\n",
    "    TP = conf_mat[0,0:1]\n",
    "    FP = conf_mat[0,1:2]\n",
    "    FN = conf_mat[1,0:1]\n",
    "    TN = conf_mat[1,1:2]\n",
    "    \n",
    "    accuracy = (TP+TN)/((FN+FP)+(TP+TN))\n",
    "    sensitivity = TP/(TP+FN)\n",
    "    specificity = TN/(TN+FP)\n",
    "    precision = TP/(TP+FP)\n",
    "    recall =  TP / (TP + FN)\n",
    "    fScore =metrics.f1_score(y_test,predicted)\n",
    "    auc = roc_auc_score(y_test, predicted)\n",
    "\n",
    "    print(\"Confusion Matrix:\\n\",conf_mat)\n",
    "    print(\"Accuracy:\",accuracy)\n",
    "    print(\"Sensitivity :\",sensitivity)\n",
    "    print(\"Specificity :\",specificity)\n",
    "    print(\"Precision:\",precision)\n",
    "    print(\"Recall:\",recall)\n",
    "    print(\"F-score:\",fScore)\n",
    "    print(\"AUC:\",auc)\n",
    "    print(\"ROC curve:\")\n",
    "    fpr, tpr, thresholds = roc_curve(y_test, predicted)\n",
    "    plot_roc_curve(fpr, tpr)"
   ]
  },
  {
   "cell_type": "code",
   "execution_count": 129,
   "metadata": {},
   "outputs": [
    {
     "name": "stdout",
     "output_type": "stream",
     "text": [
      "Confusion Matrix:\n",
      " [[6733  327]\n",
      " [1262  678]]\n",
      "Accuracy: [0.82344444]\n",
      "Sensitivity : [0.84215134]\n",
      "Specificity : [0.67462687]\n",
      "Precision: [0.95368272]\n",
      "Recall: [0.84215134]\n",
      "F-score: 0.4604414261460102\n",
      "AUC: 0.6515836278146082\n",
      "ROC curve:\n"
     ]
    },
    {
     "data": {
      "image/png": "[encoded data removed]",
      "text/plain": [
       "<Figure size 432x288 with 1 Axes>"
      ]
     },
     "metadata": {
      "needs_background": "light"
     },
     "output_type": "display_data"
    }
   ],
   "source": [
    "get_summary(y_test,predicted)"
   ]
  },
  {
   "cell_type": "code",
   "execution_count": 130,
   "metadata": {},
   "outputs": [
    {
     "name": "stdout",
     "output_type": "stream",
     "text": [
      "                                    feature        VIF\n",
      "0                               Gender_male   1.682564\n",
      "1             Academic_Qualification_Others   1.023367\n",
      "2       Academic_Qualification_Postgraduate   1.419046\n",
      "3       Academic_Qualification_Professional   1.012266\n",
      "4      Academic_Qualification_Undergraduate   1.808849\n",
      "5                               Marital_Abs   1.026439\n",
      "6        Repayment_Status_Jan_janDelay Four   1.213222\n",
      "7         Repayment_Status_Jan_janDelay One   1.607448\n",
      "8         Repayment_Status_Jan_janDelay Six   3.248183\n",
      "9       Repayment_Status_Jan_janDelay Three   1.220710\n",
      "10        Repayment_Status_Jan_janDelay Two   1.685238\n",
      "11       Repayment_Status_Feb_febDelay Four   1.630045\n",
      "12        Repayment_Status_Feb_febDelay One   1.174130\n",
      "13        Repayment_Status_Feb_febDelay Six   3.561344\n",
      "14      Repayment_Status_Feb_febDelay Three   1.381164\n",
      "15        Repayment_Status_Feb_febDelay Two   2.645208\n",
      "16     Repayment_Status_March_marDelay Four   1.913704\n",
      "17      Repayment_Status_March_marDelay One   1.659896\n",
      "18    Repayment_Status_March_marDelay Three   1.698160\n",
      "19      Repayment_Status_March_marDelay Two   2.320128\n",
      "20   Repayment_Status_April_aprilDelay Four   1.604850\n",
      "21    Repayment_Status_April_aprilDelay One   1.501036\n",
      "22    Repayment_Status_April_aprilDelay Six  22.941692\n",
      "23  Repayment_Status_April_aprilDelay Three   1.637758\n",
      "24    Repayment_Status_April_aprilDelay Two   2.446880\n",
      "25       Repayment_Status_May_mayDelay Four   1.774904\n",
      "26        Repayment_Status_May_mayDelay Six  38.006635\n",
      "27      Repayment_Status_May_mayDelay Three   1.476868\n",
      "28        Repayment_Status_May_mayDelay Two   2.517956\n",
      "29      Repayment_Status_June_juneDelay Six  15.714777\n",
      "30    Repayment_Status_June_juneDelay Three   1.544591\n",
      "31      Repayment_Status_June_juneDelay Two   1.934852\n",
      "32                            Credit_Amount   3.793562\n",
      "33                                Age_Years   3.672085\n",
      "34                          Jan_Bill_Amount  13.649078\n",
      "35                          Feb_Bill_Amount   7.066970\n",
      "36                     Previous_Payment_Jan   1.431867\n",
      "37                     Previous_Payment_Feb   1.249320\n",
      "38                   Previous_Payment_March   1.279765\n",
      "39                   Previous_Payment_April   1.215143\n",
      "40                     Previous_Payment_May   1.204208\n",
      "41                    Previous_Payment_June   1.205600\n"
     ]
    }
   ],
   "source": [
    "from statsmodels.stats.outliers_influence import variance_inflation_factor \n",
    "# VIF dataframe \n",
    "vif_data = pd.DataFrame() \n",
    "vif_data[\"feature\"] = x_train.columns\n",
    "# calculating VIF for each feature \n",
    "vif_data[\"VIF\"] = [variance_inflation_factor(x_train.values, i) \n",
    "                          for i in range(len(x_train.columns))] \n",
    "  \n",
    "print(vif_data)"
   ]
  },
  {
   "cell_type": "code",
   "execution_count": 131,
   "metadata": {},
   "outputs": [
    {
     "data": {
      "text/plain": [
       "const                                      0.177686\n",
       "Gender_male                                0.020262\n",
       "Academic_Qualification_Others             -0.119081\n",
       "Academic_Qualification_Postgraduate       -0.018868\n",
       "Academic_Qualification_Professional       -0.088479\n",
       "Academic_Qualification_Undergraduate      -0.001159\n",
       "Marital_Abs                                0.027911\n",
       "Repayment_Status_Jan_janDelay Four         0.315051\n",
       "Repayment_Status_Jan_janDelay One          0.113909\n",
       "Repayment_Status_Jan_janDelay Six          0.139941\n",
       "Repayment_Status_Jan_janDelay Three        0.370460\n",
       "Repayment_Status_Jan_janDelay Two          0.405105\n",
       "Repayment_Status_Feb_febDelay Four        -0.087865\n",
       "Repayment_Status_Feb_febDelay One         -0.153800\n",
       "Repayment_Status_Feb_febDelay Six          0.193883\n",
       "Repayment_Status_Feb_febDelay Three        0.072310\n",
       "Repayment_Status_Feb_febDelay Two          0.072132\n",
       "Repayment_Status_March_marDelay Four       0.069894\n",
       "Repayment_Status_March_marDelay One       -0.118153\n",
       "Repayment_Status_March_marDelay Three      0.117292\n",
       "Repayment_Status_March_marDelay Two        0.062882\n",
       "Repayment_Status_April_aprilDelay Four     0.064115\n",
       "Repayment_Status_April_aprilDelay One      0.092839\n",
       "Repayment_Status_April_aprilDelay Six     -0.403872\n",
       "Repayment_Status_April_aprilDelay Three    0.028510\n",
       "Repayment_Status_April_aprilDelay Two      0.043192\n",
       "Repayment_Status_May_mayDelay Four        -0.102724\n",
       "Repayment_Status_May_mayDelay Six          0.321351\n",
       "Repayment_Status_May_mayDelay Three        0.058017\n",
       "Repayment_Status_May_mayDelay Two          0.059742\n",
       "Repayment_Status_June_juneDelay Six        0.272556\n",
       "Repayment_Status_June_juneDelay Three      0.159555\n",
       "Repayment_Status_June_juneDelay Two        0.063383\n",
       "Credit_Amount                             -0.339804\n",
       "Age_Years                                  0.073528\n",
       "Jan_Bill_Amount                           -0.149135\n",
       "Feb_Bill_Amount                            0.167866\n",
       "Previous_Payment_Jan                      -0.603379\n",
       "Previous_Payment_Feb                      -0.059420\n",
       "Previous_Payment_March                    -0.192589\n",
       "Previous_Payment_April                    -0.105984\n",
       "Previous_Payment_May                      -0.142525\n",
       "Previous_Payment_June                     -0.106781\n",
       "dtype: float64"
      ]
     },
     "execution_count": 131,
     "metadata": {},
     "output_type": "execute_result"
    }
   ],
   "source": [
    "import statsmodels.api as sm\n",
    "X_train_sm = x_train\n",
    "#Unlike SKLearn, statsmodels don't automatically fit a constant, \n",
    "#so you need to use the method sm.add_constant(X) in order to add a constant. \n",
    "X_train_sm = sm.add_constant(X_train_sm)\n",
    "# create a fitted model in one line\n",
    "glm_4 = sm.OLS(y_train,X_train_sm).fit()\n",
    "\n",
    "# print the coefficients\n",
    "glm_4.params"
   ]
  },
  {
   "cell_type": "code",
   "execution_count": 132,
   "metadata": {},
   "outputs": [
    {
     "name": "stdout",
     "output_type": "stream",
     "text": [
      "                            OLS Regression Results                            \n",
      "==============================================================================\n",
      "Dep. Variable:        Default_Payment   R-squared:                       0.208\n",
      "Model:                            OLS   Adj. R-squared:                  0.206\n",
      "Method:                 Least Squares   F-statistic:                     131.0\n",
      "Date:                Tue, 24 Nov 2020   Prob (F-statistic):               0.00\n",
      "Time:                        15:35:48   Log-Likelihood:                -8965.7\n",
      "No. Observations:               21000   AIC:                         1.802e+04\n",
      "Df Residuals:                   20957   BIC:                         1.836e+04\n",
      "Df Model:                          42                                         \n",
      "Covariance Type:            nonrobust                                         \n",
      "===========================================================================================================\n",
      "                                              coef    std err          t      P>|t|      [0.025      0.975]\n",
      "-----------------------------------------------------------------------------------------------------------\n",
      "const                                       0.1777      0.014     12.915      0.000       0.151       0.205\n",
      "Gender_male                                 0.0203      0.005      3.840      0.000       0.010       0.031\n",
      "Academic_Qualification_Others              -0.1191      0.027     -4.416      0.000      -0.172      -0.066\n",
      "Academic_Qualification_Postgraduate        -0.0189      0.008     -2.490      0.013      -0.034      -0.004\n",
      "Academic_Qualification_Professional        -0.0885      0.040     -2.197      0.028      -0.167      -0.010\n",
      "Academic_Qualification_Undergraduate       -0.0012      0.006     -0.196      0.844      -0.013       0.010\n",
      "Marital_Abs                                 0.0279      0.025      1.098      0.272      -0.022       0.078\n",
      "Repayment_Status_Jan_janDelay Four          0.3151      0.056      5.662      0.000       0.206       0.424\n",
      "Repayment_Status_Jan_janDelay One           0.1139      0.009     12.251      0.000       0.096       0.132\n",
      "Repayment_Status_Jan_janDelay Six           0.1399      0.115      1.220      0.223      -0.085       0.365\n",
      "Repayment_Status_Jan_janDelay Three         0.3705      0.028     13.332      0.000       0.316       0.425\n",
      "Repayment_Status_Jan_janDelay Two           0.4051      0.011     36.505      0.000       0.383       0.427\n",
      "Repayment_Status_Feb_febDelay Four         -0.0879      0.054     -1.637      0.102      -0.193       0.017\n",
      "Repayment_Status_Feb_febDelay One          -0.1538      0.086     -1.793      0.073      -0.322       0.014\n",
      "Repayment_Status_Feb_febDelay Six           0.1939      0.135      1.438      0.150      -0.070       0.458\n",
      "Repayment_Status_Feb_febDelay Three         0.0723      0.028      2.562      0.010       0.017       0.128\n",
      "Repayment_Status_Feb_febDelay Two           0.0721      0.011      6.309      0.000       0.050       0.095\n",
      "Repayment_Status_March_marDelay Four        0.0699      0.069      1.019      0.308      -0.065       0.204\n",
      "Repayment_Status_March_marDelay One        -0.1182      0.276     -0.428      0.669      -0.659       0.423\n",
      "Repayment_Status_March_marDelay Three       0.1173      0.037      3.170      0.002       0.045       0.190\n",
      "Repayment_Status_March_marDelay Two         0.0629      0.011      5.778      0.000       0.042       0.084\n",
      "Repayment_Status_April_aprilDelay Four      0.0641      0.069      0.935      0.350      -0.070       0.199\n",
      "Repayment_Status_April_aprilDelay One       0.0928      0.455      0.204      0.838      -0.799       0.984\n",
      "Repayment_Status_April_aprilDelay Six      -0.4039      0.265     -1.524      0.128      -0.923       0.116\n",
      "Repayment_Status_April_aprilDelay Three     0.0285      0.042      0.682      0.495      -0.053       0.110\n",
      "Repayment_Status_April_aprilDelay Two       0.0432      0.012      3.538      0.000       0.019       0.067\n",
      "Repayment_Status_May_mayDelay Four         -0.1027      0.062     -1.662      0.097      -0.224       0.018\n",
      "Repayment_Status_May_mayDelay Six           0.3214      0.341      0.942      0.346      -0.347       0.990\n",
      "Repayment_Status_May_mayDelay Three         0.0580      0.040      1.455      0.146      -0.020       0.136\n",
      "Repayment_Status_May_mayDelay Two           0.0597      0.014      4.392      0.000       0.033       0.086\n",
      "Repayment_Status_June_juneDelay Six         0.2726      0.217      1.256      0.209      -0.153       0.698\n",
      "Repayment_Status_June_juneDelay Three       0.1596      0.038      4.178      0.000       0.085       0.234\n",
      "Repayment_Status_June_juneDelay Two         0.0634      0.012      5.470      0.000       0.041       0.086\n",
      "Credit_Amount                              -0.3398      0.046     -7.453      0.000      -0.429      -0.250\n",
      "Age_Years                                   0.0735      0.017      4.296      0.000       0.040       0.107\n",
      "Jan_Bill_Amount                            -0.1491      0.052     -2.851      0.004      -0.252      -0.047\n",
      "Feb_Bill_Amount                             0.1679      0.058      2.896      0.004       0.054       0.281\n",
      "Previous_Payment_Jan                       -0.6034      0.150     -4.034      0.000      -0.897      -0.310\n",
      "Previous_Payment_Feb                       -0.0594      0.207     -0.287      0.774      -0.465       0.346\n",
      "Previous_Payment_March                     -0.1926      0.136     -1.419      0.156      -0.459       0.074\n",
      "Previous_Payment_April                     -0.1060      0.084     -1.268      0.205      -0.270       0.058\n",
      "Previous_Payment_May                       -0.1425      0.085     -1.678      0.093      -0.309       0.024\n",
      "Previous_Payment_June                      -0.1068      0.081     -1.316      0.188      -0.266       0.052\n",
      "==============================================================================\n",
      "Omnibus:                     3538.616   Durbin-Watson:                   2.020\n",
      "Prob(Omnibus):                  0.000   Jarque-Bera (JB):             5607.506\n",
      "Skew:                           1.199   Prob(JB):                         0.00\n",
      "Kurtosis:                       3.810   Cond. No.                         245.\n",
      "==============================================================================\n",
      "\n",
      "Warnings:\n",
      "[1] Standard Errors assume that the covariance matrix of the errors is correctly specified.\n"
     ]
    }
   ],
   "source": [
    "print(glm_4.summary())"
   ]
  },
  {
   "cell_type": "code",
   "execution_count": 133,
   "metadata": {},
   "outputs": [],
   "source": [
    "x4=x_final[['Gender_male',\n",
    "       'Academic_Qualification_Others', 'Academic_Qualification_Postgraduate',\n",
    "       'Academic_Qualification_Professional',\n",
    "       'Academic_Qualification_Undergraduate', 'Marital_Abs',\n",
    "       'Repayment_Status_Jan_janDelay Four',\n",
    "       'Repayment_Status_Jan_janDelay One',\n",
    "       'Repayment_Status_Jan_janDelay Six',\n",
    "       'Repayment_Status_Jan_janDelay Three',\n",
    "       'Repayment_Status_Jan_janDelay Two', \n",
    "       'Repayment_Status_Feb_febDelay Four',\n",
    "       'Repayment_Status_Feb_febDelay One',\n",
    "      'Repayment_Status_Feb_febDelay Three',\n",
    "       'Repayment_Status_Feb_febDelay Two', \n",
    "       'Repayment_Status_March_marDelay Four',\n",
    "       'Repayment_Status_March_marDelay One',\n",
    "       'Repayment_Status_March_marDelay Three',\n",
    "       'Repayment_Status_March_marDelay Two',\n",
    "       'Repayment_Status_April_aprilDelay Four',\n",
    "       'Repayment_Status_April_aprilDelay One',\n",
    "      'Repayment_Status_April_aprilDelay Three',\n",
    "       'Repayment_Status_April_aprilDelay Two',\n",
    "      'Repayment_Status_May_mayDelay Four',\n",
    "      'Repayment_Status_May_mayDelay Three',\n",
    "       'Repayment_Status_May_mayDelay Two',\n",
    "     'Repayment_Status_June_juneDelay Three',\n",
    "       'Repayment_Status_June_juneDelay Two', \n",
    "       'Credit_Amount', 'Age_Years', 'Feb_Bill_Amount',\n",
    "      'Previous_Payment_Jan',\n",
    "       'Previous_Payment_Feb', 'Previous_Payment_March',\n",
    "       'Previous_Payment_April', 'Previous_Payment_May',\n",
    "       'Previous_Payment_June']]"
   ]
  },
  {
   "cell_type": "code",
   "execution_count": 134,
   "metadata": {},
   "outputs": [
    {
     "name": "stdout",
     "output_type": "stream",
     "text": [
      "x_train  (21000, 37)\n",
      "x_test  (9000, 37)\n",
      "y_train  (21000,)\n",
      "y_test  (9000,)\n"
     ]
    }
   ],
   "source": [
    "# Train Test Splitting \n",
    "from sklearn.model_selection import train_test_split\n",
    "x_train,x_test, y_train, y_test = train_test_split(x4, y, test_size = 0.30, random_state=0)\n",
    "print(\"x_train \",x_train.shape)\n",
    "print(\"x_test \",x_test.shape)\n",
    "print(\"y_train \",y_train.shape)\n",
    "print(\"y_test \",y_test.shape)"
   ]
  },
  {
   "cell_type": "code",
   "execution_count": 135,
   "metadata": {},
   "outputs": [
    {
     "name": "stderr",
     "output_type": "stream",
     "text": [
      "C:\\Users\\HP\\anaconda3\\lib\\site-packages\\sklearn\\linear_model\\_logistic.py:762: ConvergenceWarning: lbfgs failed to converge (status=1):\n",
      "STOP: TOTAL NO. of ITERATIONS REACHED LIMIT.\n",
      "\n",
      "Increase the number of iterations (max_iter) or scale the data as shown in:\n",
      "    https://scikit-learn.org/stable/modules/preprocessing.html\n",
      "Please also refer to the documentation for alternative solver options:\n",
      "    https://scikit-learn.org/stable/modules/linear_model.html#logistic-regression\n",
      "  n_iter_i = _check_optimize_result(\n"
     ]
    }
   ],
   "source": [
    "from sklearn.linear_model import LogisticRegression\n",
    "glm = LogisticRegression()\n",
    "model = glm.fit(x_train,y_train)\n",
    "predicted = model.predict(x_test)"
   ]
  },
  {
   "cell_type": "code",
   "execution_count": 136,
   "metadata": {},
   "outputs": [],
   "source": [
    "from sklearn.metrics import confusion_matrix\n",
    "from sklearn.metrics import roc_curve, roc_auc_score"
   ]
  },
  {
   "cell_type": "code",
   "execution_count": 140,
   "metadata": {},
   "outputs": [],
   "source": [
    "# Function For Logistic Regression Create Summary For Logistic Regression\n",
    "\n",
    "def plot_roc_curve(fpr, tpr):\n",
    "    plt.plot(fpr, tpr, color='orange', label='ROC')\n",
    "    plt.plot([0, 1], [0, 1], color='darkblue', linestyle=':')\n",
    "    plt.xlabel('False Positive Rate')\n",
    "    plt.ylabel('True Positive Rate')\n",
    "    plt.title('Receiver Operating Characteristic (ROC) Curve')\n",
    "    plt.legend()\n",
    "    plt.show()\n",
    "\n",
    "def get_summary(y_test,predicted):\n",
    "    # Confusion Matrix\n",
    "    conf_mat = confusion_matrix(y_test,predicted)\n",
    "    TP = conf_mat[0,0:1]\n",
    "    FP = conf_mat[0,1:2]\n",
    "    FN = conf_mat[1,0:1]\n",
    "    TN = conf_mat[1,1:2]\n",
    "    \n",
    "    accuracy = (TP+TN)/((FN+FP)+(TP+TN))\n",
    "    sensitivity = TP/(TP+FN)\n",
    "    specificity = TN/(TN+FP)\n",
    "    precision = TP/(TP+FP)\n",
    "    recall =  TP / (TP + FN)\n",
    "    fScore =metrics.f1_score(y_test,predicted)\n",
    "    auc = roc_auc_score(y_test, predicted)\n",
    "\n",
    "    print(\"Confusion Matrix:\\n\",conf_mat)\n",
    "    print(\"Accuracy:\",accuracy)\n",
    "    print(\"Sensitivity :\",sensitivity)\n",
    "    print(\"Specificity :\",specificity)\n",
    "    print(\"Precision:\",precision)\n",
    "    print(\"Recall:\",recall)\n",
    "    print(\"F-score:\",fScore)\n",
    "    print(\"AUC:\",auc)\n",
    "    print(\"ROC curve:\")\n",
    "    fpr, tpr, thresholds = roc_curve(y_test, predicted)\n",
    "    plot_roc_curve(fpr, tpr)"
   ]
  },
  {
   "cell_type": "code",
   "execution_count": 141,
   "metadata": {},
   "outputs": [
    {
     "name": "stdout",
     "output_type": "stream",
     "text": [
      "Confusion Matrix:\n",
      " [[6731  329]\n",
      " [1260  680]]\n",
      "Accuracy: [0.82344444]\n",
      "Sensitivity : [0.84232261]\n",
      "Specificity : [0.67393459]\n",
      "Precision: [0.95339943]\n",
      "Recall: [0.84232261]\n",
      "F-score: 0.46117327907765343\n",
      "AUC: 0.6519574486726439\n",
      "ROC curve:\n"
     ]
    },
    {
     "data": {
      "image/png": "[encoded data removed]",
      "text/plain": [
       "<Figure size 432x288 with 1 Axes>"
      ]
     },
     "metadata": {
      "needs_background": "light"
     },
     "output_type": "display_data"
    }
   ],
   "source": [
    "get_summary(y_test,predicted)"
   ]
  },
  {
   "cell_type": "code",
   "execution_count": 142,
   "metadata": {},
   "outputs": [
    {
     "name": "stdout",
     "output_type": "stream",
     "text": [
      "                                    feature       VIF\n",
      "0                               Gender_male  1.609595\n",
      "1             Academic_Qualification_Others  1.019972\n",
      "2       Academic_Qualification_Postgraduate  1.384346\n",
      "3       Academic_Qualification_Professional  1.009862\n",
      "4      Academic_Qualification_Undergraduate  1.711374\n",
      "5                               Marital_Abs  1.025896\n",
      "6        Repayment_Status_Jan_janDelay Four  1.211443\n",
      "7         Repayment_Status_Jan_janDelay One  1.590908\n",
      "8         Repayment_Status_Jan_janDelay Six  1.215135\n",
      "9       Repayment_Status_Jan_janDelay Three  1.188867\n",
      "10        Repayment_Status_Jan_janDelay Two  1.672259\n",
      "11       Repayment_Status_Feb_febDelay Four  1.622428\n",
      "12        Repayment_Status_Feb_febDelay One  1.173366\n",
      "13      Repayment_Status_Feb_febDelay Three  1.379480\n",
      "14        Repayment_Status_Feb_febDelay Two  2.630643\n",
      "15     Repayment_Status_March_marDelay Four  1.654970\n",
      "16      Repayment_Status_March_marDelay One  1.659779\n",
      "17    Repayment_Status_March_marDelay Three  1.690956\n",
      "18      Repayment_Status_March_marDelay Two  2.312331\n",
      "19   Repayment_Status_April_aprilDelay Four  1.526646\n",
      "20    Repayment_Status_April_aprilDelay One  1.500978\n",
      "21  Repayment_Status_April_aprilDelay Three  1.624542\n",
      "22    Repayment_Status_April_aprilDelay Two  2.438001\n",
      "23       Repayment_Status_May_mayDelay Four  1.688345\n",
      "24      Repayment_Status_May_mayDelay Three  1.473499\n",
      "25        Repayment_Status_May_mayDelay Two  2.516317\n",
      "26    Repayment_Status_June_juneDelay Three  1.538092\n",
      "27      Repayment_Status_June_juneDelay Two  1.926691\n",
      "28                            Credit_Amount  3.465925\n",
      "29                                Age_Years  3.134019\n",
      "30                          Feb_Bill_Amount  3.030770\n",
      "31                     Previous_Payment_Jan  1.398157\n",
      "32                     Previous_Payment_Feb  1.248812\n",
      "33                   Previous_Payment_March  1.278913\n",
      "34                   Previous_Payment_April  1.214319\n",
      "35                     Previous_Payment_May  1.203991\n",
      "36                    Previous_Payment_June  1.205457\n"
     ]
    }
   ],
   "source": [
    "from statsmodels.stats.outliers_influence import variance_inflation_factor \n",
    "# VIF dataframe \n",
    "vif_data = pd.DataFrame() \n",
    "vif_data[\"feature\"] = x_train.columns\n",
    "# calculating VIF for each feature \n",
    "vif_data[\"VIF\"] = [variance_inflation_factor(x_train.values, i) \n",
    "                          for i in range(len(x_train.columns))] \n",
    "  \n",
    "print(vif_data)"
   ]
  },
  {
   "cell_type": "code",
   "execution_count": null,
   "metadata": {},
   "outputs": [],
   "source": []
  },
  {
   "cell_type": "code",
   "execution_count": null,
   "metadata": {},
   "outputs": [],
   "source": []
  },
  {
   "cell_type": "code",
   "execution_count": null,
   "metadata": {},
   "outputs": [],
   "source": []
  }
 ],
 "metadata": {
  "kernelspec": {
   "display_name": "Python 3",
   "language": "python",
   "name": "python3"
  },
  "language_info": {
   "codemirror_mode": {
    "name": "ipython",
    "version": 3
   },
   "file_extension": ".py",
   "mimetype": "text/x-python",
   "name": "python",
   "nbconvert_exporter": "python",
   "pygments_lexer": "ipython3",
   "version": "3.8.3"
  }
 },
 "nbformat": 4,
 "nbformat_minor": 4
}
